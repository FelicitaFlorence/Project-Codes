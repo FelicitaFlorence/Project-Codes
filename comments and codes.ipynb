{
  "cells": [
    {
      "cell_type": "code",
      "source": [],
      "metadata": {
        "id": "x214XP-3Vf3A"
      },
      "id": "x214XP-3Vf3A",
      "execution_count": 1,
      "outputs": []
    },
    {
      "cell_type": "code",
      "execution_count": 2,
      "id": "4a2fd8e4-5042-4c4a-a374-34a7e76f019a",
      "metadata": {
        "tags": [],
        "id": "4a2fd8e4-5042-4c4a-a374-34a7e76f019a"
      },
      "outputs": [],
      "source": [
        "import pandas as pd"
      ]
    },
    {
      "cell_type": "code",
      "execution_count": 3,
      "id": "031d0de1-2af8-45ed-acb3-be3f331c39ca",
      "metadata": {
        "tags": [],
        "id": "031d0de1-2af8-45ed-acb3-be3f331c39ca"
      },
      "outputs": [],
      "source": [
        "from collections import Counter"
      ]
    },
    {
      "cell_type": "code",
      "execution_count": 4,
      "id": "d92743b1-675d-4108-a2a8-784b0de7483c",
      "metadata": {
        "tags": [],
        "colab": {
          "base_uri": "https://localhost:8080/",
          "height": 35
        },
        "id": "d92743b1-675d-4108-a2a8-784b0de7483c",
        "outputId": "540a40db-6101-4385-a616-a0a55d86e7a9"
      },
      "outputs": [
        {
          "output_type": "execute_result",
          "data": {
            "text/plain": [
              "'/content'"
            ],
            "application/vnd.google.colaboratory.intrinsic+json": {
              "type": "string"
            }
          },
          "metadata": {},
          "execution_count": 4
        }
      ],
      "source": [
        "pwd"
      ]
    },
    {
      "cell_type": "code",
      "source": [
        "import os\n",
        "print(os.getcwd())"
      ],
      "metadata": {
        "colab": {
          "base_uri": "https://localhost:8080/"
        },
        "id": "axrv3Avwvcw5",
        "outputId": "82b80c5b-0b8a-4245-ff52-91e7a5406c8f"
      },
      "id": "axrv3Avwvcw5",
      "execution_count": 5,
      "outputs": [
        {
          "output_type": "stream",
          "name": "stdout",
          "text": [
            "/content\n"
          ]
        }
      ]
    },
    {
      "cell_type": "code",
      "execution_count": 6,
      "id": "54001eed-938e-4b8b-84a1-c3d04df6f9b0",
      "metadata": {
        "tags": [],
        "id": "54001eed-938e-4b8b-84a1-c3d04df6f9b0"
      },
      "outputs": [],
      "source": [
        "# Read the CSV file using pandas\n",
        "df = pd.read_csv(\"BC_Transaction.csv\")"
      ]
    },
    {
      "cell_type": "code",
      "execution_count": 7,
      "id": "1550024b-0c7f-4569-b8e4-b1d1eeb668c6",
      "metadata": {
        "tags": [],
        "colab": {
          "base_uri": "https://localhost:8080/",
          "height": 243
        },
        "id": "1550024b-0c7f-4569-b8e4-b1d1eeb668c6",
        "outputId": "595a496a-385a-44ea-c81f-613f7ca34043"
      },
      "outputs": [
        {
          "output_type": "execute_result",
          "data": {
            "text/plain": [
              "   A   blockNum                                             txHash  gas limit  \\\n",
              "0  0  0x1042864  0xde9a608704ab9bbdc50e2686dbab7e5a5ffe76946c73...      21000   \n",
              "1  1  0x1042864  0x55a1c163c0900c82c01c1d7bd1ad26251fecc6492883...      21000   \n",
              "2  2  0x1042864  0x1ea3a9c021d1070bbb304a640bb038f99fa3b68aa613...      21000   \n",
              "3  3  0x1042864  0x35c51f095757079f5a8d95d725540b8ee4a6bc8bef1a...     126164   \n",
              "4  4  0x1042864  0x55d38abdef2a23dc112735b96c526087ca2c0e6c68d5...     218432   \n",
              "\n",
              "   gas price                                        from  \\\n",
              "0  45.651805  0x043022ef9fca1066024d19d681e2ccf44ff90de3   \n",
              "1  32.570537  0x82d03f4bae63b03b4da9f45d812dd519610616b7   \n",
              "2  32.570537  0xb4ce76ac0e0b278b5047d3ed0cbcdaab9c84e6bd   \n",
              "3  24.507473  0xae2fc483527b8ef99eb5d9b44875f005ba1fae13   \n",
              "4  24.607473  0xb20eeb6ef659b0da5ecc3403182db2129a43f615   \n",
              "\n",
              "                                           to  \\\n",
              "0  0xf4826e0892195796fae28d8f362ca294704d89c1   \n",
              "1  0x82d03f4bae63b03b4da9f45d812dd519610616b7   \n",
              "2  0xb0ba83044740818d5691b691be7f93affc221bdb   \n",
              "3  0x6b75d8af000000e20b7a7ddf000ba900b4009a80   \n",
              "4  0xef1c6e67703c7bd7107eed8303fbe6ec2554bf6b   \n",
              "\n",
              "                                                data         value    tx type  \\\n",
              "0                                                 0x  1.235000e+18  financial   \n",
              "1                                                 0x  3.368850e+15  financial   \n",
              "2                                                 0x  2.186940e+16  financial   \n",
              "3  0x642f1b498c00e1ccc2afff80f6cc6144eaeb95c46cc3...  4.426607e+07   contract   \n",
              "4  0x3593564c000000000000000000000000000000000000...  7.533000e+18   contract   \n",
              "\n",
              "   used gas  status  \n",
              "0   21000.0     1.0  \n",
              "1   21000.0     1.0  \n",
              "2   21000.0     1.0  \n",
              "3   88315.0     1.0  \n",
              "4  135536.0     1.0  "
            ],
            "text/html": [
              "\n",
              "  <div id=\"df-58f74a46-2963-4ddc-9e8e-6547aa28ee90\" class=\"colab-df-container\">\n",
              "    <div>\n",
              "<style scoped>\n",
              "    .dataframe tbody tr th:only-of-type {\n",
              "        vertical-align: middle;\n",
              "    }\n",
              "\n",
              "    .dataframe tbody tr th {\n",
              "        vertical-align: top;\n",
              "    }\n",
              "\n",
              "    .dataframe thead th {\n",
              "        text-align: right;\n",
              "    }\n",
              "</style>\n",
              "<table border=\"1\" class=\"dataframe\">\n",
              "  <thead>\n",
              "    <tr style=\"text-align: right;\">\n",
              "      <th></th>\n",
              "      <th>A</th>\n",
              "      <th>blockNum</th>\n",
              "      <th>txHash</th>\n",
              "      <th>gas limit</th>\n",
              "      <th>gas price</th>\n",
              "      <th>from</th>\n",
              "      <th>to</th>\n",
              "      <th>data</th>\n",
              "      <th>value</th>\n",
              "      <th>tx type</th>\n",
              "      <th>used gas</th>\n",
              "      <th>status</th>\n",
              "    </tr>\n",
              "  </thead>\n",
              "  <tbody>\n",
              "    <tr>\n",
              "      <th>0</th>\n",
              "      <td>0</td>\n",
              "      <td>0x1042864</td>\n",
              "      <td>0xde9a608704ab9bbdc50e2686dbab7e5a5ffe76946c73...</td>\n",
              "      <td>21000</td>\n",
              "      <td>45.651805</td>\n",
              "      <td>0x043022ef9fca1066024d19d681e2ccf44ff90de3</td>\n",
              "      <td>0xf4826e0892195796fae28d8f362ca294704d89c1</td>\n",
              "      <td>0x</td>\n",
              "      <td>1.235000e+18</td>\n",
              "      <td>financial</td>\n",
              "      <td>21000.0</td>\n",
              "      <td>1.0</td>\n",
              "    </tr>\n",
              "    <tr>\n",
              "      <th>1</th>\n",
              "      <td>1</td>\n",
              "      <td>0x1042864</td>\n",
              "      <td>0x55a1c163c0900c82c01c1d7bd1ad26251fecc6492883...</td>\n",
              "      <td>21000</td>\n",
              "      <td>32.570537</td>\n",
              "      <td>0x82d03f4bae63b03b4da9f45d812dd519610616b7</td>\n",
              "      <td>0x82d03f4bae63b03b4da9f45d812dd519610616b7</td>\n",
              "      <td>0x</td>\n",
              "      <td>3.368850e+15</td>\n",
              "      <td>financial</td>\n",
              "      <td>21000.0</td>\n",
              "      <td>1.0</td>\n",
              "    </tr>\n",
              "    <tr>\n",
              "      <th>2</th>\n",
              "      <td>2</td>\n",
              "      <td>0x1042864</td>\n",
              "      <td>0x1ea3a9c021d1070bbb304a640bb038f99fa3b68aa613...</td>\n",
              "      <td>21000</td>\n",
              "      <td>32.570537</td>\n",
              "      <td>0xb4ce76ac0e0b278b5047d3ed0cbcdaab9c84e6bd</td>\n",
              "      <td>0xb0ba83044740818d5691b691be7f93affc221bdb</td>\n",
              "      <td>0x</td>\n",
              "      <td>2.186940e+16</td>\n",
              "      <td>financial</td>\n",
              "      <td>21000.0</td>\n",
              "      <td>1.0</td>\n",
              "    </tr>\n",
              "    <tr>\n",
              "      <th>3</th>\n",
              "      <td>3</td>\n",
              "      <td>0x1042864</td>\n",
              "      <td>0x35c51f095757079f5a8d95d725540b8ee4a6bc8bef1a...</td>\n",
              "      <td>126164</td>\n",
              "      <td>24.507473</td>\n",
              "      <td>0xae2fc483527b8ef99eb5d9b44875f005ba1fae13</td>\n",
              "      <td>0x6b75d8af000000e20b7a7ddf000ba900b4009a80</td>\n",
              "      <td>0x642f1b498c00e1ccc2afff80f6cc6144eaeb95c46cc3...</td>\n",
              "      <td>4.426607e+07</td>\n",
              "      <td>contract</td>\n",
              "      <td>88315.0</td>\n",
              "      <td>1.0</td>\n",
              "    </tr>\n",
              "    <tr>\n",
              "      <th>4</th>\n",
              "      <td>4</td>\n",
              "      <td>0x1042864</td>\n",
              "      <td>0x55d38abdef2a23dc112735b96c526087ca2c0e6c68d5...</td>\n",
              "      <td>218432</td>\n",
              "      <td>24.607473</td>\n",
              "      <td>0xb20eeb6ef659b0da5ecc3403182db2129a43f615</td>\n",
              "      <td>0xef1c6e67703c7bd7107eed8303fbe6ec2554bf6b</td>\n",
              "      <td>0x3593564c000000000000000000000000000000000000...</td>\n",
              "      <td>7.533000e+18</td>\n",
              "      <td>contract</td>\n",
              "      <td>135536.0</td>\n",
              "      <td>1.0</td>\n",
              "    </tr>\n",
              "  </tbody>\n",
              "</table>\n",
              "</div>\n",
              "    <div class=\"colab-df-buttons\">\n",
              "\n",
              "  <div class=\"colab-df-container\">\n",
              "    <button class=\"colab-df-convert\" onclick=\"convertToInteractive('df-58f74a46-2963-4ddc-9e8e-6547aa28ee90')\"\n",
              "            title=\"Convert this dataframe to an interactive table.\"\n",
              "            style=\"display:none;\">\n",
              "\n",
              "  <svg xmlns=\"http://www.w3.org/2000/svg\" height=\"24px\" viewBox=\"0 -960 960 960\">\n",
              "    <path d=\"M120-120v-720h720v720H120Zm60-500h600v-160H180v160Zm220 220h160v-160H400v160Zm0 220h160v-160H400v160ZM180-400h160v-160H180v160Zm440 0h160v-160H620v160ZM180-180h160v-160H180v160Zm440 0h160v-160H620v160Z\"/>\n",
              "  </svg>\n",
              "    </button>\n",
              "\n",
              "  <style>\n",
              "    .colab-df-container {\n",
              "      display:flex;\n",
              "      gap: 12px;\n",
              "    }\n",
              "\n",
              "    .colab-df-convert {\n",
              "      background-color: #E8F0FE;\n",
              "      border: none;\n",
              "      border-radius: 50%;\n",
              "      cursor: pointer;\n",
              "      display: none;\n",
              "      fill: #1967D2;\n",
              "      height: 32px;\n",
              "      padding: 0 0 0 0;\n",
              "      width: 32px;\n",
              "    }\n",
              "\n",
              "    .colab-df-convert:hover {\n",
              "      background-color: #E2EBFA;\n",
              "      box-shadow: 0px 1px 2px rgba(60, 64, 67, 0.3), 0px 1px 3px 1px rgba(60, 64, 67, 0.15);\n",
              "      fill: #174EA6;\n",
              "    }\n",
              "\n",
              "    .colab-df-buttons div {\n",
              "      margin-bottom: 4px;\n",
              "    }\n",
              "\n",
              "    [theme=dark] .colab-df-convert {\n",
              "      background-color: #3B4455;\n",
              "      fill: #D2E3FC;\n",
              "    }\n",
              "\n",
              "    [theme=dark] .colab-df-convert:hover {\n",
              "      background-color: #434B5C;\n",
              "      box-shadow: 0px 1px 3px 1px rgba(0, 0, 0, 0.15);\n",
              "      filter: drop-shadow(0px 1px 2px rgba(0, 0, 0, 0.3));\n",
              "      fill: #FFFFFF;\n",
              "    }\n",
              "  </style>\n",
              "\n",
              "    <script>\n",
              "      const buttonEl =\n",
              "        document.querySelector('#df-58f74a46-2963-4ddc-9e8e-6547aa28ee90 button.colab-df-convert');\n",
              "      buttonEl.style.display =\n",
              "        google.colab.kernel.accessAllowed ? 'block' : 'none';\n",
              "\n",
              "      async function convertToInteractive(key) {\n",
              "        const element = document.querySelector('#df-58f74a46-2963-4ddc-9e8e-6547aa28ee90');\n",
              "        const dataTable =\n",
              "          await google.colab.kernel.invokeFunction('convertToInteractive',\n",
              "                                                    [key], {});\n",
              "        if (!dataTable) return;\n",
              "\n",
              "        const docLinkHtml = 'Like what you see? Visit the ' +\n",
              "          '<a target=\"_blank\" href=https://colab.research.google.com/notebooks/data_table.ipynb>data table notebook</a>'\n",
              "          + ' to learn more about interactive tables.';\n",
              "        element.innerHTML = '';\n",
              "        dataTable['output_type'] = 'display_data';\n",
              "        await google.colab.output.renderOutput(dataTable, element);\n",
              "        const docLink = document.createElement('div');\n",
              "        docLink.innerHTML = docLinkHtml;\n",
              "        element.appendChild(docLink);\n",
              "      }\n",
              "    </script>\n",
              "  </div>\n",
              "\n",
              "\n",
              "<div id=\"df-eacf6f9f-98d4-4baf-b043-3dd3e763a99a\">\n",
              "  <button class=\"colab-df-quickchart\" onclick=\"quickchart('df-eacf6f9f-98d4-4baf-b043-3dd3e763a99a')\"\n",
              "            title=\"Suggest charts\"\n",
              "            style=\"display:none;\">\n",
              "\n",
              "<svg xmlns=\"http://www.w3.org/2000/svg\" height=\"24px\"viewBox=\"0 0 24 24\"\n",
              "     width=\"24px\">\n",
              "    <g>\n",
              "        <path d=\"M19 3H5c-1.1 0-2 .9-2 2v14c0 1.1.9 2 2 2h14c1.1 0 2-.9 2-2V5c0-1.1-.9-2-2-2zM9 17H7v-7h2v7zm4 0h-2V7h2v10zm4 0h-2v-4h2v4z\"/>\n",
              "    </g>\n",
              "</svg>\n",
              "  </button>\n",
              "\n",
              "<style>\n",
              "  .colab-df-quickchart {\n",
              "      --bg-color: #E8F0FE;\n",
              "      --fill-color: #1967D2;\n",
              "      --hover-bg-color: #E2EBFA;\n",
              "      --hover-fill-color: #174EA6;\n",
              "      --disabled-fill-color: #AAA;\n",
              "      --disabled-bg-color: #DDD;\n",
              "  }\n",
              "\n",
              "  [theme=dark] .colab-df-quickchart {\n",
              "      --bg-color: #3B4455;\n",
              "      --fill-color: #D2E3FC;\n",
              "      --hover-bg-color: #434B5C;\n",
              "      --hover-fill-color: #FFFFFF;\n",
              "      --disabled-bg-color: #3B4455;\n",
              "      --disabled-fill-color: #666;\n",
              "  }\n",
              "\n",
              "  .colab-df-quickchart {\n",
              "    background-color: var(--bg-color);\n",
              "    border: none;\n",
              "    border-radius: 50%;\n",
              "    cursor: pointer;\n",
              "    display: none;\n",
              "    fill: var(--fill-color);\n",
              "    height: 32px;\n",
              "    padding: 0;\n",
              "    width: 32px;\n",
              "  }\n",
              "\n",
              "  .colab-df-quickchart:hover {\n",
              "    background-color: var(--hover-bg-color);\n",
              "    box-shadow: 0 1px 2px rgba(60, 64, 67, 0.3), 0 1px 3px 1px rgba(60, 64, 67, 0.15);\n",
              "    fill: var(--button-hover-fill-color);\n",
              "  }\n",
              "\n",
              "  .colab-df-quickchart-complete:disabled,\n",
              "  .colab-df-quickchart-complete:disabled:hover {\n",
              "    background-color: var(--disabled-bg-color);\n",
              "    fill: var(--disabled-fill-color);\n",
              "    box-shadow: none;\n",
              "  }\n",
              "\n",
              "  .colab-df-spinner {\n",
              "    border: 2px solid var(--fill-color);\n",
              "    border-color: transparent;\n",
              "    border-bottom-color: var(--fill-color);\n",
              "    animation:\n",
              "      spin 1s steps(1) infinite;\n",
              "  }\n",
              "\n",
              "  @keyframes spin {\n",
              "    0% {\n",
              "      border-color: transparent;\n",
              "      border-bottom-color: var(--fill-color);\n",
              "      border-left-color: var(--fill-color);\n",
              "    }\n",
              "    20% {\n",
              "      border-color: transparent;\n",
              "      border-left-color: var(--fill-color);\n",
              "      border-top-color: var(--fill-color);\n",
              "    }\n",
              "    30% {\n",
              "      border-color: transparent;\n",
              "      border-left-color: var(--fill-color);\n",
              "      border-top-color: var(--fill-color);\n",
              "      border-right-color: var(--fill-color);\n",
              "    }\n",
              "    40% {\n",
              "      border-color: transparent;\n",
              "      border-right-color: var(--fill-color);\n",
              "      border-top-color: var(--fill-color);\n",
              "    }\n",
              "    60% {\n",
              "      border-color: transparent;\n",
              "      border-right-color: var(--fill-color);\n",
              "    }\n",
              "    80% {\n",
              "      border-color: transparent;\n",
              "      border-right-color: var(--fill-color);\n",
              "      border-bottom-color: var(--fill-color);\n",
              "    }\n",
              "    90% {\n",
              "      border-color: transparent;\n",
              "      border-bottom-color: var(--fill-color);\n",
              "    }\n",
              "  }\n",
              "</style>\n",
              "\n",
              "  <script>\n",
              "    async function quickchart(key) {\n",
              "      const quickchartButtonEl =\n",
              "        document.querySelector('#' + key + ' button');\n",
              "      quickchartButtonEl.disabled = true;  // To prevent multiple clicks.\n",
              "      quickchartButtonEl.classList.add('colab-df-spinner');\n",
              "      try {\n",
              "        const charts = await google.colab.kernel.invokeFunction(\n",
              "            'suggestCharts', [key], {});\n",
              "      } catch (error) {\n",
              "        console.error('Error during call to suggestCharts:', error);\n",
              "      }\n",
              "      quickchartButtonEl.classList.remove('colab-df-spinner');\n",
              "      quickchartButtonEl.classList.add('colab-df-quickchart-complete');\n",
              "    }\n",
              "    (() => {\n",
              "      let quickchartButtonEl =\n",
              "        document.querySelector('#df-eacf6f9f-98d4-4baf-b043-3dd3e763a99a button');\n",
              "      quickchartButtonEl.style.display =\n",
              "        google.colab.kernel.accessAllowed ? 'block' : 'none';\n",
              "    })();\n",
              "  </script>\n",
              "</div>\n",
              "\n",
              "    </div>\n",
              "  </div>\n"
            ],
            "application/vnd.google.colaboratory.intrinsic+json": {
              "type": "dataframe",
              "variable_name": "df",
              "summary": "{\n  \"name\": \"df\",\n  \"rows\": 4814,\n  \"fields\": [\n    {\n      \"column\": \"A\",\n      \"properties\": {\n        \"dtype\": \"number\",\n        \"std\": 1389,\n        \"min\": 0,\n        \"max\": 4813,\n        \"num_unique_values\": 4814,\n        \"samples\": [\n          1992,\n          1837,\n          4352\n        ],\n        \"semantic_type\": \"\",\n        \"description\": \"\"\n      }\n    },\n    {\n      \"column\": \"blockNum\",\n      \"properties\": {\n        \"dtype\": \"category\",\n        \"num_unique_values\": 36,\n        \"samples\": [\n          \"0x1042841\",\n          \"0x1042857\",\n          \"0x104284a\"\n        ],\n        \"semantic_type\": \"\",\n        \"description\": \"\"\n      }\n    },\n    {\n      \"column\": \"txHash\",\n      \"properties\": {\n        \"dtype\": \"string\",\n        \"num_unique_values\": 4814,\n        \"samples\": [\n          \"0x345436382e272d86afe65029e278a52061fc25921778b96d1a9ed74fb6c8e319\",\n          \"0xd0ba6ca83abfb3e0657a6b27695019b2bcb6f640138988746b33351f629b9c31\",\n          \"0x61062b152c9bd6a8e185891abc679758da9ecfff772265a1306487af777be2a0\"\n        ],\n        \"semantic_type\": \"\",\n        \"description\": \"\"\n      }\n    },\n    {\n      \"column\": \"gas limit\",\n      \"properties\": {\n        \"dtype\": \"number\",\n        \"std\": 1053159,\n        \"min\": 21000,\n        \"max\": 27100000,\n        \"num_unique_values\": 1512,\n        \"samples\": [\n          300004,\n          97761,\n          2000008\n        ],\n        \"semantic_type\": \"\",\n        \"description\": \"\"\n      }\n    },\n    {\n      \"column\": \"gas price\",\n      \"properties\": {\n        \"dtype\": \"number\",\n        \"std\": 16.353676490383773,\n        \"min\": 20.19813451,\n        \"max\": 703.5100783,\n        \"num_unique_values\": 1028,\n        \"samples\": [\n          25.69175827,\n          26.70729055,\n          22.52600887\n        ],\n        \"semantic_type\": \"\",\n        \"description\": \"\"\n      }\n    },\n    {\n      \"column\": \"from\",\n      \"properties\": {\n        \"dtype\": \"string\",\n        \"num_unique_values\": 3184,\n        \"samples\": [\n          \"0x6ec202003166b82fcd780de88989fdcde3a8996a\",\n          \"0xbde256b344422066d84b48bc12e59fbcf3f3e396\",\n          \"0x6a6a007b090b4fe3df19ea7c2aa7bd434d1115b4\"\n        ],\n        \"semantic_type\": \"\",\n        \"description\": \"\"\n      }\n    },\n    {\n      \"column\": \"to\",\n      \"properties\": {\n        \"dtype\": \"category\",\n        \"num_unique_values\": 1869,\n        \"samples\": [\n          \"0x9381a17b7ec9303ea7712240d056dc111031c649\",\n          \"0xd54f502e184b6b739d7d27a6410a67dc462d69c8\",\n          \"0xc0b68eb52c89e3fffa62d78012ac8b661bfaa323\"\n        ],\n        \"semantic_type\": \"\",\n        \"description\": \"\"\n      }\n    },\n    {\n      \"column\": \"data\",\n      \"properties\": {\n        \"dtype\": \"string\",\n        \"num_unique_values\": 2421,\n        \"samples\": [\n          \"0xb510391f000000000000000000000000000000000000000000000000000000000000000000000000000000000000000000000000000000000000000000000000000000400000000000000000000000000000000000000000000000000000000000000041e911a3592769d285080d3f51f664f3c91a001a6a8c3021cf241e0e61b200581917e25793646636bada186992cc8f091e9fe6301d19a3797e65ebbd55fdc957ba1c00000000000000000000000000000000000000000000000000000000000000\",\n          \"0x2c1a17490000000000000000000000000000000000000000000000000000000001042855\",\n          \"0xe56461ad0000000000000000000000000000000000000000000000000000000000000038000000000000000000000000dfa59b05126bb52f1f1500303274e525792ed26c\"\n        ],\n        \"semantic_type\": \"\",\n        \"description\": \"\"\n      }\n    },\n    {\n      \"column\": \"value\",\n      \"properties\": {\n        \"dtype\": \"number\",\n        \"std\": 1.868203353226147e+19,\n        \"min\": 0.0,\n        \"max\": 1.25924e+21,\n        \"num_unique_values\": 1608,\n        \"samples\": [\n          4000000000000000.0,\n          5e+16,\n          2.93545e+17\n        ],\n        \"semantic_type\": \"\",\n        \"description\": \"\"\n      }\n    },\n    {\n      \"column\": \"tx type\",\n      \"properties\": {\n        \"dtype\": \"category\",\n        \"num_unique_values\": 2,\n        \"samples\": [\n          \"contract\",\n          \"financial\"\n        ],\n        \"semantic_type\": \"\",\n        \"description\": \"\"\n      }\n    },\n    {\n      \"column\": \"used gas\",\n      \"properties\": {\n        \"dtype\": \"number\",\n        \"std\": 745984.8664068102,\n        \"min\": 21000.0,\n        \"max\": 21923213.0,\n        \"num_unique_values\": 1719,\n        \"samples\": [\n          80920.0,\n          453300.0\n        ],\n        \"semantic_type\": \"\",\n        \"description\": \"\"\n      }\n    },\n    {\n      \"column\": \"status\",\n      \"properties\": {\n        \"dtype\": \"number\",\n        \"std\": 0.11455665701904193,\n        \"min\": 0.0,\n        \"max\": 1.0,\n        \"num_unique_values\": 2,\n        \"samples\": [\n          0.0,\n          1.0\n        ],\n        \"semantic_type\": \"\",\n        \"description\": \"\"\n      }\n    }\n  ]\n}"
            }
          },
          "metadata": {},
          "execution_count": 7
        }
      ],
      "source": [
        "df.head()"
      ]
    },
    {
      "cell_type": "code",
      "execution_count": 8,
      "id": "c2ae0010-f17c-4460-bdf1-777689607424",
      "metadata": {
        "tags": [],
        "colab": {
          "base_uri": "https://localhost:8080/",
          "height": 300
        },
        "id": "c2ae0010-f17c-4460-bdf1-777689607424",
        "outputId": "338eaa31-98f2-46ed-9d37-8f52a5a81f82"
      },
      "outputs": [
        {
          "output_type": "execute_result",
          "data": {
            "text/plain": [
              "                 A     gas limit    gas price         value      used gas  \\\n",
              "count  4814.000000  4.814000e+03  4814.000000  4.813000e+03  4.813000e+03   \n",
              "mean   2406.500000  2.050853e+05    24.809041  6.359310e+17  1.140087e+05   \n",
              "std    1389.826428  1.053160e+06    16.353676  1.868203e+19  7.459849e+05   \n",
              "min       0.000000  2.100000e+04    20.198135  0.000000e+00  2.100000e+04   \n",
              "25%    1203.250000  4.210425e+04    21.975958  0.000000e+00  2.100000e+04   \n",
              "50%    2406.500000  8.827000e+04    23.002516  0.000000e+00  5.197000e+04   \n",
              "75%    3609.750000  1.919745e+05    24.902516  2.530000e+16  9.421000e+04   \n",
              "max    4813.000000  2.710000e+07   703.510078  1.259240e+21  2.192321e+07   \n",
              "\n",
              "            status  \n",
              "count  4813.000000  \n",
              "mean      0.986703  \n",
              "std       0.114557  \n",
              "min       0.000000  \n",
              "25%       1.000000  \n",
              "50%       1.000000  \n",
              "75%       1.000000  \n",
              "max       1.000000  "
            ],
            "text/html": [
              "\n",
              "  <div id=\"df-f286a618-91dd-4b73-a42c-8d6fbfbc5512\" class=\"colab-df-container\">\n",
              "    <div>\n",
              "<style scoped>\n",
              "    .dataframe tbody tr th:only-of-type {\n",
              "        vertical-align: middle;\n",
              "    }\n",
              "\n",
              "    .dataframe tbody tr th {\n",
              "        vertical-align: top;\n",
              "    }\n",
              "\n",
              "    .dataframe thead th {\n",
              "        text-align: right;\n",
              "    }\n",
              "</style>\n",
              "<table border=\"1\" class=\"dataframe\">\n",
              "  <thead>\n",
              "    <tr style=\"text-align: right;\">\n",
              "      <th></th>\n",
              "      <th>A</th>\n",
              "      <th>gas limit</th>\n",
              "      <th>gas price</th>\n",
              "      <th>value</th>\n",
              "      <th>used gas</th>\n",
              "      <th>status</th>\n",
              "    </tr>\n",
              "  </thead>\n",
              "  <tbody>\n",
              "    <tr>\n",
              "      <th>count</th>\n",
              "      <td>4814.000000</td>\n",
              "      <td>4.814000e+03</td>\n",
              "      <td>4814.000000</td>\n",
              "      <td>4.813000e+03</td>\n",
              "      <td>4.813000e+03</td>\n",
              "      <td>4813.000000</td>\n",
              "    </tr>\n",
              "    <tr>\n",
              "      <th>mean</th>\n",
              "      <td>2406.500000</td>\n",
              "      <td>2.050853e+05</td>\n",
              "      <td>24.809041</td>\n",
              "      <td>6.359310e+17</td>\n",
              "      <td>1.140087e+05</td>\n",
              "      <td>0.986703</td>\n",
              "    </tr>\n",
              "    <tr>\n",
              "      <th>std</th>\n",
              "      <td>1389.826428</td>\n",
              "      <td>1.053160e+06</td>\n",
              "      <td>16.353676</td>\n",
              "      <td>1.868203e+19</td>\n",
              "      <td>7.459849e+05</td>\n",
              "      <td>0.114557</td>\n",
              "    </tr>\n",
              "    <tr>\n",
              "      <th>min</th>\n",
              "      <td>0.000000</td>\n",
              "      <td>2.100000e+04</td>\n",
              "      <td>20.198135</td>\n",
              "      <td>0.000000e+00</td>\n",
              "      <td>2.100000e+04</td>\n",
              "      <td>0.000000</td>\n",
              "    </tr>\n",
              "    <tr>\n",
              "      <th>25%</th>\n",
              "      <td>1203.250000</td>\n",
              "      <td>4.210425e+04</td>\n",
              "      <td>21.975958</td>\n",
              "      <td>0.000000e+00</td>\n",
              "      <td>2.100000e+04</td>\n",
              "      <td>1.000000</td>\n",
              "    </tr>\n",
              "    <tr>\n",
              "      <th>50%</th>\n",
              "      <td>2406.500000</td>\n",
              "      <td>8.827000e+04</td>\n",
              "      <td>23.002516</td>\n",
              "      <td>0.000000e+00</td>\n",
              "      <td>5.197000e+04</td>\n",
              "      <td>1.000000</td>\n",
              "    </tr>\n",
              "    <tr>\n",
              "      <th>75%</th>\n",
              "      <td>3609.750000</td>\n",
              "      <td>1.919745e+05</td>\n",
              "      <td>24.902516</td>\n",
              "      <td>2.530000e+16</td>\n",
              "      <td>9.421000e+04</td>\n",
              "      <td>1.000000</td>\n",
              "    </tr>\n",
              "    <tr>\n",
              "      <th>max</th>\n",
              "      <td>4813.000000</td>\n",
              "      <td>2.710000e+07</td>\n",
              "      <td>703.510078</td>\n",
              "      <td>1.259240e+21</td>\n",
              "      <td>2.192321e+07</td>\n",
              "      <td>1.000000</td>\n",
              "    </tr>\n",
              "  </tbody>\n",
              "</table>\n",
              "</div>\n",
              "    <div class=\"colab-df-buttons\">\n",
              "\n",
              "  <div class=\"colab-df-container\">\n",
              "    <button class=\"colab-df-convert\" onclick=\"convertToInteractive('df-f286a618-91dd-4b73-a42c-8d6fbfbc5512')\"\n",
              "            title=\"Convert this dataframe to an interactive table.\"\n",
              "            style=\"display:none;\">\n",
              "\n",
              "  <svg xmlns=\"http://www.w3.org/2000/svg\" height=\"24px\" viewBox=\"0 -960 960 960\">\n",
              "    <path d=\"M120-120v-720h720v720H120Zm60-500h600v-160H180v160Zm220 220h160v-160H400v160Zm0 220h160v-160H400v160ZM180-400h160v-160H180v160Zm440 0h160v-160H620v160ZM180-180h160v-160H180v160Zm440 0h160v-160H620v160Z\"/>\n",
              "  </svg>\n",
              "    </button>\n",
              "\n",
              "  <style>\n",
              "    .colab-df-container {\n",
              "      display:flex;\n",
              "      gap: 12px;\n",
              "    }\n",
              "\n",
              "    .colab-df-convert {\n",
              "      background-color: #E8F0FE;\n",
              "      border: none;\n",
              "      border-radius: 50%;\n",
              "      cursor: pointer;\n",
              "      display: none;\n",
              "      fill: #1967D2;\n",
              "      height: 32px;\n",
              "      padding: 0 0 0 0;\n",
              "      width: 32px;\n",
              "    }\n",
              "\n",
              "    .colab-df-convert:hover {\n",
              "      background-color: #E2EBFA;\n",
              "      box-shadow: 0px 1px 2px rgba(60, 64, 67, 0.3), 0px 1px 3px 1px rgba(60, 64, 67, 0.15);\n",
              "      fill: #174EA6;\n",
              "    }\n",
              "\n",
              "    .colab-df-buttons div {\n",
              "      margin-bottom: 4px;\n",
              "    }\n",
              "\n",
              "    [theme=dark] .colab-df-convert {\n",
              "      background-color: #3B4455;\n",
              "      fill: #D2E3FC;\n",
              "    }\n",
              "\n",
              "    [theme=dark] .colab-df-convert:hover {\n",
              "      background-color: #434B5C;\n",
              "      box-shadow: 0px 1px 3px 1px rgba(0, 0, 0, 0.15);\n",
              "      filter: drop-shadow(0px 1px 2px rgba(0, 0, 0, 0.3));\n",
              "      fill: #FFFFFF;\n",
              "    }\n",
              "  </style>\n",
              "\n",
              "    <script>\n",
              "      const buttonEl =\n",
              "        document.querySelector('#df-f286a618-91dd-4b73-a42c-8d6fbfbc5512 button.colab-df-convert');\n",
              "      buttonEl.style.display =\n",
              "        google.colab.kernel.accessAllowed ? 'block' : 'none';\n",
              "\n",
              "      async function convertToInteractive(key) {\n",
              "        const element = document.querySelector('#df-f286a618-91dd-4b73-a42c-8d6fbfbc5512');\n",
              "        const dataTable =\n",
              "          await google.colab.kernel.invokeFunction('convertToInteractive',\n",
              "                                                    [key], {});\n",
              "        if (!dataTable) return;\n",
              "\n",
              "        const docLinkHtml = 'Like what you see? Visit the ' +\n",
              "          '<a target=\"_blank\" href=https://colab.research.google.com/notebooks/data_table.ipynb>data table notebook</a>'\n",
              "          + ' to learn more about interactive tables.';\n",
              "        element.innerHTML = '';\n",
              "        dataTable['output_type'] = 'display_data';\n",
              "        await google.colab.output.renderOutput(dataTable, element);\n",
              "        const docLink = document.createElement('div');\n",
              "        docLink.innerHTML = docLinkHtml;\n",
              "        element.appendChild(docLink);\n",
              "      }\n",
              "    </script>\n",
              "  </div>\n",
              "\n",
              "\n",
              "<div id=\"df-4f3d0ecb-e493-4ce5-8aa8-865462e44cb4\">\n",
              "  <button class=\"colab-df-quickchart\" onclick=\"quickchart('df-4f3d0ecb-e493-4ce5-8aa8-865462e44cb4')\"\n",
              "            title=\"Suggest charts\"\n",
              "            style=\"display:none;\">\n",
              "\n",
              "<svg xmlns=\"http://www.w3.org/2000/svg\" height=\"24px\"viewBox=\"0 0 24 24\"\n",
              "     width=\"24px\">\n",
              "    <g>\n",
              "        <path d=\"M19 3H5c-1.1 0-2 .9-2 2v14c0 1.1.9 2 2 2h14c1.1 0 2-.9 2-2V5c0-1.1-.9-2-2-2zM9 17H7v-7h2v7zm4 0h-2V7h2v10zm4 0h-2v-4h2v4z\"/>\n",
              "    </g>\n",
              "</svg>\n",
              "  </button>\n",
              "\n",
              "<style>\n",
              "  .colab-df-quickchart {\n",
              "      --bg-color: #E8F0FE;\n",
              "      --fill-color: #1967D2;\n",
              "      --hover-bg-color: #E2EBFA;\n",
              "      --hover-fill-color: #174EA6;\n",
              "      --disabled-fill-color: #AAA;\n",
              "      --disabled-bg-color: #DDD;\n",
              "  }\n",
              "\n",
              "  [theme=dark] .colab-df-quickchart {\n",
              "      --bg-color: #3B4455;\n",
              "      --fill-color: #D2E3FC;\n",
              "      --hover-bg-color: #434B5C;\n",
              "      --hover-fill-color: #FFFFFF;\n",
              "      --disabled-bg-color: #3B4455;\n",
              "      --disabled-fill-color: #666;\n",
              "  }\n",
              "\n",
              "  .colab-df-quickchart {\n",
              "    background-color: var(--bg-color);\n",
              "    border: none;\n",
              "    border-radius: 50%;\n",
              "    cursor: pointer;\n",
              "    display: none;\n",
              "    fill: var(--fill-color);\n",
              "    height: 32px;\n",
              "    padding: 0;\n",
              "    width: 32px;\n",
              "  }\n",
              "\n",
              "  .colab-df-quickchart:hover {\n",
              "    background-color: var(--hover-bg-color);\n",
              "    box-shadow: 0 1px 2px rgba(60, 64, 67, 0.3), 0 1px 3px 1px rgba(60, 64, 67, 0.15);\n",
              "    fill: var(--button-hover-fill-color);\n",
              "  }\n",
              "\n",
              "  .colab-df-quickchart-complete:disabled,\n",
              "  .colab-df-quickchart-complete:disabled:hover {\n",
              "    background-color: var(--disabled-bg-color);\n",
              "    fill: var(--disabled-fill-color);\n",
              "    box-shadow: none;\n",
              "  }\n",
              "\n",
              "  .colab-df-spinner {\n",
              "    border: 2px solid var(--fill-color);\n",
              "    border-color: transparent;\n",
              "    border-bottom-color: var(--fill-color);\n",
              "    animation:\n",
              "      spin 1s steps(1) infinite;\n",
              "  }\n",
              "\n",
              "  @keyframes spin {\n",
              "    0% {\n",
              "      border-color: transparent;\n",
              "      border-bottom-color: var(--fill-color);\n",
              "      border-left-color: var(--fill-color);\n",
              "    }\n",
              "    20% {\n",
              "      border-color: transparent;\n",
              "      border-left-color: var(--fill-color);\n",
              "      border-top-color: var(--fill-color);\n",
              "    }\n",
              "    30% {\n",
              "      border-color: transparent;\n",
              "      border-left-color: var(--fill-color);\n",
              "      border-top-color: var(--fill-color);\n",
              "      border-right-color: var(--fill-color);\n",
              "    }\n",
              "    40% {\n",
              "      border-color: transparent;\n",
              "      border-right-color: var(--fill-color);\n",
              "      border-top-color: var(--fill-color);\n",
              "    }\n",
              "    60% {\n",
              "      border-color: transparent;\n",
              "      border-right-color: var(--fill-color);\n",
              "    }\n",
              "    80% {\n",
              "      border-color: transparent;\n",
              "      border-right-color: var(--fill-color);\n",
              "      border-bottom-color: var(--fill-color);\n",
              "    }\n",
              "    90% {\n",
              "      border-color: transparent;\n",
              "      border-bottom-color: var(--fill-color);\n",
              "    }\n",
              "  }\n",
              "</style>\n",
              "\n",
              "  <script>\n",
              "    async function quickchart(key) {\n",
              "      const quickchartButtonEl =\n",
              "        document.querySelector('#' + key + ' button');\n",
              "      quickchartButtonEl.disabled = true;  // To prevent multiple clicks.\n",
              "      quickchartButtonEl.classList.add('colab-df-spinner');\n",
              "      try {\n",
              "        const charts = await google.colab.kernel.invokeFunction(\n",
              "            'suggestCharts', [key], {});\n",
              "      } catch (error) {\n",
              "        console.error('Error during call to suggestCharts:', error);\n",
              "      }\n",
              "      quickchartButtonEl.classList.remove('colab-df-spinner');\n",
              "      quickchartButtonEl.classList.add('colab-df-quickchart-complete');\n",
              "    }\n",
              "    (() => {\n",
              "      let quickchartButtonEl =\n",
              "        document.querySelector('#df-4f3d0ecb-e493-4ce5-8aa8-865462e44cb4 button');\n",
              "      quickchartButtonEl.style.display =\n",
              "        google.colab.kernel.accessAllowed ? 'block' : 'none';\n",
              "    })();\n",
              "  </script>\n",
              "</div>\n",
              "\n",
              "    </div>\n",
              "  </div>\n"
            ],
            "application/vnd.google.colaboratory.intrinsic+json": {
              "type": "dataframe",
              "summary": "{\n  \"name\": \"df\",\n  \"rows\": 8,\n  \"fields\": [\n    {\n      \"column\": \"A\",\n      \"properties\": {\n        \"dtype\": \"number\",\n        \"std\": 1734.7699418437621,\n        \"min\": 0.0,\n        \"max\": 4814.0,\n        \"num_unique_values\": 7,\n        \"samples\": [\n          4814.0,\n          2406.5,\n          3609.75\n        ],\n        \"semantic_type\": \"\",\n        \"description\": \"\"\n      }\n    },\n    {\n      \"column\": \"gas limit\",\n      \"properties\": {\n        \"dtype\": \"number\",\n        \"std\": 9506395.267812235,\n        \"min\": 4814.0,\n        \"max\": 27100000.0,\n        \"num_unique_values\": 8,\n        \"samples\": [\n          205085.3367262152,\n          88270.0,\n          4814.0\n        ],\n        \"semantic_type\": \"\",\n        \"description\": \"\"\n      }\n    },\n    {\n      \"column\": \"gas price\",\n      \"properties\": {\n        \"dtype\": \"number\",\n        \"std\": 1676.8974641685488,\n        \"min\": 16.353676490383773,\n        \"max\": 4814.0,\n        \"num_unique_values\": 8,\n        \"samples\": [\n          24.809041379100538,\n          23.00251602,\n          4814.0\n        ],\n        \"semantic_type\": \"\",\n        \"description\": \"\"\n      }\n    },\n    {\n      \"column\": \"value\",\n      \"properties\": {\n        \"dtype\": \"number\",\n        \"std\": 4.4427917630553516e+20,\n        \"min\": 0.0,\n        \"max\": 1.25924e+21,\n        \"num_unique_values\": 6,\n        \"samples\": [\n          4813.0,\n          6.359309730099163e+17,\n          1.25924e+21\n        ],\n        \"semantic_type\": \"\",\n        \"description\": \"\"\n      }\n    },\n    {\n      \"column\": \"used gas\",\n      \"properties\": {\n        \"dtype\": \"number\",\n        \"std\": 7701771.810112689,\n        \"min\": 4813.0,\n        \"max\": 21923213.0,\n        \"num_unique_values\": 7,\n        \"samples\": [\n          4813.0,\n          114008.6634115936,\n          94210.0\n        ],\n        \"semantic_type\": \"\",\n        \"description\": \"\"\n      }\n    },\n    {\n      \"column\": \"status\",\n      \"properties\": {\n        \"dtype\": \"number\",\n        \"std\": 1701.3948697025878,\n        \"min\": 0.0,\n        \"max\": 4813.0,\n        \"num_unique_values\": 5,\n        \"samples\": [\n          0.9867026802410139,\n          1.0,\n          0.11455665701904193\n        ],\n        \"semantic_type\": \"\",\n        \"description\": \"\"\n      }\n    }\n  ]\n}"
            }
          },
          "metadata": {},
          "execution_count": 8
        }
      ],
      "source": [
        "df.describe()"
      ]
    },
    {
      "cell_type": "code",
      "execution_count": 9,
      "id": "02ea9b5e-562b-45fe-b973-415df3aa5be5",
      "metadata": {
        "tags": [],
        "colab": {
          "base_uri": "https://localhost:8080/"
        },
        "id": "02ea9b5e-562b-45fe-b973-415df3aa5be5",
        "outputId": "4bfc4cfb-303a-479c-ddfc-d8c94c454b01"
      },
      "outputs": [
        {
          "output_type": "stream",
          "name": "stdout",
          "text": [
            "<class 'pandas.core.frame.DataFrame'>\n",
            "RangeIndex: 4814 entries, 0 to 4813\n",
            "Data columns (total 12 columns):\n",
            " #   Column     Non-Null Count  Dtype  \n",
            "---  ------     --------------  -----  \n",
            " 0   A          4814 non-null   int64  \n",
            " 1   blockNum   4814 non-null   object \n",
            " 2   txHash     4814 non-null   object \n",
            " 3   gas limit  4814 non-null   int64  \n",
            " 4   gas price  4814 non-null   float64\n",
            " 5   from       4814 non-null   object \n",
            " 6   to         4811 non-null   object \n",
            " 7   data       4814 non-null   object \n",
            " 8   value      4813 non-null   float64\n",
            " 9   tx type    4813 non-null   object \n",
            " 10  used gas   4813 non-null   float64\n",
            " 11  status     4813 non-null   float64\n",
            "dtypes: float64(4), int64(2), object(6)\n",
            "memory usage: 451.4+ KB\n"
          ]
        }
      ],
      "source": [
        "df.info()"
      ]
    },
    {
      "cell_type": "markdown",
      "source": [
        "dataset valued and explained from the csv\n"
      ],
      "metadata": {
        "id": "YkVJOyqJHNS3"
      },
      "id": "YkVJOyqJHNS3"
    },
    {
      "cell_type": "code",
      "execution_count": 10,
      "id": "90f5dd32-a75b-4a1d-8ff2-d42bb16c99a4",
      "metadata": {
        "tags": [],
        "colab": {
          "base_uri": "https://localhost:8080/"
        },
        "id": "90f5dd32-a75b-4a1d-8ff2-d42bb16c99a4",
        "outputId": "f8754f4e-6af9-45e0-cf1b-75409791fe6b"
      },
      "outputs": [
        {
          "output_type": "execute_result",
          "data": {
            "text/plain": [
              "A            0\n",
              "blockNum     0\n",
              "txHash       0\n",
              "gas limit    0\n",
              "gas price    0\n",
              "from         0\n",
              "to           3\n",
              "data         0\n",
              "value        1\n",
              "tx type      1\n",
              "used gas     1\n",
              "status       1\n",
              "dtype: int64"
            ]
          },
          "metadata": {},
          "execution_count": 10
        }
      ],
      "source": [
        "#number of missing values\n",
        "df.isnull().sum()"
      ]
    },
    {
      "cell_type": "code",
      "source": [
        "# Assuming your data is in a pandas DataFrame called 'df'\n",
        "df = df.dropna()\n",
        "\n",
        "print(df.isnull().sum())"
      ],
      "metadata": {
        "colab": {
          "base_uri": "https://localhost:8080/"
        },
        "id": "EqPmPprJwOZu",
        "outputId": "b74a400e-2ba4-40ed-cf87-83a5de7c636c"
      },
      "id": "EqPmPprJwOZu",
      "execution_count": 11,
      "outputs": [
        {
          "output_type": "stream",
          "name": "stdout",
          "text": [
            "A            0\n",
            "blockNum     0\n",
            "txHash       0\n",
            "gas limit    0\n",
            "gas price    0\n",
            "from         0\n",
            "to           0\n",
            "data         0\n",
            "value        0\n",
            "tx type      0\n",
            "used gas     0\n",
            "status       0\n",
            "dtype: int64\n"
          ]
        }
      ]
    },
    {
      "cell_type": "markdown",
      "source": [
        "there are missing values in to column ."
      ],
      "metadata": {
        "id": "qX0wbeQ0HbQA"
      },
      "id": "qX0wbeQ0HbQA"
    },
    {
      "cell_type": "code",
      "execution_count": 13,
      "id": "88b1232d-b704-4ebb-a722-902c87120912",
      "metadata": {
        "tags": [],
        "colab": {
          "base_uri": "https://localhost:8080/"
        },
        "id": "88b1232d-b704-4ebb-a722-902c87120912",
        "outputId": "1f31148a-2c3c-4f60-a2fa-7a8c55fd314e"
      },
      "outputs": [
        {
          "output_type": "execute_result",
          "data": {
            "text/plain": [
              "A            4810\n",
              "blockNum       36\n",
              "txHash       4810\n",
              "gas limit    1508\n",
              "gas price    1027\n",
              "from         3181\n",
              "to           1869\n",
              "data         2417\n",
              "value        1608\n",
              "tx type         2\n",
              "used gas     1716\n",
              "status          2\n",
              "dtype: int64"
            ]
          },
          "metadata": {},
          "execution_count": 13
        }
      ],
      "source": [
        "#Number of unique values in each column\n",
        "df.nunique()"
      ]
    },
    {
      "cell_type": "code",
      "execution_count": 14,
      "id": "b70e7cb5-b01d-4a2c-9e65-ac84ad07f703",
      "metadata": {
        "tags": [],
        "colab": {
          "base_uri": "https://localhost:8080/"
        },
        "id": "b70e7cb5-b01d-4a2c-9e65-ac84ad07f703",
        "outputId": "7faf4efb-d571-4c16-f4dc-bea59e4c4869"
      },
      "outputs": [
        {
          "output_type": "execute_result",
          "data": {
            "text/plain": [
              "tx type\n",
              "contract     3348\n",
              "financial    1462\n",
              "Name: count, dtype: int64"
            ]
          },
          "metadata": {},
          "execution_count": 14
        }
      ],
      "source": [
        "# Explore value counts of categorical columns\n",
        "df['tx type'].value_counts()"
      ]
    },
    {
      "cell_type": "code",
      "execution_count": 15,
      "id": "8a12a3aa-0b45-46df-baa1-5ae32fe512d4",
      "metadata": {
        "tags": [],
        "colab": {
          "base_uri": "https://localhost:8080/"
        },
        "id": "8a12a3aa-0b45-46df-baa1-5ae32fe512d4",
        "outputId": "fb4da11d-222a-4fe3-f8f1-0cb0ff50f33e"
      },
      "outputs": [
        {
          "output_type": "stream",
          "name": "stdout",
          "text": [
            "Index(['A', 'blockNum', 'txHash', 'gas limit', 'gas price', 'from', 'to',\n",
            "       'data', 'value', 'tx type', 'used gas', 'status'],\n",
            "      dtype='object')\n"
          ]
        }
      ],
      "source": [
        "print(df.columns)"
      ]
    },
    {
      "cell_type": "code",
      "execution_count": 16,
      "id": "d8c2b674-0f27-4f91-9df6-6276e8ae20c8",
      "metadata": {
        "tags": [],
        "colab": {
          "base_uri": "https://localhost:8080/"
        },
        "id": "d8c2b674-0f27-4f91-9df6-6276e8ae20c8",
        "outputId": "afe92820-1f76-4a6b-d855-0a44c49d5cfd"
      },
      "outputs": [
        {
          "output_type": "execute_result",
          "data": {
            "text/plain": [
              "status\n",
              "1.0    4746\n",
              "0.0      64\n",
              "Name: count, dtype: int64"
            ]
          },
          "metadata": {},
          "execution_count": 16
        }
      ],
      "source": [
        "# Explore value counts of 'status' column\n",
        "df['status'].value_counts()"
      ]
    },
    {
      "cell_type": "code",
      "execution_count": 17,
      "id": "bf132a99-051d-482e-a5ed-c347038acf87",
      "metadata": {
        "tags": [],
        "colab": {
          "base_uri": "https://localhost:8080/"
        },
        "id": "bf132a99-051d-482e-a5ed-c347038acf87",
        "outputId": "93f6dd26-7f86-4de6-9d04-a5fffd2f6ce6"
      },
      "outputs": [
        {
          "output_type": "execute_result",
          "data": {
            "text/plain": [
              "from\n",
              "0xa152f8bb749c55e9943a3a0a3111d18ee2b3f94e    83\n",
              "0x75e89d5979e4f6fba9f97c104c2f0afb3f1dcb88    60\n",
              "0x54d247727f3bf3ab9b6f420f57a9c6f8ecb5a907    53\n",
              "0x061f7937b7b2bc7596539959804f86538b6368dc    48\n",
              "0xf89d7b9c864f589bbf53a82105107622b35eaa40    36\n",
              "Name: count, dtype: int64"
            ]
          },
          "metadata": {},
          "execution_count": 17
        }
      ],
      "source": [
        "#highest transaction from address if any\n",
        "df['from'].value_counts().head()"
      ]
    },
    {
      "cell_type": "markdown",
      "id": "a9e52a5f-dd28-46ea-a942-8ad11c99cca0",
      "metadata": {
        "id": "a9e52a5f-dd28-46ea-a942-8ad11c99cca0"
      },
      "source": [
        "all addresses are unique so no two transaction from same address"
      ]
    },
    {
      "cell_type": "code",
      "execution_count": 18,
      "id": "d5f907e0-006a-435c-ad05-3b7da22a962b",
      "metadata": {
        "tags": [],
        "colab": {
          "base_uri": "https://localhost:8080/"
        },
        "id": "d5f907e0-006a-435c-ad05-3b7da22a962b",
        "outputId": "666e33a2-2ab6-4609-e214-a647d95b00fb"
      },
      "outputs": [
        {
          "output_type": "execute_result",
          "data": {
            "text/plain": [
              "4810"
            ]
          },
          "metadata": {},
          "execution_count": 18
        }
      ],
      "source": [
        "#total count\n",
        "df.shape[0]"
      ]
    },
    {
      "cell_type": "code",
      "execution_count": 19,
      "id": "3257cbef-d007-41c4-b77b-dff917d051d9",
      "metadata": {
        "tags": [],
        "colab": {
          "base_uri": "https://localhost:8080/"
        },
        "id": "3257cbef-d007-41c4-b77b-dff917d051d9",
        "outputId": "5f2b983c-2158-4f2d-a638-513713362ba2"
      },
      "outputs": [
        {
          "output_type": "stream",
          "name": "stdout",
          "text": [
            "[(0.0, 64), (1.0, 4746)]\n"
          ]
        }
      ],
      "source": [
        "print(sorted(Counter(df['status']).items()))"
      ]
    },
    {
      "cell_type": "code",
      "execution_count": 20,
      "id": "3f599c4f-2732-4993-8e50-95233de17505",
      "metadata": {
        "tags": [],
        "id": "3f599c4f-2732-4993-8e50-95233de17505"
      },
      "outputs": [],
      "source": [
        "trans1 = df[df['status']==1]\n",
        "trans0 = df[df['status']==0]"
      ]
    },
    {
      "cell_type": "code",
      "execution_count": 21,
      "id": "56540c88-d052-4269-a1f9-8e3d6d5511ef",
      "metadata": {
        "tags": [],
        "colab": {
          "base_uri": "https://localhost:8080/"
        },
        "id": "56540c88-d052-4269-a1f9-8e3d6d5511ef",
        "outputId": "aa15db5e-2d19-48df-f6fc-e23d721edf92"
      },
      "outputs": [
        {
          "output_type": "stream",
          "name": "stdout",
          "text": [
            "(4746, 12) (64, 12) (4810, 12)\n"
          ]
        }
      ],
      "source": [
        "print(trans1.shape,trans0.shape,df.shape)"
      ]
    },
    {
      "cell_type": "code",
      "execution_count": 22,
      "id": "2377771f-1357-4247-8a56-572e6aeb2b8e",
      "metadata": {
        "tags": [],
        "colab": {
          "base_uri": "https://localhost:8080/",
          "height": 472
        },
        "id": "2377771f-1357-4247-8a56-572e6aeb2b8e",
        "outputId": "8b12b56c-bc11-4e93-a6e0-f488b1a8b26e"
      },
      "outputs": [
        {
          "output_type": "display_data",
          "data": {
            "text/plain": [
              "<Figure size 640x480 with 1 Axes>"
            ],
            "image/png": "[encoded data removed]"
          },
          "metadata": {}
        }
      ],
      "source": [
        "import matplotlib.pyplot as plt\n",
        "import seaborn as sns\n",
        "\n",
        "# Example: Histograms for numerical columns in trans0 and trans1\n",
        "sns.histplot(trans0['status'], color='blue', alpha=0.5, label='status 0')\n",
        "sns.histplot(trans1['status'], color='red', alpha=0.5, label='status 1')\n",
        "plt.legend()\n",
        "plt.xlabel('Column 1')\n",
        "plt.ylabel('Frequency')\n",
        "plt.title('Histogram of Column 1 for status 0 and status 1')\n",
        "plt.show()"
      ]
    },
    {
      "cell_type": "markdown",
      "source": [
        "The histogram defines the unbalanced dataset .Hence teh next step tpo determine what method to balance the dataset was evaluated.\n"
      ],
      "metadata": {
        "id": "fLoxzXFGH7HP"
      },
      "id": "fLoxzXFGH7HP"
    },
    {
      "cell_type": "code",
      "execution_count": 23,
      "id": "1403ec7e-fdb4-41e9-9abb-45a2e2578fca",
      "metadata": {
        "id": "1403ec7e-fdb4-41e9-9abb-45a2e2578fca"
      },
      "outputs": [],
      "source": [
        "X = df.drop(columns=['status'])\n",
        "Y = df['status']"
      ]
    },
    {
      "cell_type": "code",
      "execution_count": 24,
      "id": "22ab0d0e-cd9c-4621-b45d-66f20a23e014",
      "metadata": {
        "tags": [],
        "colab": {
          "base_uri": "https://localhost:8080/"
        },
        "id": "22ab0d0e-cd9c-4621-b45d-66f20a23e014",
        "outputId": "9c3155e2-cd5a-48f0-c130-ea0fd2d09c99"
      },
      "outputs": [
        {
          "output_type": "stream",
          "name": "stdout",
          "text": [
            "Requirement already satisfied: scikit-learn in /usr/local/lib/python3.10/dist-packages (1.3.2)\n",
            "Collecting scikit-learn\n",
            "  Downloading scikit_learn-1.5.1-cp310-cp310-manylinux_2_17_x86_64.manylinux2014_x86_64.whl.metadata (12 kB)\n",
            "Requirement already satisfied: numpy>=1.19.5 in /usr/local/lib/python3.10/dist-packages (from scikit-learn) (1.25.2)\n",
            "Requirement already satisfied: scipy>=1.6.0 in /usr/local/lib/python3.10/dist-packages (from scikit-learn) (1.13.1)\n",
            "Requirement already satisfied: joblib>=1.2.0 in /usr/local/lib/python3.10/dist-packages (from scikit-learn) (1.4.2)\n",
            "Requirement already satisfied: threadpoolctl>=3.1.0 in /usr/local/lib/python3.10/dist-packages (from scikit-learn) (3.5.0)\n",
            "Downloading scikit_learn-1.5.1-cp310-cp310-manylinux_2_17_x86_64.manylinux2014_x86_64.whl (13.4 MB)\n",
            "\u001b[2K   \u001b[90m━━━━━━━━━━━━━━━━━━━━━━━━━━━━━━━━━━━━━━━━\u001b[0m \u001b[32m13.4/13.4 MB\u001b[0m \u001b[31m82.2 MB/s\u001b[0m eta \u001b[36m0:00:00\u001b[0m\n",
            "\u001b[?25hInstalling collected packages: scikit-learn\n",
            "  Attempting uninstall: scikit-learn\n",
            "    Found existing installation: scikit-learn 1.3.2\n",
            "    Uninstalling scikit-learn-1.3.2:\n",
            "      Successfully uninstalled scikit-learn-1.3.2\n",
            "Successfully installed scikit-learn-1.5.1\n"
          ]
        }
      ],
      "source": [
        "pip install --upgrade scikit-learn"
      ]
    },
    {
      "cell_type": "code",
      "execution_count": 25,
      "id": "d5e42f8b-11fa-4811-9afd-4b2f1a28c572",
      "metadata": {
        "tags": [],
        "colab": {
          "base_uri": "https://localhost:8080/"
        },
        "id": "d5e42f8b-11fa-4811-9afd-4b2f1a28c572",
        "outputId": "02f75779-6b5b-4f1c-c206-2897f2d3db73"
      },
      "outputs": [
        {
          "output_type": "stream",
          "name": "stdout",
          "text": [
            "Name: scikit-learn\n",
            "Version: 1.5.1\n",
            "Summary: A set of python modules for machine learning and data mining\n",
            "Home-page: https://scikit-learn.org\n",
            "Author: \n",
            "Author-email: \n",
            "License: new BSD\n",
            "Location: /usr/local/lib/python3.10/dist-packages\n",
            "Requires: joblib, numpy, scipy, threadpoolctl\n",
            "Required-by: albumentations, bigframes, fastai, imbalanced-learn, librosa, mlxtend, sklearn-pandas, yellowbrick\n"
          ]
        }
      ],
      "source": [
        "pip show scikit-learn"
      ]
    },
    {
      "cell_type": "code",
      "execution_count": 26,
      "id": "818f5986-782c-4514-98f1-169940843fce",
      "metadata": {
        "tags": [],
        "colab": {
          "base_uri": "https://localhost:8080/"
        },
        "id": "818f5986-782c-4514-98f1-169940843fce",
        "outputId": "e0bf6f1c-c4ea-4d1e-c2fa-66a1b724749c"
      },
      "outputs": [
        {
          "output_type": "stream",
          "name": "stdout",
          "text": [
            "Requirement already satisfied: scikit-learn in /usr/local/lib/python3.10/dist-packages (1.5.1)\n",
            "Requirement already satisfied: numpy>=1.19.5 in /usr/local/lib/python3.10/dist-packages (from scikit-learn) (1.25.2)\n",
            "Requirement already satisfied: scipy>=1.6.0 in /usr/local/lib/python3.10/dist-packages (from scikit-learn) (1.13.1)\n",
            "Requirement already satisfied: joblib>=1.2.0 in /usr/local/lib/python3.10/dist-packages (from scikit-learn) (1.4.2)\n",
            "Requirement already satisfied: threadpoolctl>=3.1.0 in /usr/local/lib/python3.10/dist-packages (from scikit-learn) (3.5.0)\n"
          ]
        }
      ],
      "source": [
        "pip install --upgrade scikit-learn"
      ]
    },
    {
      "cell_type": "code",
      "execution_count": 27,
      "id": "2e6c4f49-e505-4735-8710-eaa31b158034",
      "metadata": {
        "colab": {
          "base_uri": "https://localhost:8080/"
        },
        "id": "2e6c4f49-e505-4735-8710-eaa31b158034",
        "outputId": "7794e3e0-3c8a-451a-fef6-2b45b2f88330"
      },
      "outputs": [
        {
          "output_type": "stream",
          "name": "stdout",
          "text": [
            "Requirement already satisfied: imbalanced-learn in /usr/local/lib/python3.10/dist-packages (0.12.3)\n",
            "Requirement already satisfied: numpy>=1.17.3 in /usr/local/lib/python3.10/dist-packages (from imbalanced-learn) (1.25.2)\n",
            "Requirement already satisfied: scipy>=1.5.0 in /usr/local/lib/python3.10/dist-packages (from imbalanced-learn) (1.13.1)\n",
            "Requirement already satisfied: scikit-learn>=1.0.2 in /usr/local/lib/python3.10/dist-packages (from imbalanced-learn) (1.5.1)\n",
            "Requirement already satisfied: joblib>=1.1.1 in /usr/local/lib/python3.10/dist-packages (from imbalanced-learn) (1.4.2)\n",
            "Requirement already satisfied: threadpoolctl>=2.0.0 in /usr/local/lib/python3.10/dist-packages (from imbalanced-learn) (3.5.0)\n"
          ]
        }
      ],
      "source": [
        "pip install --upgrade imbalanced-learn"
      ]
    },
    {
      "cell_type": "code",
      "execution_count": 28,
      "id": "4f65b040-31c8-4280-8a02-112a17e01432",
      "metadata": {
        "tags": [],
        "colab": {
          "base_uri": "https://localhost:8080/"
        },
        "id": "4f65b040-31c8-4280-8a02-112a17e01432",
        "outputId": "0cf03b50-d0ef-478d-83cd-e593a604f57e"
      },
      "outputs": [
        {
          "output_type": "stream",
          "name": "stdout",
          "text": [
            "Requirement already satisfied: scikit-learn in /usr/local/lib/python3.10/dist-packages (1.5.1)\n",
            "Requirement already satisfied: numpy>=1.19.5 in /usr/local/lib/python3.10/dist-packages (from scikit-learn) (1.25.2)\n",
            "Requirement already satisfied: scipy>=1.6.0 in /usr/local/lib/python3.10/dist-packages (from scikit-learn) (1.13.1)\n",
            "Requirement already satisfied: joblib>=1.2.0 in /usr/local/lib/python3.10/dist-packages (from scikit-learn) (1.4.2)\n",
            "Requirement already satisfied: threadpoolctl>=3.1.0 in /usr/local/lib/python3.10/dist-packages (from scikit-learn) (3.5.0)\n",
            "Requirement already satisfied: imbalanced-learn in /usr/local/lib/python3.10/dist-packages (0.12.3)\n",
            "Requirement already satisfied: numpy>=1.17.3 in /usr/local/lib/python3.10/dist-packages (from imbalanced-learn) (1.25.2)\n",
            "Requirement already satisfied: scipy>=1.5.0 in /usr/local/lib/python3.10/dist-packages (from imbalanced-learn) (1.13.1)\n",
            "Requirement already satisfied: scikit-learn>=1.0.2 in /usr/local/lib/python3.10/dist-packages (from imbalanced-learn) (1.5.1)\n",
            "Requirement already satisfied: joblib>=1.1.1 in /usr/local/lib/python3.10/dist-packages (from imbalanced-learn) (1.4.2)\n",
            "Requirement already satisfied: threadpoolctl>=2.0.0 in /usr/local/lib/python3.10/dist-packages (from imbalanced-learn) (3.5.0)\n"
          ]
        }
      ],
      "source": [
        "!pip install --upgrade scikit-learn\n",
        "!pip install --upgrade imbalanced-learn\n",
        "\n",
        "from imblearn.over_sampling import RandomOverSampler\n",
        "from imblearn.under_sampling import RandomUnderSampler"
      ]
    },
    {
      "cell_type": "markdown",
      "source": [
        "To balance the data , the randomsampling technique of oversampling and undersampling was choosen"
      ],
      "metadata": {
        "id": "gVooZncqLwmj"
      },
      "id": "gVooZncqLwmj"
    },
    {
      "cell_type": "code",
      "execution_count": 29,
      "id": "e9666d47-dbc5-4eaf-8df5-f54a2e067c99",
      "metadata": {
        "colab": {
          "base_uri": "https://localhost:8080/"
        },
        "id": "e9666d47-dbc5-4eaf-8df5-f54a2e067c99",
        "outputId": "a1705c6e-d764-4467-d6b1-bf775209dc53"
      },
      "outputs": [
        {
          "output_type": "stream",
          "name": "stdout",
          "text": [
            "[(0.0, 4746), (1.0, 4746)] (9492,)\n"
          ]
        }
      ],
      "source": [
        "import numpy as np\n",
        "from imblearn.over_sampling import RandomOverSampler\n",
        "from collections import Counter\n",
        "\n",
        "# Assuming 'Y' is a NumPy array, replace NaN values with a suitable strategy\n",
        "# For example, replacing with the most frequent value:\n",
        "most_frequent_value = np.nanmax(Y)  # Replace with appropriate strategy if needed\n",
        "Y_no_nan = np.nan_to_num(Y, nan=most_frequent_value)\n",
        "\n",
        "ros = RandomOverSampler(random_state=0)\n",
        "X_resampled, y_resampled = ros.fit_resample(X, Y_no_nan)\n",
        "print(sorted(Counter(y_resampled).items()), y_resampled.shape)"
      ]
    },
    {
      "cell_type": "code",
      "execution_count": 30,
      "id": "1c95e3cb-893a-4b0b-b36e-ed045429c26d",
      "metadata": {
        "tags": [],
        "colab": {
          "base_uri": "https://localhost:8080/"
        },
        "id": "1c95e3cb-893a-4b0b-b36e-ed045429c26d",
        "outputId": "e785dd6f-ad79-499d-d536-7c1bf27b6ed7"
      },
      "outputs": [
        {
          "output_type": "stream",
          "name": "stdout",
          "text": [
            "[(0.0, 64), (1.0, 64)] (128,)\n"
          ]
        }
      ],
      "source": [
        "from imblearn.under_sampling import RandomUnderSampler\n",
        "most_frequent_value = np.nanmax(Y)  # Replace with appropriate strategy if needed\n",
        "Y_no_nan = np.nan_to_num(Y, nan=most_frequent_value)\n",
        "\n",
        "rus=RandomUnderSampler(random_state=0)\n",
        "# Pass the NaN-filled version of Y to fit_resample\n",
        "X_resampled,y_resampled = rus.fit_resample(X,Y_no_nan)\n",
        "print(sorted(Counter(y_resampled).items()),y_resampled.shape)"
      ]
    },
    {
      "cell_type": "markdown",
      "source": [
        "Finding the most frequent value in Y to replace NaNs.this replaces NaNs in Y with the most frequent value\n",
        "initializing RandomUnderSampler with a fixed random state for reproducibility.\n",
        "Apply undersampling to X and Y (with NaNs replaced) **bold text**"
      ],
      "metadata": {
        "id": "446uJv7LLagI"
      },
      "id": "446uJv7LLagI"
    },
    {
      "cell_type": "code",
      "execution_count": 31,
      "id": "dd8e2bab-6c15-424b-ac13-6f08960b88a7",
      "metadata": {
        "tags": [],
        "colab": {
          "base_uri": "https://localhost:8080/"
        },
        "id": "dd8e2bab-6c15-424b-ac13-6f08960b88a7",
        "outputId": "e6549f42-1b6e-4309-c6cb-90403d98f65a"
      },
      "outputs": [
        {
          "output_type": "stream",
          "name": "stdout",
          "text": [
            "Original dataset shape: Counter({1.0: 4746, 0.0: 64})\n",
            "Resampled dataset shape: Counter({1.0: 4746, 0.0: 4746})\n"
          ]
        }
      ],
      "source": [
        "from imblearn.over_sampling import RandomOverSampler\n",
        "from collections import Counter\n",
        "import numpy as np\n",
        "\n",
        "# Assuming X and Y are already defined and preprocessed\n",
        "# Handle NaN values in 'Y' before resampling\n",
        "Y_no_nan = np.nan_to_num(Y, nan=np.nanmax(Y))  # Replace NaN with the most frequent value, adjust as needed\n",
        "\n",
        "ros = RandomOverSampler(random_state=0)\n",
        "X_resampled, y_resampled = ros.fit_resample(X, Y_no_nan)  # Use the modified Y\n",
        "\n",
        "print(f\"Original dataset shape: {Counter(Y)}\")\n",
        "print(f\"Resampled dataset shape: {Counter(y_resampled)}\")"
      ]
    },
    {
      "cell_type": "markdown",
      "source": [
        "Based on the outcomes of both techniques, the decision was made to utilize oversampling rather\n",
        "than undersampling. The primary reason for this choice was the preservation of the dataset size and\n",
        "information."
      ],
      "metadata": {
        "id": "EyjMRXYEMO5l"
      },
      "id": "EyjMRXYEMO5l"
    },
    {
      "cell_type": "code",
      "execution_count": 32,
      "id": "5cb7f116-bce7-4884-86ec-d7fa885eff12",
      "metadata": {
        "tags": [],
        "colab": {
          "base_uri": "https://localhost:8080/"
        },
        "id": "5cb7f116-bce7-4884-86ec-d7fa885eff12",
        "outputId": "ccc8a9fb-0d0f-4280-9807-ae37374d99ed"
      },
      "outputs": [
        {
          "output_type": "stream",
          "name": "stdout",
          "text": [
            "X_train shape: (7593, 11), y_train shape: (7593,)\n",
            "X_test shape: (1899, 11), y_test shape: (1899,)\n"
          ]
        }
      ],
      "source": [
        "###DATA SPLIT\n",
        "\n",
        "from sklearn.model_selection import train_test_split\n",
        "\n",
        "# Split the data into training and testing sets\n",
        "X_train, X_test, y_train, y_test = train_test_split(X_resampled, y_resampled, test_size=0.2, random_state=42)\n",
        "\n",
        "print(f\"X_train shape: {X_train.shape}, y_train shape: {y_train.shape}\")\n",
        "print(f\"X_test shape: {X_test.shape}, y_test shape: {y_test.shape}\")\n"
      ]
    },
    {
      "cell_type": "markdown",
      "id": "7f692126-1ac0-43f6-bd28-300f0863833a",
      "metadata": {
        "tags": [],
        "id": "7f692126-1ac0-43f6-bd28-300f0863833a"
      },
      "source": [
        "test_size=0.2 specifies that 20% of the data will be used for testing, and the rest (80%) for training.\n",
        "random_state=42 ensures reproducibility."
      ]
    },
    {
      "cell_type": "code",
      "execution_count": 33,
      "id": "a5acdccd-4001-4bc8-8482-e5874c377ad9",
      "metadata": {
        "tags": [],
        "colab": {
          "base_uri": "https://localhost:8080/"
        },
        "id": "a5acdccd-4001-4bc8-8482-e5874c377ad9",
        "outputId": "75ce6fae-7614-4989-f357-fa8eda409a07"
      },
      "outputs": [
        {
          "output_type": "stream",
          "name": "stderr",
          "text": [
            "/usr/local/lib/python3.10/dist-packages/sklearn/preprocessing/_label.py:97: DataConversionWarning: A column-vector y was passed when a 1d array was expected. Please change the shape of y to (n_samples, ), for example using ravel().\n",
            "  y = column_or_1d(y, warn=True)\n",
            "/usr/local/lib/python3.10/dist-packages/sklearn/preprocessing/_label.py:132: DataConversionWarning: A column-vector y was passed when a 1d array was expected. Please change the shape of y to (n_samples, ), for example using ravel().\n",
            "  y = column_or_1d(y, dtype=self.classes_.dtype, warn=True)\n",
            "/usr/local/lib/python3.10/dist-packages/sklearn/preprocessing/_label.py:132: DataConversionWarning: A column-vector y was passed when a 1d array was expected. Please change the shape of y to (n_samples, ), for example using ravel().\n",
            "  y = column_or_1d(y, dtype=self.classes_.dtype, warn=True)\n"
          ]
        }
      ],
      "source": [
        "from sklearn.preprocessing import LabelEncoder\n",
        "\n",
        "# Define the categorical columns\n",
        "categorical_column = ['tx type']\n",
        "\n",
        "# Initialize LabelEncoder\n",
        "encoder = LabelEncoder()\n",
        "\n",
        "# Fit the encoder on the training data\n",
        "encoder.fit(X_train[categorical_column])  # Fit the encoder before transforming\n",
        "\n",
        "# Transform training and test data\n",
        "X_train_encoded = encoder.transform(X_train[categorical_column])\n",
        "X_test_encoded = encoder.transform(X_test[categorical_column])"
      ]
    },
    {
      "cell_type": "markdown",
      "source": [
        "In the pre-processing pipeline, categorical features were encoded to facilitate their use in machine\n",
        "learning algorithms, which typically require numerical input. For this purpose, label encoding\n",
        "was applied to the tx type column, which was identified as a categorical feature. Label encod-\n",
        "ing converts each unique category into a numerical label, thus allowing the model to process\n",
        "categorical information effectively. The encoding was performed by first fitting the encoder on\n",
        "the training data and then transforming both the training and test datasets.\n",
        "Label encoding is appropriate here because it simplifies the categorical data into a format that\n",
        "can be ingested by machine learning algorithms. This transformation is crucial for models that\n",
        "cannot handle non-numeric inputs directly, ensuring that all features contribute to the model’s\n",
        "learning process."
      ],
      "metadata": {
        "id": "7TKwFm2tMkBk"
      },
      "id": "7TKwFm2tMkBk"
    },
    {
      "cell_type": "code",
      "execution_count": 34,
      "id": "54577970-c95b-472c-931d-ea6b34b98bbd",
      "metadata": {
        "tags": [],
        "id": "54577970-c95b-472c-931d-ea6b34b98bbd"
      },
      "outputs": [],
      "source": [
        "import pandas as pd\n",
        "import numpy as np\n",
        "\n",
        "# Assuming X_train and X_test are DataFrames with both categorical and numerical features\n",
        "numerical_columns = ['A', 'blockNum', 'gas limit', 'gas price', 'value', 'used gas']\n",
        "\n",
        "# Example of creating some dummy DataFrames (you should replace these with your actual data)\n",
        "X_train_encoded = pd.DataFrame(np.random.randint(0, 2, size=(len(X_train), len(categorical_column))), columns=categorical_column)\n",
        "X_test_encoded = pd.DataFrame(np.random.randint(0, 2, size=(len(X_test), len(categorical_column))), columns=categorical_column)\n",
        "X_train = pd.DataFrame(np.random.randn(len(X_train), len(numerical_columns)), columns=numerical_columns)\n",
        "X_test = pd.DataFrame(np.random.randn(len(X_test), len(numerical_columns)), columns=numerical_columns)\n",
        "\n",
        "# Concatenate encoded categorical features and numerical features\n",
        "X_train = pd.concat([X_train_encoded, X_train[numerical_columns]], axis=1)\n",
        "X_test = pd.concat([X_test_encoded, X_test[numerical_columns]], axis=1)\n",
        "\n"
      ]
    },
    {
      "cell_type": "markdown",
      "source": [
        "Following the encoding of categorical variables, the next step was to integrate these encoded\n",
        "features with numerical features. This integration was achieved by concatenating the encoded\n",
        "categorical features with the numerical features."
      ],
      "metadata": {
        "id": "A_TS3cGOMvID"
      },
      "id": "A_TS3cGOMvID"
    },
    {
      "cell_type": "code",
      "execution_count": 35,
      "id": "e8a6923c-086d-43fc-8802-3e212d3ca7f0",
      "metadata": {
        "id": "e8a6923c-086d-43fc-8802-3e212d3ca7f0"
      },
      "outputs": [],
      "source": [
        "## handling missing values and replacing them with mean\n",
        "\n",
        "from sklearn.impute import SimpleImputer\n",
        "\n",
        "imputer = SimpleImputer(strategy='mean')  # or 'median', 'most_frequent', etc.\n",
        "X_train_imputed = imputer.fit_transform(X_train)\n",
        "X_test_imputed = imputer.transform(X_test)"
      ]
    },
    {
      "cell_type": "markdown",
      "source": [
        "There was an error saying there are missing values (not null values which I previously found) to the categorical data .To handle missing values while using the label encoder, An imputer from sklearn was initialized with a strategy to replace missing values, such as 'mean', 'median', or 'most_frequent'. The imputer was then fitted on the training data (X_train) and used to transform it, resulting in X_train_imputed. The same imputer was applied to the test data (X_test) to ensure consistency, resulting in X_test_imputed."
      ],
      "metadata": {
        "id": "7BalrtqoNhqU"
      },
      "id": "7BalrtqoNhqU"
    },
    {
      "cell_type": "code",
      "execution_count": 36,
      "id": "6fb3b211-1ac3-49d0-ab65-d02421e7db52",
      "metadata": {
        "id": "6fb3b211-1ac3-49d0-ab65-d02421e7db52"
      },
      "outputs": [],
      "source": [
        "## feature scaling\n",
        "\n",
        "from sklearn.preprocessing import StandardScaler\n",
        "\n",
        "scaler = StandardScaler()\n",
        "X_train_scaled = scaler.fit_transform(X_train_imputed)\n",
        "X_test_scaled = scaler.transform(X_test_imputed)\n"
      ]
    },
    {
      "cell_type": "markdown",
      "source": [
        "After handling the missing values, a StandardScaler  was initialized to standardize the features by removing the mean and scaling to unit variance. The scaler was then fitted on the imputed training data (X_train_imputed) and used to transform it, resulting in X_train_scaled. The same scaler was applied to the imputed test data (X_test_imputed) to ensure the test data was scaled in the same way, resulting in X_test_scaled."
      ],
      "metadata": {
        "id": "Py540fuRODMn"
      },
      "id": "Py540fuRODMn"
    },
    {
      "cell_type": "code",
      "source": [
        "\n",
        "import matplotlib.pyplot as plt\n",
        "import seaborn as sns\n",
        "\n",
        "# Choose a feature to visualize (replace 0 with the actual column index)\n",
        "feature_index = 0\n",
        "\n",
        "# Plot original distribution\n",
        "plt.figure(figsize=(12, 5))\n",
        "plt.subplot(1, 2, 1)\n",
        "sns.histplot(X_train_imputed[:, feature_index], kde=True)  # Index using integer\n",
        "plt.title('Original Distribution')\n",
        "\n",
        "# Plot scaled distribution\n",
        "plt.subplot(1, 2, 2)\n",
        "sns.histplot(X_train_scaled[:, feature_index], kde=True)  # Index using integer\n",
        "plt.title('Scaled Distribution')\n",
        "\n",
        "plt.tight_layout()\n",
        "plt.show()"
      ],
      "metadata": {
        "colab": {
          "base_uri": "https://localhost:8080/",
          "height": 362
        },
        "id": "o5BpfDdGyHlK",
        "outputId": "2827c3d0-f838-4388-b73c-5e08c0a432b1"
      },
      "id": "o5BpfDdGyHlK",
      "execution_count": 37,
      "outputs": [
        {
          "output_type": "display_data",
          "data": {
            "text/plain": [
              "<Figure size 1200x500 with 2 Axes>"
            ],
            "image/png": "[encoded data removed]"
          },
          "metadata": {}
        }
      ]
    },
    {
      "cell_type": "markdown",
      "source": [
        "\n",
        "**Training Data**: The StandardScaler was fitted on the training data, which computes the mean\n",
        "and standard deviation for each feature. The training data was then transformed based on these\n",
        "computed values.\n",
        "**Testing Data**: The same scaler, fitted on the training data, was applied to transform the testing\n",
        "data. This ensures that the testing data is scaled using the same parameters as the training data,\n",
        "ensuring consistency and preventing data leakage. By standardizing both the training and testing\n",
        "data, the model can learn from features that are on the same scale, leading to more accurate and\n",
        "reliable predictions.\n"
      ],
      "metadata": {
        "id": "vV56oU5DONHM"
      },
      "id": "vV56oU5DONHM"
    },
    {
      "cell_type": "markdown",
      "source": [
        "Traditional models such as logistic Regression , Random Forest , Decision trees and Naive BAyes was run to evaulate and compare with the main cnn model . The below codes represent the model being fit with training and test data and then evaluation metrics used to determine the average accuracy rate for these models."
      ],
      "metadata": {
        "id": "Q8kTOkpIOim4"
      },
      "id": "Q8kTOkpIOim4"
    },
    {
      "cell_type": "code",
      "execution_count": 38,
      "id": "668dbb8f-2b19-430c-a8d7-4585382371ba",
      "metadata": {
        "tags": [],
        "colab": {
          "base_uri": "https://localhost:8080/",
          "height": 80
        },
        "id": "668dbb8f-2b19-430c-a8d7-4585382371ba",
        "outputId": "8d837e77-fef9-44d4-9465-b5dcb9ce99b1"
      },
      "outputs": [
        {
          "output_type": "execute_result",
          "data": {
            "text/plain": [
              "LogisticRegression()"
            ],
            "text/html": [
              "<style>#sk-container-id-1 {\n",
              "  /* Definition of color scheme common for light and dark mode */\n",
              "  --sklearn-color-text: black;\n",
              "  --sklearn-color-line: gray;\n",
              "  /* Definition of color scheme for unfitted estimators */\n",
              "  --sklearn-color-unfitted-level-0: #fff5e6;\n",
              "  --sklearn-color-unfitted-level-1: #f6e4d2;\n",
              "  --sklearn-color-unfitted-level-2: #ffe0b3;\n",
              "  --sklearn-color-unfitted-level-3: chocolate;\n",
              "  /* Definition of color scheme for fitted estimators */\n",
              "  --sklearn-color-fitted-level-0: #f0f8ff;\n",
              "  --sklearn-color-fitted-level-1: #d4ebff;\n",
              "  --sklearn-color-fitted-level-2: #b3dbfd;\n",
              "  --sklearn-color-fitted-level-3: cornflowerblue;\n",
              "\n",
              "  /* Specific color for light theme */\n",
              "  --sklearn-color-text-on-default-background: var(--sg-text-color, var(--theme-code-foreground, var(--jp-content-font-color1, black)));\n",
              "  --sklearn-color-background: var(--sg-background-color, var(--theme-background, var(--jp-layout-color0, white)));\n",
              "  --sklearn-color-border-box: var(--sg-text-color, var(--theme-code-foreground, var(--jp-content-font-color1, black)));\n",
              "  --sklearn-color-icon: #696969;\n",
              "\n",
              "  @media (prefers-color-scheme: dark) {\n",
              "    /* Redefinition of color scheme for dark theme */\n",
              "    --sklearn-color-text-on-default-background: var(--sg-text-color, var(--theme-code-foreground, var(--jp-content-font-color1, white)));\n",
              "    --sklearn-color-background: var(--sg-background-color, var(--theme-background, var(--jp-layout-color0, #111)));\n",
              "    --sklearn-color-border-box: var(--sg-text-color, var(--theme-code-foreground, var(--jp-content-font-color1, white)));\n",
              "    --sklearn-color-icon: #878787;\n",
              "  }\n",
              "}\n",
              "\n",
              "#sk-container-id-1 {\n",
              "  color: var(--sklearn-color-text);\n",
              "}\n",
              "\n",
              "#sk-container-id-1 pre {\n",
              "  padding: 0;\n",
              "}\n",
              "\n",
              "#sk-container-id-1 input.sk-hidden--visually {\n",
              "  border: 0;\n",
              "  clip: rect(1px 1px 1px 1px);\n",
              "  clip: rect(1px, 1px, 1px, 1px);\n",
              "  height: 1px;\n",
              "  margin: -1px;\n",
              "  overflow: hidden;\n",
              "  padding: 0;\n",
              "  position: absolute;\n",
              "  width: 1px;\n",
              "}\n",
              "\n",
              "#sk-container-id-1 div.sk-dashed-wrapped {\n",
              "  border: 1px dashed var(--sklearn-color-line);\n",
              "  margin: 0 0.4em 0.5em 0.4em;\n",
              "  box-sizing: border-box;\n",
              "  padding-bottom: 0.4em;\n",
              "  background-color: var(--sklearn-color-background);\n",
              "}\n",
              "\n",
              "#sk-container-id-1 div.sk-container {\n",
              "  /* jupyter's `normalize.less` sets `[hidden] { display: none; }`\n",
              "     but bootstrap.min.css set `[hidden] { display: none !important; }`\n",
              "     so we also need the `!important` here to be able to override the\n",
              "     default hidden behavior on the sphinx rendered scikit-learn.org.\n",
              "     See: https://github.com/scikit-learn/scikit-learn/issues/21755 */\n",
              "  display: inline-block !important;\n",
              "  position: relative;\n",
              "}\n",
              "\n",
              "#sk-container-id-1 div.sk-text-repr-fallback {\n",
              "  display: none;\n",
              "}\n",
              "\n",
              "div.sk-parallel-item,\n",
              "div.sk-serial,\n",
              "div.sk-item {\n",
              "  /* draw centered vertical line to link estimators */\n",
              "  background-image: linear-gradient(var(--sklearn-color-text-on-default-background), var(--sklearn-color-text-on-default-background));\n",
              "  background-size: 2px 100%;\n",
              "  background-repeat: no-repeat;\n",
              "  background-position: center center;\n",
              "}\n",
              "\n",
              "/* Parallel-specific style estimator block */\n",
              "\n",
              "#sk-container-id-1 div.sk-parallel-item::after {\n",
              "  content: \"\";\n",
              "  width: 100%;\n",
              "  border-bottom: 2px solid var(--sklearn-color-text-on-default-background);\n",
              "  flex-grow: 1;\n",
              "}\n",
              "\n",
              "#sk-container-id-1 div.sk-parallel {\n",
              "  display: flex;\n",
              "  align-items: stretch;\n",
              "  justify-content: center;\n",
              "  background-color: var(--sklearn-color-background);\n",
              "  position: relative;\n",
              "}\n",
              "\n",
              "#sk-container-id-1 div.sk-parallel-item {\n",
              "  display: flex;\n",
              "  flex-direction: column;\n",
              "}\n",
              "\n",
              "#sk-container-id-1 div.sk-parallel-item:first-child::after {\n",
              "  align-self: flex-end;\n",
              "  width: 50%;\n",
              "}\n",
              "\n",
              "#sk-container-id-1 div.sk-parallel-item:last-child::after {\n",
              "  align-self: flex-start;\n",
              "  width: 50%;\n",
              "}\n",
              "\n",
              "#sk-container-id-1 div.sk-parallel-item:only-child::after {\n",
              "  width: 0;\n",
              "}\n",
              "\n",
              "/* Serial-specific style estimator block */\n",
              "\n",
              "#sk-container-id-1 div.sk-serial {\n",
              "  display: flex;\n",
              "  flex-direction: column;\n",
              "  align-items: center;\n",
              "  background-color: var(--sklearn-color-background);\n",
              "  padding-right: 1em;\n",
              "  padding-left: 1em;\n",
              "}\n",
              "\n",
              "\n",
              "/* Toggleable style: style used for estimator/Pipeline/ColumnTransformer box that is\n",
              "clickable and can be expanded/collapsed.\n",
              "- Pipeline and ColumnTransformer use this feature and define the default style\n",
              "- Estimators will overwrite some part of the style using the `sk-estimator` class\n",
              "*/\n",
              "\n",
              "/* Pipeline and ColumnTransformer style (default) */\n",
              "\n",
              "#sk-container-id-1 div.sk-toggleable {\n",
              "  /* Default theme specific background. It is overwritten whether we have a\n",
              "  specific estimator or a Pipeline/ColumnTransformer */\n",
              "  background-color: var(--sklearn-color-background);\n",
              "}\n",
              "\n",
              "/* Toggleable label */\n",
              "#sk-container-id-1 label.sk-toggleable__label {\n",
              "  cursor: pointer;\n",
              "  display: block;\n",
              "  width: 100%;\n",
              "  margin-bottom: 0;\n",
              "  padding: 0.5em;\n",
              "  box-sizing: border-box;\n",
              "  text-align: center;\n",
              "}\n",
              "\n",
              "#sk-container-id-1 label.sk-toggleable__label-arrow:before {\n",
              "  /* Arrow on the left of the label */\n",
              "  content: \"▸\";\n",
              "  float: left;\n",
              "  margin-right: 0.25em;\n",
              "  color: var(--sklearn-color-icon);\n",
              "}\n",
              "\n",
              "#sk-container-id-1 label.sk-toggleable__label-arrow:hover:before {\n",
              "  color: var(--sklearn-color-text);\n",
              "}\n",
              "\n",
              "/* Toggleable content - dropdown */\n",
              "\n",
              "#sk-container-id-1 div.sk-toggleable__content {\n",
              "  max-height: 0;\n",
              "  max-width: 0;\n",
              "  overflow: hidden;\n",
              "  text-align: left;\n",
              "  /* unfitted */\n",
              "  background-color: var(--sklearn-color-unfitted-level-0);\n",
              "}\n",
              "\n",
              "#sk-container-id-1 div.sk-toggleable__content.fitted {\n",
              "  /* fitted */\n",
              "  background-color: var(--sklearn-color-fitted-level-0);\n",
              "}\n",
              "\n",
              "#sk-container-id-1 div.sk-toggleable__content pre {\n",
              "  margin: 0.2em;\n",
              "  border-radius: 0.25em;\n",
              "  color: var(--sklearn-color-text);\n",
              "  /* unfitted */\n",
              "  background-color: var(--sklearn-color-unfitted-level-0);\n",
              "}\n",
              "\n",
              "#sk-container-id-1 div.sk-toggleable__content.fitted pre {\n",
              "  /* unfitted */\n",
              "  background-color: var(--sklearn-color-fitted-level-0);\n",
              "}\n",
              "\n",
              "#sk-container-id-1 input.sk-toggleable__control:checked~div.sk-toggleable__content {\n",
              "  /* Expand drop-down */\n",
              "  max-height: 200px;\n",
              "  max-width: 100%;\n",
              "  overflow: auto;\n",
              "}\n",
              "\n",
              "#sk-container-id-1 input.sk-toggleable__control:checked~label.sk-toggleable__label-arrow:before {\n",
              "  content: \"▾\";\n",
              "}\n",
              "\n",
              "/* Pipeline/ColumnTransformer-specific style */\n",
              "\n",
              "#sk-container-id-1 div.sk-label input.sk-toggleable__control:checked~label.sk-toggleable__label {\n",
              "  color: var(--sklearn-color-text);\n",
              "  background-color: var(--sklearn-color-unfitted-level-2);\n",
              "}\n",
              "\n",
              "#sk-container-id-1 div.sk-label.fitted input.sk-toggleable__control:checked~label.sk-toggleable__label {\n",
              "  background-color: var(--sklearn-color-fitted-level-2);\n",
              "}\n",
              "\n",
              "/* Estimator-specific style */\n",
              "\n",
              "/* Colorize estimator box */\n",
              "#sk-container-id-1 div.sk-estimator input.sk-toggleable__control:checked~label.sk-toggleable__label {\n",
              "  /* unfitted */\n",
              "  background-color: var(--sklearn-color-unfitted-level-2);\n",
              "}\n",
              "\n",
              "#sk-container-id-1 div.sk-estimator.fitted input.sk-toggleable__control:checked~label.sk-toggleable__label {\n",
              "  /* fitted */\n",
              "  background-color: var(--sklearn-color-fitted-level-2);\n",
              "}\n",
              "\n",
              "#sk-container-id-1 div.sk-label label.sk-toggleable__label,\n",
              "#sk-container-id-1 div.sk-label label {\n",
              "  /* The background is the default theme color */\n",
              "  color: var(--sklearn-color-text-on-default-background);\n",
              "}\n",
              "\n",
              "/* On hover, darken the color of the background */\n",
              "#sk-container-id-1 div.sk-label:hover label.sk-toggleable__label {\n",
              "  color: var(--sklearn-color-text);\n",
              "  background-color: var(--sklearn-color-unfitted-level-2);\n",
              "}\n",
              "\n",
              "/* Label box, darken color on hover, fitted */\n",
              "#sk-container-id-1 div.sk-label.fitted:hover label.sk-toggleable__label.fitted {\n",
              "  color: var(--sklearn-color-text);\n",
              "  background-color: var(--sklearn-color-fitted-level-2);\n",
              "}\n",
              "\n",
              "/* Estimator label */\n",
              "\n",
              "#sk-container-id-1 div.sk-label label {\n",
              "  font-family: monospace;\n",
              "  font-weight: bold;\n",
              "  display: inline-block;\n",
              "  line-height: 1.2em;\n",
              "}\n",
              "\n",
              "#sk-container-id-1 div.sk-label-container {\n",
              "  text-align: center;\n",
              "}\n",
              "\n",
              "/* Estimator-specific */\n",
              "#sk-container-id-1 div.sk-estimator {\n",
              "  font-family: monospace;\n",
              "  border: 1px dotted var(--sklearn-color-border-box);\n",
              "  border-radius: 0.25em;\n",
              "  box-sizing: border-box;\n",
              "  margin-bottom: 0.5em;\n",
              "  /* unfitted */\n",
              "  background-color: var(--sklearn-color-unfitted-level-0);\n",
              "}\n",
              "\n",
              "#sk-container-id-1 div.sk-estimator.fitted {\n",
              "  /* fitted */\n",
              "  background-color: var(--sklearn-color-fitted-level-0);\n",
              "}\n",
              "\n",
              "/* on hover */\n",
              "#sk-container-id-1 div.sk-estimator:hover {\n",
              "  /* unfitted */\n",
              "  background-color: var(--sklearn-color-unfitted-level-2);\n",
              "}\n",
              "\n",
              "#sk-container-id-1 div.sk-estimator.fitted:hover {\n",
              "  /* fitted */\n",
              "  background-color: var(--sklearn-color-fitted-level-2);\n",
              "}\n",
              "\n",
              "/* Specification for estimator info (e.g. \"i\" and \"?\") */\n",
              "\n",
              "/* Common style for \"i\" and \"?\" */\n",
              "\n",
              ".sk-estimator-doc-link,\n",
              "a:link.sk-estimator-doc-link,\n",
              "a:visited.sk-estimator-doc-link {\n",
              "  float: right;\n",
              "  font-size: smaller;\n",
              "  line-height: 1em;\n",
              "  font-family: monospace;\n",
              "  background-color: var(--sklearn-color-background);\n",
              "  border-radius: 1em;\n",
              "  height: 1em;\n",
              "  width: 1em;\n",
              "  text-decoration: none !important;\n",
              "  margin-left: 1ex;\n",
              "  /* unfitted */\n",
              "  border: var(--sklearn-color-unfitted-level-1) 1pt solid;\n",
              "  color: var(--sklearn-color-unfitted-level-1);\n",
              "}\n",
              "\n",
              ".sk-estimator-doc-link.fitted,\n",
              "a:link.sk-estimator-doc-link.fitted,\n",
              "a:visited.sk-estimator-doc-link.fitted {\n",
              "  /* fitted */\n",
              "  border: var(--sklearn-color-fitted-level-1) 1pt solid;\n",
              "  color: var(--sklearn-color-fitted-level-1);\n",
              "}\n",
              "\n",
              "/* On hover */\n",
              "div.sk-estimator:hover .sk-estimator-doc-link:hover,\n",
              ".sk-estimator-doc-link:hover,\n",
              "div.sk-label-container:hover .sk-estimator-doc-link:hover,\n",
              ".sk-estimator-doc-link:hover {\n",
              "  /* unfitted */\n",
              "  background-color: var(--sklearn-color-unfitted-level-3);\n",
              "  color: var(--sklearn-color-background);\n",
              "  text-decoration: none;\n",
              "}\n",
              "\n",
              "div.sk-estimator.fitted:hover .sk-estimator-doc-link.fitted:hover,\n",
              ".sk-estimator-doc-link.fitted:hover,\n",
              "div.sk-label-container:hover .sk-estimator-doc-link.fitted:hover,\n",
              ".sk-estimator-doc-link.fitted:hover {\n",
              "  /* fitted */\n",
              "  background-color: var(--sklearn-color-fitted-level-3);\n",
              "  color: var(--sklearn-color-background);\n",
              "  text-decoration: none;\n",
              "}\n",
              "\n",
              "/* Span, style for the box shown on hovering the info icon */\n",
              ".sk-estimator-doc-link span {\n",
              "  display: none;\n",
              "  z-index: 9999;\n",
              "  position: relative;\n",
              "  font-weight: normal;\n",
              "  right: .2ex;\n",
              "  padding: .5ex;\n",
              "  margin: .5ex;\n",
              "  width: min-content;\n",
              "  min-width: 20ex;\n",
              "  max-width: 50ex;\n",
              "  color: var(--sklearn-color-text);\n",
              "  box-shadow: 2pt 2pt 4pt #999;\n",
              "  /* unfitted */\n",
              "  background: var(--sklearn-color-unfitted-level-0);\n",
              "  border: .5pt solid var(--sklearn-color-unfitted-level-3);\n",
              "}\n",
              "\n",
              ".sk-estimator-doc-link.fitted span {\n",
              "  /* fitted */\n",
              "  background: var(--sklearn-color-fitted-level-0);\n",
              "  border: var(--sklearn-color-fitted-level-3);\n",
              "}\n",
              "\n",
              ".sk-estimator-doc-link:hover span {\n",
              "  display: block;\n",
              "}\n",
              "\n",
              "/* \"?\"-specific style due to the `<a>` HTML tag */\n",
              "\n",
              "#sk-container-id-1 a.estimator_doc_link {\n",
              "  float: right;\n",
              "  font-size: 1rem;\n",
              "  line-height: 1em;\n",
              "  font-family: monospace;\n",
              "  background-color: var(--sklearn-color-background);\n",
              "  border-radius: 1rem;\n",
              "  height: 1rem;\n",
              "  width: 1rem;\n",
              "  text-decoration: none;\n",
              "  /* unfitted */\n",
              "  color: var(--sklearn-color-unfitted-level-1);\n",
              "  border: var(--sklearn-color-unfitted-level-1) 1pt solid;\n",
              "}\n",
              "\n",
              "#sk-container-id-1 a.estimator_doc_link.fitted {\n",
              "  /* fitted */\n",
              "  border: var(--sklearn-color-fitted-level-1) 1pt solid;\n",
              "  color: var(--sklearn-color-fitted-level-1);\n",
              "}\n",
              "\n",
              "/* On hover */\n",
              "#sk-container-id-1 a.estimator_doc_link:hover {\n",
              "  /* unfitted */\n",
              "  background-color: var(--sklearn-color-unfitted-level-3);\n",
              "  color: var(--sklearn-color-background);\n",
              "  text-decoration: none;\n",
              "}\n",
              "\n",
              "#sk-container-id-1 a.estimator_doc_link.fitted:hover {\n",
              "  /* fitted */\n",
              "  background-color: var(--sklearn-color-fitted-level-3);\n",
              "}\n",
              "</style><div id=\"sk-container-id-1\" class=\"sk-top-container\"><div class=\"sk-text-repr-fallback\"><pre>LogisticRegression()</pre><b>In a Jupyter environment, please rerun this cell to show the HTML representation or trust the notebook. <br />On GitHub, the HTML representation is unable to render, please try loading this page with nbviewer.org.</b></div><div class=\"sk-container\" hidden><div class=\"sk-item\"><div class=\"sk-estimator fitted sk-toggleable\"><input class=\"sk-toggleable__control sk-hidden--visually\" id=\"sk-estimator-id-1\" type=\"checkbox\" checked><label for=\"sk-estimator-id-1\" class=\"sk-toggleable__label fitted sk-toggleable__label-arrow fitted\">&nbsp;&nbsp;LogisticRegression<a class=\"sk-estimator-doc-link fitted\" rel=\"noreferrer\" target=\"_blank\" href=\"https://scikit-learn.org/1.5/modules/generated/sklearn.linear_model.LogisticRegression.html\">?<span>Documentation for LogisticRegression</span></a><span class=\"sk-estimator-doc-link fitted\">i<span>Fitted</span></span></label><div class=\"sk-toggleable__content fitted\"><pre>LogisticRegression()</pre></div> </div></div></div></div>"
            ]
          },
          "metadata": {},
          "execution_count": 38
        }
      ],
      "source": [
        "##model training : logistic regression\n",
        "\n",
        "from sklearn.model_selection import train_test_split\n",
        "from sklearn.linear_model import LogisticRegression  # Example model\n",
        "\n",
        "# Assuming y_train and y_test are your target variables\n",
        "model = LogisticRegression()\n",
        "model.fit(X_train_scaled, y_train)\n"
      ]
    },
    {
      "cell_type": "code",
      "execution_count": 39,
      "id": "9680ac42-1c8f-4989-a893-7c0463934951",
      "metadata": {
        "tags": [],
        "colab": {
          "base_uri": "https://localhost:8080/"
        },
        "id": "9680ac42-1c8f-4989-a893-7c0463934951",
        "outputId": "d52b16f6-48f7-459b-ffc8-cb67572dc736"
      },
      "outputs": [
        {
          "output_type": "stream",
          "name": "stdout",
          "text": [
            "Accuracy: 0.4881516587677725\n",
            "              precision    recall  f1-score   support\n",
            "\n",
            "         0.0       0.48      0.55      0.52       939\n",
            "         1.0       0.49      0.42      0.46       960\n",
            "\n",
            "    accuracy                           0.49      1899\n",
            "   macro avg       0.49      0.49      0.49      1899\n",
            "weighted avg       0.49      0.49      0.49      1899\n",
            "\n",
            "[[521 418]\n",
            " [554 406]]\n"
          ]
        }
      ],
      "source": [
        "## model evaluation\n",
        "\n",
        "y_pred = model.predict(X_test_scaled)\n",
        "\n",
        "from sklearn.metrics import accuracy_score, classification_report, confusion_matrix\n",
        "\n",
        "accuracy = accuracy_score(y_test, y_pred)\n",
        "print(f'Accuracy: {accuracy}')\n",
        "\n",
        "print(classification_report(y_test, y_pred))\n",
        "\n",
        "conf_matrix = confusion_matrix(y_test, y_pred)\n",
        "print(conf_matrix)\n"
      ]
    },
    {
      "cell_type": "code",
      "source": [
        "import matplotlib.pyplot as plt\n",
        "import seaborn as sns\n",
        "from sklearn.metrics import accuracy_score, classification_report, confusion_matrix\n",
        "\n",
        "y_pred = model.predict(X_test_scaled)  # Assuming 'model' is already defined\n",
        "\n",
        "# Calculate metrics\n",
        "accuracy = accuracy_score(y_test, y_pred)\n",
        "print(f'Accuracy: {accuracy}')\n",
        "\n",
        "print(classification_report(y_test, y_pred))\n",
        "\n",
        "conf_matrix = confusion_matrix(y_test, y_pred)\n",
        "print(conf_matrix)\n",
        "\n",
        "# Plot confusion matrix\n",
        "plt.figure(figsize=(8, 6))\n",
        "sns.heatmap(conf_matrix, annot=True, fmt='d', cmap='Blues',\n",
        "            xticklabels=model.classes_, yticklabels=model.classes_)\n",
        "plt.xlabel('Predicted')\n",
        "plt.ylabel('Actual')\n",
        "plt.title('Confusion Matrix')\n",
        "plt.show()"
      ],
      "metadata": {
        "colab": {
          "base_uri": "https://localhost:8080/",
          "height": 772
        },
        "id": "3qvxZ3l6yh8p",
        "outputId": "a2191d07-f1d8-4027-d430-bcecdf5facbd"
      },
      "id": "3qvxZ3l6yh8p",
      "execution_count": 40,
      "outputs": [
        {
          "output_type": "stream",
          "name": "stdout",
          "text": [
            "Accuracy: 0.4881516587677725\n",
            "              precision    recall  f1-score   support\n",
            "\n",
            "         0.0       0.48      0.55      0.52       939\n",
            "         1.0       0.49      0.42      0.46       960\n",
            "\n",
            "    accuracy                           0.49      1899\n",
            "   macro avg       0.49      0.49      0.49      1899\n",
            "weighted avg       0.49      0.49      0.49      1899\n",
            "\n",
            "[[521 418]\n",
            " [554 406]]\n"
          ]
        },
        {
          "output_type": "display_data",
          "data": {
            "text/plain": [
              "<Figure size 800x600 with 2 Axes>"
            ],
            "image/png": "[encoded data removed]"
          },
          "metadata": {}
        }
      ]
    },
    {
      "cell_type": "code",
      "source": [
        "import matplotlib.pyplot as plt\n",
        "import numpy as np\n",
        "from sklearn.metrics import precision_recall_fscore_support\n",
        "\n",
        "# Calculate precision, recall, and F1-score\n",
        "precision, recall, f1_score, _ = precision_recall_fscore_support(y_test, y_pred, average='macro')\n",
        "\n",
        "# Create bar plot\n",
        "labels = ['Precision', 'Recall', 'F1-score']\n",
        "values = [precision, recall, f1_score]\n",
        "\n",
        "plt.figure(figsize=(8, 6))\n",
        "plt.bar(labels, values, color=['blue', 'green', 'orange'])\n",
        "plt.ylim(0, 1.1)  # Set y-axis limits for better visualization\n",
        "plt.ylabel('Score')\n",
        "plt.title('Precision, Recall, and F1-score')\n",
        "\n",
        "# Display values on top of bars\n",
        "for i, value in enumerate(values):\n",
        "    plt.text(i, value + 0.02, f'{value:.2f}', ha='center')\n",
        "\n",
        "plt.show()\n",
        "\n"
      ],
      "metadata": {
        "colab": {
          "base_uri": "https://localhost:8080/",
          "height": 545
        },
        "id": "ZRLoiwN3yyB4",
        "outputId": "5c3bc3c1-d250-4765-ddf6-941a18946196"
      },
      "id": "ZRLoiwN3yyB4",
      "execution_count": 41,
      "outputs": [
        {
          "output_type": "display_data",
          "data": {
            "text/plain": [
              "<Figure size 800x600 with 1 Axes>"
            ],
            "image/png": "[encoded data removed]"
          },
          "metadata": {}
        }
      ]
    },
    {
      "cell_type": "code",
      "execution_count": 42,
      "id": "3f4bfa70-6df9-494f-a980-63a5a3948845",
      "metadata": {
        "tags": [],
        "colab": {
          "base_uri": "https://localhost:8080/",
          "height": 80
        },
        "id": "3f4bfa70-6df9-494f-a980-63a5a3948845",
        "outputId": "58e9334d-e08c-4234-836e-caae51da30de"
      },
      "outputs": [
        {
          "output_type": "execute_result",
          "data": {
            "text/plain": [
              "DecisionTreeClassifier(random_state=0)"
            ],
            "text/html": [
              "<style>#sk-container-id-2 {\n",
              "  /* Definition of color scheme common for light and dark mode */\n",
              "  --sklearn-color-text: black;\n",
              "  --sklearn-color-line: gray;\n",
              "  /* Definition of color scheme for unfitted estimators */\n",
              "  --sklearn-color-unfitted-level-0: #fff5e6;\n",
              "  --sklearn-color-unfitted-level-1: #f6e4d2;\n",
              "  --sklearn-color-unfitted-level-2: #ffe0b3;\n",
              "  --sklearn-color-unfitted-level-3: chocolate;\n",
              "  /* Definition of color scheme for fitted estimators */\n",
              "  --sklearn-color-fitted-level-0: #f0f8ff;\n",
              "  --sklearn-color-fitted-level-1: #d4ebff;\n",
              "  --sklearn-color-fitted-level-2: #b3dbfd;\n",
              "  --sklearn-color-fitted-level-3: cornflowerblue;\n",
              "\n",
              "  /* Specific color for light theme */\n",
              "  --sklearn-color-text-on-default-background: var(--sg-text-color, var(--theme-code-foreground, var(--jp-content-font-color1, black)));\n",
              "  --sklearn-color-background: var(--sg-background-color, var(--theme-background, var(--jp-layout-color0, white)));\n",
              "  --sklearn-color-border-box: var(--sg-text-color, var(--theme-code-foreground, var(--jp-content-font-color1, black)));\n",
              "  --sklearn-color-icon: #696969;\n",
              "\n",
              "  @media (prefers-color-scheme: dark) {\n",
              "    /* Redefinition of color scheme for dark theme */\n",
              "    --sklearn-color-text-on-default-background: var(--sg-text-color, var(--theme-code-foreground, var(--jp-content-font-color1, white)));\n",
              "    --sklearn-color-background: var(--sg-background-color, var(--theme-background, var(--jp-layout-color0, #111)));\n",
              "    --sklearn-color-border-box: var(--sg-text-color, var(--theme-code-foreground, var(--jp-content-font-color1, white)));\n",
              "    --sklearn-color-icon: #878787;\n",
              "  }\n",
              "}\n",
              "\n",
              "#sk-container-id-2 {\n",
              "  color: var(--sklearn-color-text);\n",
              "}\n",
              "\n",
              "#sk-container-id-2 pre {\n",
              "  padding: 0;\n",
              "}\n",
              "\n",
              "#sk-container-id-2 input.sk-hidden--visually {\n",
              "  border: 0;\n",
              "  clip: rect(1px 1px 1px 1px);\n",
              "  clip: rect(1px, 1px, 1px, 1px);\n",
              "  height: 1px;\n",
              "  margin: -1px;\n",
              "  overflow: hidden;\n",
              "  padding: 0;\n",
              "  position: absolute;\n",
              "  width: 1px;\n",
              "}\n",
              "\n",
              "#sk-container-id-2 div.sk-dashed-wrapped {\n",
              "  border: 1px dashed var(--sklearn-color-line);\n",
              "  margin: 0 0.4em 0.5em 0.4em;\n",
              "  box-sizing: border-box;\n",
              "  padding-bottom: 0.4em;\n",
              "  background-color: var(--sklearn-color-background);\n",
              "}\n",
              "\n",
              "#sk-container-id-2 div.sk-container {\n",
              "  /* jupyter's `normalize.less` sets `[hidden] { display: none; }`\n",
              "     but bootstrap.min.css set `[hidden] { display: none !important; }`\n",
              "     so we also need the `!important` here to be able to override the\n",
              "     default hidden behavior on the sphinx rendered scikit-learn.org.\n",
              "     See: https://github.com/scikit-learn/scikit-learn/issues/21755 */\n",
              "  display: inline-block !important;\n",
              "  position: relative;\n",
              "}\n",
              "\n",
              "#sk-container-id-2 div.sk-text-repr-fallback {\n",
              "  display: none;\n",
              "}\n",
              "\n",
              "div.sk-parallel-item,\n",
              "div.sk-serial,\n",
              "div.sk-item {\n",
              "  /* draw centered vertical line to link estimators */\n",
              "  background-image: linear-gradient(var(--sklearn-color-text-on-default-background), var(--sklearn-color-text-on-default-background));\n",
              "  background-size: 2px 100%;\n",
              "  background-repeat: no-repeat;\n",
              "  background-position: center center;\n",
              "}\n",
              "\n",
              "/* Parallel-specific style estimator block */\n",
              "\n",
              "#sk-container-id-2 div.sk-parallel-item::after {\n",
              "  content: \"\";\n",
              "  width: 100%;\n",
              "  border-bottom: 2px solid var(--sklearn-color-text-on-default-background);\n",
              "  flex-grow: 1;\n",
              "}\n",
              "\n",
              "#sk-container-id-2 div.sk-parallel {\n",
              "  display: flex;\n",
              "  align-items: stretch;\n",
              "  justify-content: center;\n",
              "  background-color: var(--sklearn-color-background);\n",
              "  position: relative;\n",
              "}\n",
              "\n",
              "#sk-container-id-2 div.sk-parallel-item {\n",
              "  display: flex;\n",
              "  flex-direction: column;\n",
              "}\n",
              "\n",
              "#sk-container-id-2 div.sk-parallel-item:first-child::after {\n",
              "  align-self: flex-end;\n",
              "  width: 50%;\n",
              "}\n",
              "\n",
              "#sk-container-id-2 div.sk-parallel-item:last-child::after {\n",
              "  align-self: flex-start;\n",
              "  width: 50%;\n",
              "}\n",
              "\n",
              "#sk-container-id-2 div.sk-parallel-item:only-child::after {\n",
              "  width: 0;\n",
              "}\n",
              "\n",
              "/* Serial-specific style estimator block */\n",
              "\n",
              "#sk-container-id-2 div.sk-serial {\n",
              "  display: flex;\n",
              "  flex-direction: column;\n",
              "  align-items: center;\n",
              "  background-color: var(--sklearn-color-background);\n",
              "  padding-right: 1em;\n",
              "  padding-left: 1em;\n",
              "}\n",
              "\n",
              "\n",
              "/* Toggleable style: style used for estimator/Pipeline/ColumnTransformer box that is\n",
              "clickable and can be expanded/collapsed.\n",
              "- Pipeline and ColumnTransformer use this feature and define the default style\n",
              "- Estimators will overwrite some part of the style using the `sk-estimator` class\n",
              "*/\n",
              "\n",
              "/* Pipeline and ColumnTransformer style (default) */\n",
              "\n",
              "#sk-container-id-2 div.sk-toggleable {\n",
              "  /* Default theme specific background. It is overwritten whether we have a\n",
              "  specific estimator or a Pipeline/ColumnTransformer */\n",
              "  background-color: var(--sklearn-color-background);\n",
              "}\n",
              "\n",
              "/* Toggleable label */\n",
              "#sk-container-id-2 label.sk-toggleable__label {\n",
              "  cursor: pointer;\n",
              "  display: block;\n",
              "  width: 100%;\n",
              "  margin-bottom: 0;\n",
              "  padding: 0.5em;\n",
              "  box-sizing: border-box;\n",
              "  text-align: center;\n",
              "}\n",
              "\n",
              "#sk-container-id-2 label.sk-toggleable__label-arrow:before {\n",
              "  /* Arrow on the left of the label */\n",
              "  content: \"▸\";\n",
              "  float: left;\n",
              "  margin-right: 0.25em;\n",
              "  color: var(--sklearn-color-icon);\n",
              "}\n",
              "\n",
              "#sk-container-id-2 label.sk-toggleable__label-arrow:hover:before {\n",
              "  color: var(--sklearn-color-text);\n",
              "}\n",
              "\n",
              "/* Toggleable content - dropdown */\n",
              "\n",
              "#sk-container-id-2 div.sk-toggleable__content {\n",
              "  max-height: 0;\n",
              "  max-width: 0;\n",
              "  overflow: hidden;\n",
              "  text-align: left;\n",
              "  /* unfitted */\n",
              "  background-color: var(--sklearn-color-unfitted-level-0);\n",
              "}\n",
              "\n",
              "#sk-container-id-2 div.sk-toggleable__content.fitted {\n",
              "  /* fitted */\n",
              "  background-color: var(--sklearn-color-fitted-level-0);\n",
              "}\n",
              "\n",
              "#sk-container-id-2 div.sk-toggleable__content pre {\n",
              "  margin: 0.2em;\n",
              "  border-radius: 0.25em;\n",
              "  color: var(--sklearn-color-text);\n",
              "  /* unfitted */\n",
              "  background-color: var(--sklearn-color-unfitted-level-0);\n",
              "}\n",
              "\n",
              "#sk-container-id-2 div.sk-toggleable__content.fitted pre {\n",
              "  /* unfitted */\n",
              "  background-color: var(--sklearn-color-fitted-level-0);\n",
              "}\n",
              "\n",
              "#sk-container-id-2 input.sk-toggleable__control:checked~div.sk-toggleable__content {\n",
              "  /* Expand drop-down */\n",
              "  max-height: 200px;\n",
              "  max-width: 100%;\n",
              "  overflow: auto;\n",
              "}\n",
              "\n",
              "#sk-container-id-2 input.sk-toggleable__control:checked~label.sk-toggleable__label-arrow:before {\n",
              "  content: \"▾\";\n",
              "}\n",
              "\n",
              "/* Pipeline/ColumnTransformer-specific style */\n",
              "\n",
              "#sk-container-id-2 div.sk-label input.sk-toggleable__control:checked~label.sk-toggleable__label {\n",
              "  color: var(--sklearn-color-text);\n",
              "  background-color: var(--sklearn-color-unfitted-level-2);\n",
              "}\n",
              "\n",
              "#sk-container-id-2 div.sk-label.fitted input.sk-toggleable__control:checked~label.sk-toggleable__label {\n",
              "  background-color: var(--sklearn-color-fitted-level-2);\n",
              "}\n",
              "\n",
              "/* Estimator-specific style */\n",
              "\n",
              "/* Colorize estimator box */\n",
              "#sk-container-id-2 div.sk-estimator input.sk-toggleable__control:checked~label.sk-toggleable__label {\n",
              "  /* unfitted */\n",
              "  background-color: var(--sklearn-color-unfitted-level-2);\n",
              "}\n",
              "\n",
              "#sk-container-id-2 div.sk-estimator.fitted input.sk-toggleable__control:checked~label.sk-toggleable__label {\n",
              "  /* fitted */\n",
              "  background-color: var(--sklearn-color-fitted-level-2);\n",
              "}\n",
              "\n",
              "#sk-container-id-2 div.sk-label label.sk-toggleable__label,\n",
              "#sk-container-id-2 div.sk-label label {\n",
              "  /* The background is the default theme color */\n",
              "  color: var(--sklearn-color-text-on-default-background);\n",
              "}\n",
              "\n",
              "/* On hover, darken the color of the background */\n",
              "#sk-container-id-2 div.sk-label:hover label.sk-toggleable__label {\n",
              "  color: var(--sklearn-color-text);\n",
              "  background-color: var(--sklearn-color-unfitted-level-2);\n",
              "}\n",
              "\n",
              "/* Label box, darken color on hover, fitted */\n",
              "#sk-container-id-2 div.sk-label.fitted:hover label.sk-toggleable__label.fitted {\n",
              "  color: var(--sklearn-color-text);\n",
              "  background-color: var(--sklearn-color-fitted-level-2);\n",
              "}\n",
              "\n",
              "/* Estimator label */\n",
              "\n",
              "#sk-container-id-2 div.sk-label label {\n",
              "  font-family: monospace;\n",
              "  font-weight: bold;\n",
              "  display: inline-block;\n",
              "  line-height: 1.2em;\n",
              "}\n",
              "\n",
              "#sk-container-id-2 div.sk-label-container {\n",
              "  text-align: center;\n",
              "}\n",
              "\n",
              "/* Estimator-specific */\n",
              "#sk-container-id-2 div.sk-estimator {\n",
              "  font-family: monospace;\n",
              "  border: 1px dotted var(--sklearn-color-border-box);\n",
              "  border-radius: 0.25em;\n",
              "  box-sizing: border-box;\n",
              "  margin-bottom: 0.5em;\n",
              "  /* unfitted */\n",
              "  background-color: var(--sklearn-color-unfitted-level-0);\n",
              "}\n",
              "\n",
              "#sk-container-id-2 div.sk-estimator.fitted {\n",
              "  /* fitted */\n",
              "  background-color: var(--sklearn-color-fitted-level-0);\n",
              "}\n",
              "\n",
              "/* on hover */\n",
              "#sk-container-id-2 div.sk-estimator:hover {\n",
              "  /* unfitted */\n",
              "  background-color: var(--sklearn-color-unfitted-level-2);\n",
              "}\n",
              "\n",
              "#sk-container-id-2 div.sk-estimator.fitted:hover {\n",
              "  /* fitted */\n",
              "  background-color: var(--sklearn-color-fitted-level-2);\n",
              "}\n",
              "\n",
              "/* Specification for estimator info (e.g. \"i\" and \"?\") */\n",
              "\n",
              "/* Common style for \"i\" and \"?\" */\n",
              "\n",
              ".sk-estimator-doc-link,\n",
              "a:link.sk-estimator-doc-link,\n",
              "a:visited.sk-estimator-doc-link {\n",
              "  float: right;\n",
              "  font-size: smaller;\n",
              "  line-height: 1em;\n",
              "  font-family: monospace;\n",
              "  background-color: var(--sklearn-color-background);\n",
              "  border-radius: 1em;\n",
              "  height: 1em;\n",
              "  width: 1em;\n",
              "  text-decoration: none !important;\n",
              "  margin-left: 1ex;\n",
              "  /* unfitted */\n",
              "  border: var(--sklearn-color-unfitted-level-1) 1pt solid;\n",
              "  color: var(--sklearn-color-unfitted-level-1);\n",
              "}\n",
              "\n",
              ".sk-estimator-doc-link.fitted,\n",
              "a:link.sk-estimator-doc-link.fitted,\n",
              "a:visited.sk-estimator-doc-link.fitted {\n",
              "  /* fitted */\n",
              "  border: var(--sklearn-color-fitted-level-1) 1pt solid;\n",
              "  color: var(--sklearn-color-fitted-level-1);\n",
              "}\n",
              "\n",
              "/* On hover */\n",
              "div.sk-estimator:hover .sk-estimator-doc-link:hover,\n",
              ".sk-estimator-doc-link:hover,\n",
              "div.sk-label-container:hover .sk-estimator-doc-link:hover,\n",
              ".sk-estimator-doc-link:hover {\n",
              "  /* unfitted */\n",
              "  background-color: var(--sklearn-color-unfitted-level-3);\n",
              "  color: var(--sklearn-color-background);\n",
              "  text-decoration: none;\n",
              "}\n",
              "\n",
              "div.sk-estimator.fitted:hover .sk-estimator-doc-link.fitted:hover,\n",
              ".sk-estimator-doc-link.fitted:hover,\n",
              "div.sk-label-container:hover .sk-estimator-doc-link.fitted:hover,\n",
              ".sk-estimator-doc-link.fitted:hover {\n",
              "  /* fitted */\n",
              "  background-color: var(--sklearn-color-fitted-level-3);\n",
              "  color: var(--sklearn-color-background);\n",
              "  text-decoration: none;\n",
              "}\n",
              "\n",
              "/* Span, style for the box shown on hovering the info icon */\n",
              ".sk-estimator-doc-link span {\n",
              "  display: none;\n",
              "  z-index: 9999;\n",
              "  position: relative;\n",
              "  font-weight: normal;\n",
              "  right: .2ex;\n",
              "  padding: .5ex;\n",
              "  margin: .5ex;\n",
              "  width: min-content;\n",
              "  min-width: 20ex;\n",
              "  max-width: 50ex;\n",
              "  color: var(--sklearn-color-text);\n",
              "  box-shadow: 2pt 2pt 4pt #999;\n",
              "  /* unfitted */\n",
              "  background: var(--sklearn-color-unfitted-level-0);\n",
              "  border: .5pt solid var(--sklearn-color-unfitted-level-3);\n",
              "}\n",
              "\n",
              ".sk-estimator-doc-link.fitted span {\n",
              "  /* fitted */\n",
              "  background: var(--sklearn-color-fitted-level-0);\n",
              "  border: var(--sklearn-color-fitted-level-3);\n",
              "}\n",
              "\n",
              ".sk-estimator-doc-link:hover span {\n",
              "  display: block;\n",
              "}\n",
              "\n",
              "/* \"?\"-specific style due to the `<a>` HTML tag */\n",
              "\n",
              "#sk-container-id-2 a.estimator_doc_link {\n",
              "  float: right;\n",
              "  font-size: 1rem;\n",
              "  line-height: 1em;\n",
              "  font-family: monospace;\n",
              "  background-color: var(--sklearn-color-background);\n",
              "  border-radius: 1rem;\n",
              "  height: 1rem;\n",
              "  width: 1rem;\n",
              "  text-decoration: none;\n",
              "  /* unfitted */\n",
              "  color: var(--sklearn-color-unfitted-level-1);\n",
              "  border: var(--sklearn-color-unfitted-level-1) 1pt solid;\n",
              "}\n",
              "\n",
              "#sk-container-id-2 a.estimator_doc_link.fitted {\n",
              "  /* fitted */\n",
              "  border: var(--sklearn-color-fitted-level-1) 1pt solid;\n",
              "  color: var(--sklearn-color-fitted-level-1);\n",
              "}\n",
              "\n",
              "/* On hover */\n",
              "#sk-container-id-2 a.estimator_doc_link:hover {\n",
              "  /* unfitted */\n",
              "  background-color: var(--sklearn-color-unfitted-level-3);\n",
              "  color: var(--sklearn-color-background);\n",
              "  text-decoration: none;\n",
              "}\n",
              "\n",
              "#sk-container-id-2 a.estimator_doc_link.fitted:hover {\n",
              "  /* fitted */\n",
              "  background-color: var(--sklearn-color-fitted-level-3);\n",
              "}\n",
              "</style><div id=\"sk-container-id-2\" class=\"sk-top-container\"><div class=\"sk-text-repr-fallback\"><pre>DecisionTreeClassifier(random_state=0)</pre><b>In a Jupyter environment, please rerun this cell to show the HTML representation or trust the notebook. <br />On GitHub, the HTML representation is unable to render, please try loading this page with nbviewer.org.</b></div><div class=\"sk-container\" hidden><div class=\"sk-item\"><div class=\"sk-estimator fitted sk-toggleable\"><input class=\"sk-toggleable__control sk-hidden--visually\" id=\"sk-estimator-id-2\" type=\"checkbox\" checked><label for=\"sk-estimator-id-2\" class=\"sk-toggleable__label fitted sk-toggleable__label-arrow fitted\">&nbsp;&nbsp;DecisionTreeClassifier<a class=\"sk-estimator-doc-link fitted\" rel=\"noreferrer\" target=\"_blank\" href=\"https://scikit-learn.org/1.5/modules/generated/sklearn.tree.DecisionTreeClassifier.html\">?<span>Documentation for DecisionTreeClassifier</span></a><span class=\"sk-estimator-doc-link fitted\">i<span>Fitted</span></span></label><div class=\"sk-toggleable__content fitted\"><pre>DecisionTreeClassifier(random_state=0)</pre></div> </div></div></div></div>"
            ]
          },
          "metadata": {},
          "execution_count": 42
        }
      ],
      "source": [
        "from sklearn.tree import DecisionTreeClassifier\n",
        "\n",
        "# Initialize the model\n",
        "decision_tree = DecisionTreeClassifier(random_state=0)\n",
        "\n",
        "# Train the model\n",
        "decision_tree.fit(X_train_scaled, y_train)\n"
      ]
    },
    {
      "cell_type": "code",
      "execution_count": 43,
      "id": "9dd94811-b03b-46c3-8d8d-5a9072538bc4",
      "metadata": {
        "tags": [],
        "colab": {
          "base_uri": "https://localhost:8080/"
        },
        "id": "9dd94811-b03b-46c3-8d8d-5a9072538bc4",
        "outputId": "7302ef4e-1f3b-46ce-bcd6-fce3aa396135"
      },
      "outputs": [
        {
          "output_type": "stream",
          "name": "stdout",
          "text": [
            "Accuracy: 0.50\n",
            "\n",
            "Classification Report:\n",
            "              precision    recall  f1-score   support\n",
            "\n",
            "         0.0       0.50      0.51      0.50       939\n",
            "         1.0       0.51      0.50      0.50       960\n",
            "\n",
            "    accuracy                           0.50      1899\n",
            "   macro avg       0.50      0.50      0.50      1899\n",
            "weighted avg       0.50      0.50      0.50      1899\n",
            "\n",
            "\n",
            "Confusion Matrix:\n",
            "[[479 460]\n",
            " [481 479]]\n"
          ]
        }
      ],
      "source": [
        "from sklearn.metrics import accuracy_score, classification_report, confusion_matrix\n",
        "\n",
        "# Predict on test data\n",
        "y_pred = decision_tree.predict(X_test_scaled)\n",
        "# Calculate accuracy\n",
        "accuracy = accuracy_score(y_test, y_pred)\n",
        "print(f\"Accuracy: {accuracy:.2f}\")\n",
        "# Classification report\n",
        "print(\"\\nClassification Report:\")\n",
        "print(classification_report(y_test, y_pred))\n",
        "# Confusion matrix\n",
        "print(\"\\nConfusion Matrix:\")\n",
        "print(confusion_matrix(y_test, y_pred))\n"
      ]
    },
    {
      "cell_type": "code",
      "source": [
        "from sklearn.ensemble import RandomForestClassifier\n",
        "\n",
        "# Initialize the model\n",
        "random_forest = RandomForestClassifier(random_state=0)\n",
        "\n",
        "# Train the model\n",
        "random_forest.fit(X_train_scaled, y_train)"
      ],
      "metadata": {
        "colab": {
          "base_uri": "https://localhost:8080/",
          "height": 80
        },
        "id": "YsXu66k3znly",
        "outputId": "a34ad4f9-90b0-4656-e112-fa09f1928cd9"
      },
      "id": "YsXu66k3znly",
      "execution_count": 44,
      "outputs": [
        {
          "output_type": "execute_result",
          "data": {
            "text/plain": [
              "RandomForestClassifier(random_state=0)"
            ],
            "text/html": [
              "<style>#sk-container-id-3 {\n",
              "  /* Definition of color scheme common for light and dark mode */\n",
              "  --sklearn-color-text: black;\n",
              "  --sklearn-color-line: gray;\n",
              "  /* Definition of color scheme for unfitted estimators */\n",
              "  --sklearn-color-unfitted-level-0: #fff5e6;\n",
              "  --sklearn-color-unfitted-level-1: #f6e4d2;\n",
              "  --sklearn-color-unfitted-level-2: #ffe0b3;\n",
              "  --sklearn-color-unfitted-level-3: chocolate;\n",
              "  /* Definition of color scheme for fitted estimators */\n",
              "  --sklearn-color-fitted-level-0: #f0f8ff;\n",
              "  --sklearn-color-fitted-level-1: #d4ebff;\n",
              "  --sklearn-color-fitted-level-2: #b3dbfd;\n",
              "  --sklearn-color-fitted-level-3: cornflowerblue;\n",
              "\n",
              "  /* Specific color for light theme */\n",
              "  --sklearn-color-text-on-default-background: var(--sg-text-color, var(--theme-code-foreground, var(--jp-content-font-color1, black)));\n",
              "  --sklearn-color-background: var(--sg-background-color, var(--theme-background, var(--jp-layout-color0, white)));\n",
              "  --sklearn-color-border-box: var(--sg-text-color, var(--theme-code-foreground, var(--jp-content-font-color1, black)));\n",
              "  --sklearn-color-icon: #696969;\n",
              "\n",
              "  @media (prefers-color-scheme: dark) {\n",
              "    /* Redefinition of color scheme for dark theme */\n",
              "    --sklearn-color-text-on-default-background: var(--sg-text-color, var(--theme-code-foreground, var(--jp-content-font-color1, white)));\n",
              "    --sklearn-color-background: var(--sg-background-color, var(--theme-background, var(--jp-layout-color0, #111)));\n",
              "    --sklearn-color-border-box: var(--sg-text-color, var(--theme-code-foreground, var(--jp-content-font-color1, white)));\n",
              "    --sklearn-color-icon: #878787;\n",
              "  }\n",
              "}\n",
              "\n",
              "#sk-container-id-3 {\n",
              "  color: var(--sklearn-color-text);\n",
              "}\n",
              "\n",
              "#sk-container-id-3 pre {\n",
              "  padding: 0;\n",
              "}\n",
              "\n",
              "#sk-container-id-3 input.sk-hidden--visually {\n",
              "  border: 0;\n",
              "  clip: rect(1px 1px 1px 1px);\n",
              "  clip: rect(1px, 1px, 1px, 1px);\n",
              "  height: 1px;\n",
              "  margin: -1px;\n",
              "  overflow: hidden;\n",
              "  padding: 0;\n",
              "  position: absolute;\n",
              "  width: 1px;\n",
              "}\n",
              "\n",
              "#sk-container-id-3 div.sk-dashed-wrapped {\n",
              "  border: 1px dashed var(--sklearn-color-line);\n",
              "  margin: 0 0.4em 0.5em 0.4em;\n",
              "  box-sizing: border-box;\n",
              "  padding-bottom: 0.4em;\n",
              "  background-color: var(--sklearn-color-background);\n",
              "}\n",
              "\n",
              "#sk-container-id-3 div.sk-container {\n",
              "  /* jupyter's `normalize.less` sets `[hidden] { display: none; }`\n",
              "     but bootstrap.min.css set `[hidden] { display: none !important; }`\n",
              "     so we also need the `!important` here to be able to override the\n",
              "     default hidden behavior on the sphinx rendered scikit-learn.org.\n",
              "     See: https://github.com/scikit-learn/scikit-learn/issues/21755 */\n",
              "  display: inline-block !important;\n",
              "  position: relative;\n",
              "}\n",
              "\n",
              "#sk-container-id-3 div.sk-text-repr-fallback {\n",
              "  display: none;\n",
              "}\n",
              "\n",
              "div.sk-parallel-item,\n",
              "div.sk-serial,\n",
              "div.sk-item {\n",
              "  /* draw centered vertical line to link estimators */\n",
              "  background-image: linear-gradient(var(--sklearn-color-text-on-default-background), var(--sklearn-color-text-on-default-background));\n",
              "  background-size: 2px 100%;\n",
              "  background-repeat: no-repeat;\n",
              "  background-position: center center;\n",
              "}\n",
              "\n",
              "/* Parallel-specific style estimator block */\n",
              "\n",
              "#sk-container-id-3 div.sk-parallel-item::after {\n",
              "  content: \"\";\n",
              "  width: 100%;\n",
              "  border-bottom: 2px solid var(--sklearn-color-text-on-default-background);\n",
              "  flex-grow: 1;\n",
              "}\n",
              "\n",
              "#sk-container-id-3 div.sk-parallel {\n",
              "  display: flex;\n",
              "  align-items: stretch;\n",
              "  justify-content: center;\n",
              "  background-color: var(--sklearn-color-background);\n",
              "  position: relative;\n",
              "}\n",
              "\n",
              "#sk-container-id-3 div.sk-parallel-item {\n",
              "  display: flex;\n",
              "  flex-direction: column;\n",
              "}\n",
              "\n",
              "#sk-container-id-3 div.sk-parallel-item:first-child::after {\n",
              "  align-self: flex-end;\n",
              "  width: 50%;\n",
              "}\n",
              "\n",
              "#sk-container-id-3 div.sk-parallel-item:last-child::after {\n",
              "  align-self: flex-start;\n",
              "  width: 50%;\n",
              "}\n",
              "\n",
              "#sk-container-id-3 div.sk-parallel-item:only-child::after {\n",
              "  width: 0;\n",
              "}\n",
              "\n",
              "/* Serial-specific style estimator block */\n",
              "\n",
              "#sk-container-id-3 div.sk-serial {\n",
              "  display: flex;\n",
              "  flex-direction: column;\n",
              "  align-items: center;\n",
              "  background-color: var(--sklearn-color-background);\n",
              "  padding-right: 1em;\n",
              "  padding-left: 1em;\n",
              "}\n",
              "\n",
              "\n",
              "/* Toggleable style: style used for estimator/Pipeline/ColumnTransformer box that is\n",
              "clickable and can be expanded/collapsed.\n",
              "- Pipeline and ColumnTransformer use this feature and define the default style\n",
              "- Estimators will overwrite some part of the style using the `sk-estimator` class\n",
              "*/\n",
              "\n",
              "/* Pipeline and ColumnTransformer style (default) */\n",
              "\n",
              "#sk-container-id-3 div.sk-toggleable {\n",
              "  /* Default theme specific background. It is overwritten whether we have a\n",
              "  specific estimator or a Pipeline/ColumnTransformer */\n",
              "  background-color: var(--sklearn-color-background);\n",
              "}\n",
              "\n",
              "/* Toggleable label */\n",
              "#sk-container-id-3 label.sk-toggleable__label {\n",
              "  cursor: pointer;\n",
              "  display: block;\n",
              "  width: 100%;\n",
              "  margin-bottom: 0;\n",
              "  padding: 0.5em;\n",
              "  box-sizing: border-box;\n",
              "  text-align: center;\n",
              "}\n",
              "\n",
              "#sk-container-id-3 label.sk-toggleable__label-arrow:before {\n",
              "  /* Arrow on the left of the label */\n",
              "  content: \"▸\";\n",
              "  float: left;\n",
              "  margin-right: 0.25em;\n",
              "  color: var(--sklearn-color-icon);\n",
              "}\n",
              "\n",
              "#sk-container-id-3 label.sk-toggleable__label-arrow:hover:before {\n",
              "  color: var(--sklearn-color-text);\n",
              "}\n",
              "\n",
              "/* Toggleable content - dropdown */\n",
              "\n",
              "#sk-container-id-3 div.sk-toggleable__content {\n",
              "  max-height: 0;\n",
              "  max-width: 0;\n",
              "  overflow: hidden;\n",
              "  text-align: left;\n",
              "  /* unfitted */\n",
              "  background-color: var(--sklearn-color-unfitted-level-0);\n",
              "}\n",
              "\n",
              "#sk-container-id-3 div.sk-toggleable__content.fitted {\n",
              "  /* fitted */\n",
              "  background-color: var(--sklearn-color-fitted-level-0);\n",
              "}\n",
              "\n",
              "#sk-container-id-3 div.sk-toggleable__content pre {\n",
              "  margin: 0.2em;\n",
              "  border-radius: 0.25em;\n",
              "  color: var(--sklearn-color-text);\n",
              "  /* unfitted */\n",
              "  background-color: var(--sklearn-color-unfitted-level-0);\n",
              "}\n",
              "\n",
              "#sk-container-id-3 div.sk-toggleable__content.fitted pre {\n",
              "  /* unfitted */\n",
              "  background-color: var(--sklearn-color-fitted-level-0);\n",
              "}\n",
              "\n",
              "#sk-container-id-3 input.sk-toggleable__control:checked~div.sk-toggleable__content {\n",
              "  /* Expand drop-down */\n",
              "  max-height: 200px;\n",
              "  max-width: 100%;\n",
              "  overflow: auto;\n",
              "}\n",
              "\n",
              "#sk-container-id-3 input.sk-toggleable__control:checked~label.sk-toggleable__label-arrow:before {\n",
              "  content: \"▾\";\n",
              "}\n",
              "\n",
              "/* Pipeline/ColumnTransformer-specific style */\n",
              "\n",
              "#sk-container-id-3 div.sk-label input.sk-toggleable__control:checked~label.sk-toggleable__label {\n",
              "  color: var(--sklearn-color-text);\n",
              "  background-color: var(--sklearn-color-unfitted-level-2);\n",
              "}\n",
              "\n",
              "#sk-container-id-3 div.sk-label.fitted input.sk-toggleable__control:checked~label.sk-toggleable__label {\n",
              "  background-color: var(--sklearn-color-fitted-level-2);\n",
              "}\n",
              "\n",
              "/* Estimator-specific style */\n",
              "\n",
              "/* Colorize estimator box */\n",
              "#sk-container-id-3 div.sk-estimator input.sk-toggleable__control:checked~label.sk-toggleable__label {\n",
              "  /* unfitted */\n",
              "  background-color: var(--sklearn-color-unfitted-level-2);\n",
              "}\n",
              "\n",
              "#sk-container-id-3 div.sk-estimator.fitted input.sk-toggleable__control:checked~label.sk-toggleable__label {\n",
              "  /* fitted */\n",
              "  background-color: var(--sklearn-color-fitted-level-2);\n",
              "}\n",
              "\n",
              "#sk-container-id-3 div.sk-label label.sk-toggleable__label,\n",
              "#sk-container-id-3 div.sk-label label {\n",
              "  /* The background is the default theme color */\n",
              "  color: var(--sklearn-color-text-on-default-background);\n",
              "}\n",
              "\n",
              "/* On hover, darken the color of the background */\n",
              "#sk-container-id-3 div.sk-label:hover label.sk-toggleable__label {\n",
              "  color: var(--sklearn-color-text);\n",
              "  background-color: var(--sklearn-color-unfitted-level-2);\n",
              "}\n",
              "\n",
              "/* Label box, darken color on hover, fitted */\n",
              "#sk-container-id-3 div.sk-label.fitted:hover label.sk-toggleable__label.fitted {\n",
              "  color: var(--sklearn-color-text);\n",
              "  background-color: var(--sklearn-color-fitted-level-2);\n",
              "}\n",
              "\n",
              "/* Estimator label */\n",
              "\n",
              "#sk-container-id-3 div.sk-label label {\n",
              "  font-family: monospace;\n",
              "  font-weight: bold;\n",
              "  display: inline-block;\n",
              "  line-height: 1.2em;\n",
              "}\n",
              "\n",
              "#sk-container-id-3 div.sk-label-container {\n",
              "  text-align: center;\n",
              "}\n",
              "\n",
              "/* Estimator-specific */\n",
              "#sk-container-id-3 div.sk-estimator {\n",
              "  font-family: monospace;\n",
              "  border: 1px dotted var(--sklearn-color-border-box);\n",
              "  border-radius: 0.25em;\n",
              "  box-sizing: border-box;\n",
              "  margin-bottom: 0.5em;\n",
              "  /* unfitted */\n",
              "  background-color: var(--sklearn-color-unfitted-level-0);\n",
              "}\n",
              "\n",
              "#sk-container-id-3 div.sk-estimator.fitted {\n",
              "  /* fitted */\n",
              "  background-color: var(--sklearn-color-fitted-level-0);\n",
              "}\n",
              "\n",
              "/* on hover */\n",
              "#sk-container-id-3 div.sk-estimator:hover {\n",
              "  /* unfitted */\n",
              "  background-color: var(--sklearn-color-unfitted-level-2);\n",
              "}\n",
              "\n",
              "#sk-container-id-3 div.sk-estimator.fitted:hover {\n",
              "  /* fitted */\n",
              "  background-color: var(--sklearn-color-fitted-level-2);\n",
              "}\n",
              "\n",
              "/* Specification for estimator info (e.g. \"i\" and \"?\") */\n",
              "\n",
              "/* Common style for \"i\" and \"?\" */\n",
              "\n",
              ".sk-estimator-doc-link,\n",
              "a:link.sk-estimator-doc-link,\n",
              "a:visited.sk-estimator-doc-link {\n",
              "  float: right;\n",
              "  font-size: smaller;\n",
              "  line-height: 1em;\n",
              "  font-family: monospace;\n",
              "  background-color: var(--sklearn-color-background);\n",
              "  border-radius: 1em;\n",
              "  height: 1em;\n",
              "  width: 1em;\n",
              "  text-decoration: none !important;\n",
              "  margin-left: 1ex;\n",
              "  /* unfitted */\n",
              "  border: var(--sklearn-color-unfitted-level-1) 1pt solid;\n",
              "  color: var(--sklearn-color-unfitted-level-1);\n",
              "}\n",
              "\n",
              ".sk-estimator-doc-link.fitted,\n",
              "a:link.sk-estimator-doc-link.fitted,\n",
              "a:visited.sk-estimator-doc-link.fitted {\n",
              "  /* fitted */\n",
              "  border: var(--sklearn-color-fitted-level-1) 1pt solid;\n",
              "  color: var(--sklearn-color-fitted-level-1);\n",
              "}\n",
              "\n",
              "/* On hover */\n",
              "div.sk-estimator:hover .sk-estimator-doc-link:hover,\n",
              ".sk-estimator-doc-link:hover,\n",
              "div.sk-label-container:hover .sk-estimator-doc-link:hover,\n",
              ".sk-estimator-doc-link:hover {\n",
              "  /* unfitted */\n",
              "  background-color: var(--sklearn-color-unfitted-level-3);\n",
              "  color: var(--sklearn-color-background);\n",
              "  text-decoration: none;\n",
              "}\n",
              "\n",
              "div.sk-estimator.fitted:hover .sk-estimator-doc-link.fitted:hover,\n",
              ".sk-estimator-doc-link.fitted:hover,\n",
              "div.sk-label-container:hover .sk-estimator-doc-link.fitted:hover,\n",
              ".sk-estimator-doc-link.fitted:hover {\n",
              "  /* fitted */\n",
              "  background-color: var(--sklearn-color-fitted-level-3);\n",
              "  color: var(--sklearn-color-background);\n",
              "  text-decoration: none;\n",
              "}\n",
              "\n",
              "/* Span, style for the box shown on hovering the info icon */\n",
              ".sk-estimator-doc-link span {\n",
              "  display: none;\n",
              "  z-index: 9999;\n",
              "  position: relative;\n",
              "  font-weight: normal;\n",
              "  right: .2ex;\n",
              "  padding: .5ex;\n",
              "  margin: .5ex;\n",
              "  width: min-content;\n",
              "  min-width: 20ex;\n",
              "  max-width: 50ex;\n",
              "  color: var(--sklearn-color-text);\n",
              "  box-shadow: 2pt 2pt 4pt #999;\n",
              "  /* unfitted */\n",
              "  background: var(--sklearn-color-unfitted-level-0);\n",
              "  border: .5pt solid var(--sklearn-color-unfitted-level-3);\n",
              "}\n",
              "\n",
              ".sk-estimator-doc-link.fitted span {\n",
              "  /* fitted */\n",
              "  background: var(--sklearn-color-fitted-level-0);\n",
              "  border: var(--sklearn-color-fitted-level-3);\n",
              "}\n",
              "\n",
              ".sk-estimator-doc-link:hover span {\n",
              "  display: block;\n",
              "}\n",
              "\n",
              "/* \"?\"-specific style due to the `<a>` HTML tag */\n",
              "\n",
              "#sk-container-id-3 a.estimator_doc_link {\n",
              "  float: right;\n",
              "  font-size: 1rem;\n",
              "  line-height: 1em;\n",
              "  font-family: monospace;\n",
              "  background-color: var(--sklearn-color-background);\n",
              "  border-radius: 1rem;\n",
              "  height: 1rem;\n",
              "  width: 1rem;\n",
              "  text-decoration: none;\n",
              "  /* unfitted */\n",
              "  color: var(--sklearn-color-unfitted-level-1);\n",
              "  border: var(--sklearn-color-unfitted-level-1) 1pt solid;\n",
              "}\n",
              "\n",
              "#sk-container-id-3 a.estimator_doc_link.fitted {\n",
              "  /* fitted */\n",
              "  border: var(--sklearn-color-fitted-level-1) 1pt solid;\n",
              "  color: var(--sklearn-color-fitted-level-1);\n",
              "}\n",
              "\n",
              "/* On hover */\n",
              "#sk-container-id-3 a.estimator_doc_link:hover {\n",
              "  /* unfitted */\n",
              "  background-color: var(--sklearn-color-unfitted-level-3);\n",
              "  color: var(--sklearn-color-background);\n",
              "  text-decoration: none;\n",
              "}\n",
              "\n",
              "#sk-container-id-3 a.estimator_doc_link.fitted:hover {\n",
              "  /* fitted */\n",
              "  background-color: var(--sklearn-color-fitted-level-3);\n",
              "}\n",
              "</style><div id=\"sk-container-id-3\" class=\"sk-top-container\"><div class=\"sk-text-repr-fallback\"><pre>RandomForestClassifier(random_state=0)</pre><b>In a Jupyter environment, please rerun this cell to show the HTML representation or trust the notebook. <br />On GitHub, the HTML representation is unable to render, please try loading this page with nbviewer.org.</b></div><div class=\"sk-container\" hidden><div class=\"sk-item\"><div class=\"sk-estimator fitted sk-toggleable\"><input class=\"sk-toggleable__control sk-hidden--visually\" id=\"sk-estimator-id-3\" type=\"checkbox\" checked><label for=\"sk-estimator-id-3\" class=\"sk-toggleable__label fitted sk-toggleable__label-arrow fitted\">&nbsp;&nbsp;RandomForestClassifier<a class=\"sk-estimator-doc-link fitted\" rel=\"noreferrer\" target=\"_blank\" href=\"https://scikit-learn.org/1.5/modules/generated/sklearn.ensemble.RandomForestClassifier.html\">?<span>Documentation for RandomForestClassifier</span></a><span class=\"sk-estimator-doc-link fitted\">i<span>Fitted</span></span></label><div class=\"sk-toggleable__content fitted\"><pre>RandomForestClassifier(random_state=0)</pre></div> </div></div></div></div>"
            ]
          },
          "metadata": {},
          "execution_count": 44
        }
      ]
    },
    {
      "cell_type": "code",
      "source": [
        "from sklearn.metrics import accuracy_score, classification_report, confusion_matrix\n",
        "\n",
        "# Predict on test data\n",
        "y_pred = random_forest.predict(X_test_scaled)\n",
        "\n",
        "# Calculate accuracy\n",
        "accuracy = accuracy_score(y_test, y_pred)\n",
        "print(f\"Accuracy: {accuracy:.2f}\")\n",
        "\n",
        "# Classification report\n",
        "print(\"\\nClassification Report:\")\n",
        "print(classification_report(y_test, y_pred))\n",
        "\n",
        "# Confusion matrix\n",
        "print(\"\\nConfusion Matrix:\")\n",
        "print(confusion_matrix(y_test, y_pred))\n"
      ],
      "metadata": {
        "colab": {
          "base_uri": "https://localhost:8080/"
        },
        "id": "jYa32bbIz8AG",
        "outputId": "6b8a5375-2922-436b-9baa-f119a462bd06"
      },
      "id": "jYa32bbIz8AG",
      "execution_count": 45,
      "outputs": [
        {
          "output_type": "stream",
          "name": "stdout",
          "text": [
            "Accuracy: 0.52\n",
            "\n",
            "Classification Report:\n",
            "              precision    recall  f1-score   support\n",
            "\n",
            "         0.0       0.51      0.55      0.53       939\n",
            "         1.0       0.53      0.49      0.51       960\n",
            "\n",
            "    accuracy                           0.52      1899\n",
            "   macro avg       0.52      0.52      0.52      1899\n",
            "weighted avg       0.52      0.52      0.52      1899\n",
            "\n",
            "\n",
            "Confusion Matrix:\n",
            "[[521 418]\n",
            " [494 466]]\n"
          ]
        }
      ]
    },
    {
      "cell_type": "code",
      "source": [
        "from sklearn.naive_bayes import GaussianNB\n",
        "\n",
        "# Initialize the model\n",
        "naive_bayes = GaussianNB()\n",
        "\n",
        "# Train the model\n",
        "naive_bayes.fit(X_train_scaled, y_train)\n"
      ],
      "metadata": {
        "colab": {
          "base_uri": "https://localhost:8080/",
          "height": 80
        },
        "id": "__8oH-djz1Y3",
        "outputId": "47b8f6a4-3f48-4b76-8aca-7d15f234b58a"
      },
      "id": "__8oH-djz1Y3",
      "execution_count": 46,
      "outputs": [
        {
          "output_type": "execute_result",
          "data": {
            "text/plain": [
              "GaussianNB()"
            ],
            "text/html": [
              "<style>#sk-container-id-4 {\n",
              "  /* Definition of color scheme common for light and dark mode */\n",
              "  --sklearn-color-text: black;\n",
              "  --sklearn-color-line: gray;\n",
              "  /* Definition of color scheme for unfitted estimators */\n",
              "  --sklearn-color-unfitted-level-0: #fff5e6;\n",
              "  --sklearn-color-unfitted-level-1: #f6e4d2;\n",
              "  --sklearn-color-unfitted-level-2: #ffe0b3;\n",
              "  --sklearn-color-unfitted-level-3: chocolate;\n",
              "  /* Definition of color scheme for fitted estimators */\n",
              "  --sklearn-color-fitted-level-0: #f0f8ff;\n",
              "  --sklearn-color-fitted-level-1: #d4ebff;\n",
              "  --sklearn-color-fitted-level-2: #b3dbfd;\n",
              "  --sklearn-color-fitted-level-3: cornflowerblue;\n",
              "\n",
              "  /* Specific color for light theme */\n",
              "  --sklearn-color-text-on-default-background: var(--sg-text-color, var(--theme-code-foreground, var(--jp-content-font-color1, black)));\n",
              "  --sklearn-color-background: var(--sg-background-color, var(--theme-background, var(--jp-layout-color0, white)));\n",
              "  --sklearn-color-border-box: var(--sg-text-color, var(--theme-code-foreground, var(--jp-content-font-color1, black)));\n",
              "  --sklearn-color-icon: #696969;\n",
              "\n",
              "  @media (prefers-color-scheme: dark) {\n",
              "    /* Redefinition of color scheme for dark theme */\n",
              "    --sklearn-color-text-on-default-background: var(--sg-text-color, var(--theme-code-foreground, var(--jp-content-font-color1, white)));\n",
              "    --sklearn-color-background: var(--sg-background-color, var(--theme-background, var(--jp-layout-color0, #111)));\n",
              "    --sklearn-color-border-box: var(--sg-text-color, var(--theme-code-foreground, var(--jp-content-font-color1, white)));\n",
              "    --sklearn-color-icon: #878787;\n",
              "  }\n",
              "}\n",
              "\n",
              "#sk-container-id-4 {\n",
              "  color: var(--sklearn-color-text);\n",
              "}\n",
              "\n",
              "#sk-container-id-4 pre {\n",
              "  padding: 0;\n",
              "}\n",
              "\n",
              "#sk-container-id-4 input.sk-hidden--visually {\n",
              "  border: 0;\n",
              "  clip: rect(1px 1px 1px 1px);\n",
              "  clip: rect(1px, 1px, 1px, 1px);\n",
              "  height: 1px;\n",
              "  margin: -1px;\n",
              "  overflow: hidden;\n",
              "  padding: 0;\n",
              "  position: absolute;\n",
              "  width: 1px;\n",
              "}\n",
              "\n",
              "#sk-container-id-4 div.sk-dashed-wrapped {\n",
              "  border: 1px dashed var(--sklearn-color-line);\n",
              "  margin: 0 0.4em 0.5em 0.4em;\n",
              "  box-sizing: border-box;\n",
              "  padding-bottom: 0.4em;\n",
              "  background-color: var(--sklearn-color-background);\n",
              "}\n",
              "\n",
              "#sk-container-id-4 div.sk-container {\n",
              "  /* jupyter's `normalize.less` sets `[hidden] { display: none; }`\n",
              "     but bootstrap.min.css set `[hidden] { display: none !important; }`\n",
              "     so we also need the `!important` here to be able to override the\n",
              "     default hidden behavior on the sphinx rendered scikit-learn.org.\n",
              "     See: https://github.com/scikit-learn/scikit-learn/issues/21755 */\n",
              "  display: inline-block !important;\n",
              "  position: relative;\n",
              "}\n",
              "\n",
              "#sk-container-id-4 div.sk-text-repr-fallback {\n",
              "  display: none;\n",
              "}\n",
              "\n",
              "div.sk-parallel-item,\n",
              "div.sk-serial,\n",
              "div.sk-item {\n",
              "  /* draw centered vertical line to link estimators */\n",
              "  background-image: linear-gradient(var(--sklearn-color-text-on-default-background), var(--sklearn-color-text-on-default-background));\n",
              "  background-size: 2px 100%;\n",
              "  background-repeat: no-repeat;\n",
              "  background-position: center center;\n",
              "}\n",
              "\n",
              "/* Parallel-specific style estimator block */\n",
              "\n",
              "#sk-container-id-4 div.sk-parallel-item::after {\n",
              "  content: \"\";\n",
              "  width: 100%;\n",
              "  border-bottom: 2px solid var(--sklearn-color-text-on-default-background);\n",
              "  flex-grow: 1;\n",
              "}\n",
              "\n",
              "#sk-container-id-4 div.sk-parallel {\n",
              "  display: flex;\n",
              "  align-items: stretch;\n",
              "  justify-content: center;\n",
              "  background-color: var(--sklearn-color-background);\n",
              "  position: relative;\n",
              "}\n",
              "\n",
              "#sk-container-id-4 div.sk-parallel-item {\n",
              "  display: flex;\n",
              "  flex-direction: column;\n",
              "}\n",
              "\n",
              "#sk-container-id-4 div.sk-parallel-item:first-child::after {\n",
              "  align-self: flex-end;\n",
              "  width: 50%;\n",
              "}\n",
              "\n",
              "#sk-container-id-4 div.sk-parallel-item:last-child::after {\n",
              "  align-self: flex-start;\n",
              "  width: 50%;\n",
              "}\n",
              "\n",
              "#sk-container-id-4 div.sk-parallel-item:only-child::after {\n",
              "  width: 0;\n",
              "}\n",
              "\n",
              "/* Serial-specific style estimator block */\n",
              "\n",
              "#sk-container-id-4 div.sk-serial {\n",
              "  display: flex;\n",
              "  flex-direction: column;\n",
              "  align-items: center;\n",
              "  background-color: var(--sklearn-color-background);\n",
              "  padding-right: 1em;\n",
              "  padding-left: 1em;\n",
              "}\n",
              "\n",
              "\n",
              "/* Toggleable style: style used for estimator/Pipeline/ColumnTransformer box that is\n",
              "clickable and can be expanded/collapsed.\n",
              "- Pipeline and ColumnTransformer use this feature and define the default style\n",
              "- Estimators will overwrite some part of the style using the `sk-estimator` class\n",
              "*/\n",
              "\n",
              "/* Pipeline and ColumnTransformer style (default) */\n",
              "\n",
              "#sk-container-id-4 div.sk-toggleable {\n",
              "  /* Default theme specific background. It is overwritten whether we have a\n",
              "  specific estimator or a Pipeline/ColumnTransformer */\n",
              "  background-color: var(--sklearn-color-background);\n",
              "}\n",
              "\n",
              "/* Toggleable label */\n",
              "#sk-container-id-4 label.sk-toggleable__label {\n",
              "  cursor: pointer;\n",
              "  display: block;\n",
              "  width: 100%;\n",
              "  margin-bottom: 0;\n",
              "  padding: 0.5em;\n",
              "  box-sizing: border-box;\n",
              "  text-align: center;\n",
              "}\n",
              "\n",
              "#sk-container-id-4 label.sk-toggleable__label-arrow:before {\n",
              "  /* Arrow on the left of the label */\n",
              "  content: \"▸\";\n",
              "  float: left;\n",
              "  margin-right: 0.25em;\n",
              "  color: var(--sklearn-color-icon);\n",
              "}\n",
              "\n",
              "#sk-container-id-4 label.sk-toggleable__label-arrow:hover:before {\n",
              "  color: var(--sklearn-color-text);\n",
              "}\n",
              "\n",
              "/* Toggleable content - dropdown */\n",
              "\n",
              "#sk-container-id-4 div.sk-toggleable__content {\n",
              "  max-height: 0;\n",
              "  max-width: 0;\n",
              "  overflow: hidden;\n",
              "  text-align: left;\n",
              "  /* unfitted */\n",
              "  background-color: var(--sklearn-color-unfitted-level-0);\n",
              "}\n",
              "\n",
              "#sk-container-id-4 div.sk-toggleable__content.fitted {\n",
              "  /* fitted */\n",
              "  background-color: var(--sklearn-color-fitted-level-0);\n",
              "}\n",
              "\n",
              "#sk-container-id-4 div.sk-toggleable__content pre {\n",
              "  margin: 0.2em;\n",
              "  border-radius: 0.25em;\n",
              "  color: var(--sklearn-color-text);\n",
              "  /* unfitted */\n",
              "  background-color: var(--sklearn-color-unfitted-level-0);\n",
              "}\n",
              "\n",
              "#sk-container-id-4 div.sk-toggleable__content.fitted pre {\n",
              "  /* unfitted */\n",
              "  background-color: var(--sklearn-color-fitted-level-0);\n",
              "}\n",
              "\n",
              "#sk-container-id-4 input.sk-toggleable__control:checked~div.sk-toggleable__content {\n",
              "  /* Expand drop-down */\n",
              "  max-height: 200px;\n",
              "  max-width: 100%;\n",
              "  overflow: auto;\n",
              "}\n",
              "\n",
              "#sk-container-id-4 input.sk-toggleable__control:checked~label.sk-toggleable__label-arrow:before {\n",
              "  content: \"▾\";\n",
              "}\n",
              "\n",
              "/* Pipeline/ColumnTransformer-specific style */\n",
              "\n",
              "#sk-container-id-4 div.sk-label input.sk-toggleable__control:checked~label.sk-toggleable__label {\n",
              "  color: var(--sklearn-color-text);\n",
              "  background-color: var(--sklearn-color-unfitted-level-2);\n",
              "}\n",
              "\n",
              "#sk-container-id-4 div.sk-label.fitted input.sk-toggleable__control:checked~label.sk-toggleable__label {\n",
              "  background-color: var(--sklearn-color-fitted-level-2);\n",
              "}\n",
              "\n",
              "/* Estimator-specific style */\n",
              "\n",
              "/* Colorize estimator box */\n",
              "#sk-container-id-4 div.sk-estimator input.sk-toggleable__control:checked~label.sk-toggleable__label {\n",
              "  /* unfitted */\n",
              "  background-color: var(--sklearn-color-unfitted-level-2);\n",
              "}\n",
              "\n",
              "#sk-container-id-4 div.sk-estimator.fitted input.sk-toggleable__control:checked~label.sk-toggleable__label {\n",
              "  /* fitted */\n",
              "  background-color: var(--sklearn-color-fitted-level-2);\n",
              "}\n",
              "\n",
              "#sk-container-id-4 div.sk-label label.sk-toggleable__label,\n",
              "#sk-container-id-4 div.sk-label label {\n",
              "  /* The background is the default theme color */\n",
              "  color: var(--sklearn-color-text-on-default-background);\n",
              "}\n",
              "\n",
              "/* On hover, darken the color of the background */\n",
              "#sk-container-id-4 div.sk-label:hover label.sk-toggleable__label {\n",
              "  color: var(--sklearn-color-text);\n",
              "  background-color: var(--sklearn-color-unfitted-level-2);\n",
              "}\n",
              "\n",
              "/* Label box, darken color on hover, fitted */\n",
              "#sk-container-id-4 div.sk-label.fitted:hover label.sk-toggleable__label.fitted {\n",
              "  color: var(--sklearn-color-text);\n",
              "  background-color: var(--sklearn-color-fitted-level-2);\n",
              "}\n",
              "\n",
              "/* Estimator label */\n",
              "\n",
              "#sk-container-id-4 div.sk-label label {\n",
              "  font-family: monospace;\n",
              "  font-weight: bold;\n",
              "  display: inline-block;\n",
              "  line-height: 1.2em;\n",
              "}\n",
              "\n",
              "#sk-container-id-4 div.sk-label-container {\n",
              "  text-align: center;\n",
              "}\n",
              "\n",
              "/* Estimator-specific */\n",
              "#sk-container-id-4 div.sk-estimator {\n",
              "  font-family: monospace;\n",
              "  border: 1px dotted var(--sklearn-color-border-box);\n",
              "  border-radius: 0.25em;\n",
              "  box-sizing: border-box;\n",
              "  margin-bottom: 0.5em;\n",
              "  /* unfitted */\n",
              "  background-color: var(--sklearn-color-unfitted-level-0);\n",
              "}\n",
              "\n",
              "#sk-container-id-4 div.sk-estimator.fitted {\n",
              "  /* fitted */\n",
              "  background-color: var(--sklearn-color-fitted-level-0);\n",
              "}\n",
              "\n",
              "/* on hover */\n",
              "#sk-container-id-4 div.sk-estimator:hover {\n",
              "  /* unfitted */\n",
              "  background-color: var(--sklearn-color-unfitted-level-2);\n",
              "}\n",
              "\n",
              "#sk-container-id-4 div.sk-estimator.fitted:hover {\n",
              "  /* fitted */\n",
              "  background-color: var(--sklearn-color-fitted-level-2);\n",
              "}\n",
              "\n",
              "/* Specification for estimator info (e.g. \"i\" and \"?\") */\n",
              "\n",
              "/* Common style for \"i\" and \"?\" */\n",
              "\n",
              ".sk-estimator-doc-link,\n",
              "a:link.sk-estimator-doc-link,\n",
              "a:visited.sk-estimator-doc-link {\n",
              "  float: right;\n",
              "  font-size: smaller;\n",
              "  line-height: 1em;\n",
              "  font-family: monospace;\n",
              "  background-color: var(--sklearn-color-background);\n",
              "  border-radius: 1em;\n",
              "  height: 1em;\n",
              "  width: 1em;\n",
              "  text-decoration: none !important;\n",
              "  margin-left: 1ex;\n",
              "  /* unfitted */\n",
              "  border: var(--sklearn-color-unfitted-level-1) 1pt solid;\n",
              "  color: var(--sklearn-color-unfitted-level-1);\n",
              "}\n",
              "\n",
              ".sk-estimator-doc-link.fitted,\n",
              "a:link.sk-estimator-doc-link.fitted,\n",
              "a:visited.sk-estimator-doc-link.fitted {\n",
              "  /* fitted */\n",
              "  border: var(--sklearn-color-fitted-level-1) 1pt solid;\n",
              "  color: var(--sklearn-color-fitted-level-1);\n",
              "}\n",
              "\n",
              "/* On hover */\n",
              "div.sk-estimator:hover .sk-estimator-doc-link:hover,\n",
              ".sk-estimator-doc-link:hover,\n",
              "div.sk-label-container:hover .sk-estimator-doc-link:hover,\n",
              ".sk-estimator-doc-link:hover {\n",
              "  /* unfitted */\n",
              "  background-color: var(--sklearn-color-unfitted-level-3);\n",
              "  color: var(--sklearn-color-background);\n",
              "  text-decoration: none;\n",
              "}\n",
              "\n",
              "div.sk-estimator.fitted:hover .sk-estimator-doc-link.fitted:hover,\n",
              ".sk-estimator-doc-link.fitted:hover,\n",
              "div.sk-label-container:hover .sk-estimator-doc-link.fitted:hover,\n",
              ".sk-estimator-doc-link.fitted:hover {\n",
              "  /* fitted */\n",
              "  background-color: var(--sklearn-color-fitted-level-3);\n",
              "  color: var(--sklearn-color-background);\n",
              "  text-decoration: none;\n",
              "}\n",
              "\n",
              "/* Span, style for the box shown on hovering the info icon */\n",
              ".sk-estimator-doc-link span {\n",
              "  display: none;\n",
              "  z-index: 9999;\n",
              "  position: relative;\n",
              "  font-weight: normal;\n",
              "  right: .2ex;\n",
              "  padding: .5ex;\n",
              "  margin: .5ex;\n",
              "  width: min-content;\n",
              "  min-width: 20ex;\n",
              "  max-width: 50ex;\n",
              "  color: var(--sklearn-color-text);\n",
              "  box-shadow: 2pt 2pt 4pt #999;\n",
              "  /* unfitted */\n",
              "  background: var(--sklearn-color-unfitted-level-0);\n",
              "  border: .5pt solid var(--sklearn-color-unfitted-level-3);\n",
              "}\n",
              "\n",
              ".sk-estimator-doc-link.fitted span {\n",
              "  /* fitted */\n",
              "  background: var(--sklearn-color-fitted-level-0);\n",
              "  border: var(--sklearn-color-fitted-level-3);\n",
              "}\n",
              "\n",
              ".sk-estimator-doc-link:hover span {\n",
              "  display: block;\n",
              "}\n",
              "\n",
              "/* \"?\"-specific style due to the `<a>` HTML tag */\n",
              "\n",
              "#sk-container-id-4 a.estimator_doc_link {\n",
              "  float: right;\n",
              "  font-size: 1rem;\n",
              "  line-height: 1em;\n",
              "  font-family: monospace;\n",
              "  background-color: var(--sklearn-color-background);\n",
              "  border-radius: 1rem;\n",
              "  height: 1rem;\n",
              "  width: 1rem;\n",
              "  text-decoration: none;\n",
              "  /* unfitted */\n",
              "  color: var(--sklearn-color-unfitted-level-1);\n",
              "  border: var(--sklearn-color-unfitted-level-1) 1pt solid;\n",
              "}\n",
              "\n",
              "#sk-container-id-4 a.estimator_doc_link.fitted {\n",
              "  /* fitted */\n",
              "  border: var(--sklearn-color-fitted-level-1) 1pt solid;\n",
              "  color: var(--sklearn-color-fitted-level-1);\n",
              "}\n",
              "\n",
              "/* On hover */\n",
              "#sk-container-id-4 a.estimator_doc_link:hover {\n",
              "  /* unfitted */\n",
              "  background-color: var(--sklearn-color-unfitted-level-3);\n",
              "  color: var(--sklearn-color-background);\n",
              "  text-decoration: none;\n",
              "}\n",
              "\n",
              "#sk-container-id-4 a.estimator_doc_link.fitted:hover {\n",
              "  /* fitted */\n",
              "  background-color: var(--sklearn-color-fitted-level-3);\n",
              "}\n",
              "</style><div id=\"sk-container-id-4\" class=\"sk-top-container\"><div class=\"sk-text-repr-fallback\"><pre>GaussianNB()</pre><b>In a Jupyter environment, please rerun this cell to show the HTML representation or trust the notebook. <br />On GitHub, the HTML representation is unable to render, please try loading this page with nbviewer.org.</b></div><div class=\"sk-container\" hidden><div class=\"sk-item\"><div class=\"sk-estimator fitted sk-toggleable\"><input class=\"sk-toggleable__control sk-hidden--visually\" id=\"sk-estimator-id-4\" type=\"checkbox\" checked><label for=\"sk-estimator-id-4\" class=\"sk-toggleable__label fitted sk-toggleable__label-arrow fitted\">&nbsp;&nbsp;GaussianNB<a class=\"sk-estimator-doc-link fitted\" rel=\"noreferrer\" target=\"_blank\" href=\"https://scikit-learn.org/1.5/modules/generated/sklearn.naive_bayes.GaussianNB.html\">?<span>Documentation for GaussianNB</span></a><span class=\"sk-estimator-doc-link fitted\">i<span>Fitted</span></span></label><div class=\"sk-toggleable__content fitted\"><pre>GaussianNB()</pre></div> </div></div></div></div>"
            ]
          },
          "metadata": {},
          "execution_count": 46
        }
      ]
    },
    {
      "cell_type": "code",
      "source": [
        "from sklearn.naive_bayes import GaussianNB\n",
        "from sklearn.metrics import accuracy_score, classification_report, confusion_matrix\n",
        "\n",
        "# Initialize the model\n",
        "naive_bayes = GaussianNB()\n",
        "\n",
        "# Train the model\n",
        "naive_bayes.fit(X_train_scaled, y_train)\n",
        "\n",
        "# Predict on test data\n",
        "y_pred = naive_bayes.predict(X_test_scaled)\n",
        "\n",
        "# Calculate accuracy\n",
        "accuracy = accuracy_score(y_test, y_pred)\n",
        "print(f\"Accuracy: {accuracy:.2f}\")\n",
        "\n",
        "# Print classification report and confusion matrix\n",
        "print(\"\\nClassification Report:\")\n",
        "print(classification_report(y_test, y_pred))\n",
        "\n",
        "print(\"\\nConfusion Matrix:\")\n",
        "print(confusion_matrix(y_test, y_pred))"
      ],
      "metadata": {
        "colab": {
          "base_uri": "https://localhost:8080/"
        },
        "id": "i65HzvOA2biE",
        "outputId": "24fa4d8a-dc37-4a47-f525-8d3a2cd03223"
      },
      "id": "i65HzvOA2biE",
      "execution_count": 47,
      "outputs": [
        {
          "output_type": "stream",
          "name": "stdout",
          "text": [
            "Accuracy: 0.50\n",
            "\n",
            "Classification Report:\n",
            "              precision    recall  f1-score   support\n",
            "\n",
            "         0.0       0.50      0.61      0.55       939\n",
            "         1.0       0.51      0.40      0.45       960\n",
            "\n",
            "    accuracy                           0.50      1899\n",
            "   macro avg       0.50      0.50      0.50      1899\n",
            "weighted avg       0.50      0.50      0.50      1899\n",
            "\n",
            "\n",
            "Confusion Matrix:\n",
            "[[574 365]\n",
            " [579 381]]\n"
          ]
        }
      ]
    },
    {
      "cell_type": "code",
      "execution_count": 48,
      "id": "7eba6a43-c807-498d-9dd6-c1d99b8a1894",
      "metadata": {
        "id": "7eba6a43-c807-498d-9dd6-c1d99b8a1894",
        "colab": {
          "base_uri": "https://localhost:8080/",
          "height": 472
        },
        "outputId": "f4fe5177-abea-483d-a0e5-7701c4bdccb4"
      },
      "outputs": [
        {
          "output_type": "display_data",
          "data": {
            "text/plain": [
              "<Figure size 640x480 with 1 Axes>"
            ],
            "image/png": "[encoded data removed]"
          },
          "metadata": {}
        }
      ],
      "source": [
        "import seaborn as sns\n",
        "import matplotlib.pyplot as plt\n",
        "\n",
        "sns.countplot(x='tx type', data=df)\n",
        "plt.title('Distribution of Transaction Types')\n",
        "plt.xlabel('Transaction Type')\n",
        "plt.ylabel('Count')\n",
        "plt.show()"
      ]
    },
    {
      "cell_type": "code",
      "source": [
        "import matplotlib.pyplot as plt\n",
        "\n",
        "# Scatter plot of 'value' vs. 'gas price'\n",
        "plt.figure(figsize=(8, 6))\n",
        "plt.scatter(df['value'], df['gas price'])\n",
        "plt.xlabel('Value')\n",
        "plt.ylabel('Gas Price')\n",
        "plt.title('Scatter Plot of Value vs. Gas Price')\n",
        "plt.show()"
      ],
      "metadata": {
        "colab": {
          "base_uri": "https://localhost:8080/",
          "height": 564
        },
        "id": "uOSzy-ZUyoZl",
        "outputId": "4a2aebf2-5a3c-41a2-d106-f8f680c6f8fe"
      },
      "id": "uOSzy-ZUyoZl",
      "execution_count": 49,
      "outputs": [
        {
          "output_type": "display_data",
          "data": {
            "text/plain": [
              "<Figure size 800x600 with 1 Axes>"
            ],
            "image/png": "[encoded data removed]"
          },
          "metadata": {}
        }
      ]
    },
    {
      "cell_type": "code",
      "execution_count": 50,
      "id": "33f39390-36f4-4cb8-8549-8b0a9ac7c7cd",
      "metadata": {
        "colab": {
          "base_uri": "https://localhost:8080/"
        },
        "id": "33f39390-36f4-4cb8-8549-8b0a9ac7c7cd",
        "outputId": "63bfae3a-561d-414c-f1fb-06efdc4082d0"
      },
      "outputs": [
        {
          "output_type": "stream",
          "name": "stdout",
          "text": [
            "Requirement already satisfied: tensorflow in /usr/local/lib/python3.10/dist-packages (2.15.0)\n",
            "Requirement already satisfied: absl-py>=1.0.0 in /usr/local/lib/python3.10/dist-packages (from tensorflow) (1.4.0)\n",
            "Requirement already satisfied: astunparse>=1.6.0 in /usr/local/lib/python3.10/dist-packages (from tensorflow) (1.6.3)\n",
            "Requirement already satisfied: flatbuffers>=23.5.26 in /usr/local/lib/python3.10/dist-packages (from tensorflow) (24.3.25)\n",
            "Requirement already satisfied: gast!=0.5.0,!=0.5.1,!=0.5.2,>=0.2.1 in /usr/local/lib/python3.10/dist-packages (from tensorflow) (0.6.0)\n",
            "Requirement already satisfied: google-pasta>=0.1.1 in /usr/local/lib/python3.10/dist-packages (from tensorflow) (0.2.0)\n",
            "Requirement already satisfied: h5py>=2.9.0 in /usr/local/lib/python3.10/dist-packages (from tensorflow) (3.11.0)\n",
            "Requirement already satisfied: libclang>=13.0.0 in /usr/local/lib/python3.10/dist-packages (from tensorflow) (18.1.1)\n",
            "Requirement already satisfied: ml-dtypes~=0.2.0 in /usr/local/lib/python3.10/dist-packages (from tensorflow) (0.2.0)\n",
            "Requirement already satisfied: numpy<2.0.0,>=1.23.5 in /usr/local/lib/python3.10/dist-packages (from tensorflow) (1.25.2)\n",
            "Requirement already satisfied: opt-einsum>=2.3.2 in /usr/local/lib/python3.10/dist-packages (from tensorflow) (3.3.0)\n",
            "Requirement already satisfied: packaging in /usr/local/lib/python3.10/dist-packages (from tensorflow) (24.1)\n",
            "Requirement already satisfied: protobuf!=4.21.0,!=4.21.1,!=4.21.2,!=4.21.3,!=4.21.4,!=4.21.5,<5.0.0dev,>=3.20.3 in /usr/local/lib/python3.10/dist-packages (from tensorflow) (3.20.3)\n",
            "Requirement already satisfied: setuptools in /usr/local/lib/python3.10/dist-packages (from tensorflow) (71.0.4)\n",
            "Requirement already satisfied: six>=1.12.0 in /usr/local/lib/python3.10/dist-packages (from tensorflow) (1.16.0)\n",
            "Requirement already satisfied: termcolor>=1.1.0 in /usr/local/lib/python3.10/dist-packages (from tensorflow) (2.4.0)\n",
            "Requirement already satisfied: typing-extensions>=3.6.6 in /usr/local/lib/python3.10/dist-packages (from tensorflow) (4.12.2)\n",
            "Requirement already satisfied: wrapt<1.15,>=1.11.0 in /usr/local/lib/python3.10/dist-packages (from tensorflow) (1.14.1)\n",
            "Requirement already satisfied: tensorflow-io-gcs-filesystem>=0.23.1 in /usr/local/lib/python3.10/dist-packages (from tensorflow) (0.37.1)\n",
            "Requirement already satisfied: grpcio<2.0,>=1.24.3 in /usr/local/lib/python3.10/dist-packages (from tensorflow) (1.64.1)\n",
            "Requirement already satisfied: tensorboard<2.16,>=2.15 in /usr/local/lib/python3.10/dist-packages (from tensorflow) (2.15.2)\n",
            "Requirement already satisfied: tensorflow-estimator<2.16,>=2.15.0 in /usr/local/lib/python3.10/dist-packages (from tensorflow) (2.15.0)\n",
            "Requirement already satisfied: keras<2.16,>=2.15.0 in /usr/local/lib/python3.10/dist-packages (from tensorflow) (2.15.0)\n",
            "Requirement already satisfied: wheel<1.0,>=0.23.0 in /usr/local/lib/python3.10/dist-packages (from astunparse>=1.6.0->tensorflow) (0.43.0)\n",
            "Requirement already satisfied: google-auth<3,>=1.6.3 in /usr/local/lib/python3.10/dist-packages (from tensorboard<2.16,>=2.15->tensorflow) (2.27.0)\n",
            "Requirement already satisfied: google-auth-oauthlib<2,>=0.5 in /usr/local/lib/python3.10/dist-packages (from tensorboard<2.16,>=2.15->tensorflow) (1.2.1)\n",
            "Requirement already satisfied: markdown>=2.6.8 in /usr/local/lib/python3.10/dist-packages (from tensorboard<2.16,>=2.15->tensorflow) (3.6)\n",
            "Requirement already satisfied: requests<3,>=2.21.0 in /usr/local/lib/python3.10/dist-packages (from tensorboard<2.16,>=2.15->tensorflow) (2.31.0)\n",
            "Requirement already satisfied: tensorboard-data-server<0.8.0,>=0.7.0 in /usr/local/lib/python3.10/dist-packages (from tensorboard<2.16,>=2.15->tensorflow) (0.7.2)\n",
            "Requirement already satisfied: werkzeug>=1.0.1 in /usr/local/lib/python3.10/dist-packages (from tensorboard<2.16,>=2.15->tensorflow) (3.0.3)\n",
            "Requirement already satisfied: cachetools<6.0,>=2.0.0 in /usr/local/lib/python3.10/dist-packages (from google-auth<3,>=1.6.3->tensorboard<2.16,>=2.15->tensorflow) (5.4.0)\n",
            "Requirement already satisfied: pyasn1-modules>=0.2.1 in /usr/local/lib/python3.10/dist-packages (from google-auth<3,>=1.6.3->tensorboard<2.16,>=2.15->tensorflow) (0.4.0)\n",
            "Requirement already satisfied: rsa<5,>=3.1.4 in /usr/local/lib/python3.10/dist-packages (from google-auth<3,>=1.6.3->tensorboard<2.16,>=2.15->tensorflow) (4.9)\n",
            "Requirement already satisfied: requests-oauthlib>=0.7.0 in /usr/local/lib/python3.10/dist-packages (from google-auth-oauthlib<2,>=0.5->tensorboard<2.16,>=2.15->tensorflow) (1.3.1)\n",
            "Requirement already satisfied: charset-normalizer<4,>=2 in /usr/local/lib/python3.10/dist-packages (from requests<3,>=2.21.0->tensorboard<2.16,>=2.15->tensorflow) (3.3.2)\n",
            "Requirement already satisfied: idna<4,>=2.5 in /usr/local/lib/python3.10/dist-packages (from requests<3,>=2.21.0->tensorboard<2.16,>=2.15->tensorflow) (3.7)\n",
            "Requirement already satisfied: urllib3<3,>=1.21.1 in /usr/local/lib/python3.10/dist-packages (from requests<3,>=2.21.0->tensorboard<2.16,>=2.15->tensorflow) (2.0.7)\n",
            "Requirement already satisfied: certifi>=2017.4.17 in /usr/local/lib/python3.10/dist-packages (from requests<3,>=2.21.0->tensorboard<2.16,>=2.15->tensorflow) (2024.7.4)\n",
            "Requirement already satisfied: MarkupSafe>=2.1.1 in /usr/local/lib/python3.10/dist-packages (from werkzeug>=1.0.1->tensorboard<2.16,>=2.15->tensorflow) (2.1.5)\n",
            "Requirement already satisfied: pyasn1<0.7.0,>=0.4.6 in /usr/local/lib/python3.10/dist-packages (from pyasn1-modules>=0.2.1->google-auth<3,>=1.6.3->tensorboard<2.16,>=2.15->tensorflow) (0.6.0)\n",
            "Requirement already satisfied: oauthlib>=3.0.0 in /usr/local/lib/python3.10/dist-packages (from requests-oauthlib>=0.7.0->google-auth-oauthlib<2,>=0.5->tensorboard<2.16,>=2.15->tensorflow) (3.2.2)\n"
          ]
        }
      ],
      "source": [
        "pip install tensorflow"
      ]
    },
    {
      "cell_type": "code",
      "execution_count": 51,
      "id": "36d4f2a3-3cdf-489b-9bd3-7e19676c88f0",
      "metadata": {
        "id": "36d4f2a3-3cdf-489b-9bd3-7e19676c88f0"
      },
      "outputs": [],
      "source": [
        "import numpy as np\n",
        "import pandas as pd\n",
        "import tensorflow as tf\n",
        "from tensorflow.keras.models import Sequential\n",
        "from tensorflow.keras.layers import Dense, Conv2D, Flatten, Dropout, MaxPooling2D\n",
        "from sklearn.preprocessing import StandardScaler\n",
        "from sklearn.impute import SimpleImputer\n",
        "from sklearn.metrics import accuracy_score, classification_report, confusion_matrix\n",
        "from sklearn.model_selection import train_test_split\n",
        "\n"
      ]
    },
    {
      "cell_type": "code",
      "execution_count": 52,
      "id": "31702eb0-45a3-4ec6-b4d7-7eac7dd81589",
      "metadata": {
        "tags": [],
        "id": "31702eb0-45a3-4ec6-b4d7-7eac7dd81589"
      },
      "outputs": [],
      "source": [
        "# Calculate the side length for reshaping\n",
        "n_features = X_train_scaled.shape[1]\n",
        "side_length = int(np.sqrt(n_features))\n"
      ]
    },
    {
      "cell_type": "markdown",
      "source": [
        "The number of features in the scaled training data (X_train_scaled) was calculated and stored in n_features. Then, the side length for reshaping the data into a square format was calculated by taking the square root of the number of features and converting it to an integer, which was stored in side_length."
      ],
      "metadata": {
        "id": "oScUBCszPg3z"
      },
      "id": "oScUBCszPg3z"
    },
    {
      "cell_type": "code",
      "source": [
        "import numpy as np\n",
        "import tensorflow as tf\n",
        "from tensorflow.keras.models import Sequential\n",
        "from tensorflow.keras.layers import Dense, Conv2D, Flatten, Dropout, MaxPooling2D\n",
        "\n",
        "\n",
        "\n",
        "# Pad features to reach 9\n",
        "X_train_padded = np.pad(X_train_scaled, ((0,0),(0,2)))  # Pad with 2 zeros along the second axis\n",
        "\n",
        "# Reshape to 3x3 images\n",
        "X_train_reshaped = X_train_padded.reshape(X_train_padded.shape[0], 3, 3, 1)\n",
        "print(X_train_reshaped.shape)  # Output: (7593, 3, 3, 1)\n",
        "\n",
        "#  CNN model\n",
        "model = Sequential()\n",
        "model.add(Conv2D(32, (2, 2), activation='relu', input_shape=(3, 3, 1)))\n",
        "model.add(MaxPooling2D((2, 2)))\n",
        "# ... add more layers as needed\n",
        "model.add(Flatten())\n",
        "model.add(Dense(10, activation='softmax'))\n",
        "\n"
      ],
      "metadata": {
        "colab": {
          "base_uri": "https://localhost:8080/"
        },
        "id": "SckrfRHqAwAH",
        "outputId": "288c7db8-9db1-4e28-b04e-ed257e4c0fd2"
      },
      "id": "SckrfRHqAwAH",
      "execution_count": 53,
      "outputs": [
        {
          "output_type": "stream",
          "name": "stdout",
          "text": [
            "(7593, 3, 3, 1)\n"
          ]
        }
      ]
    },
    {
      "cell_type": "markdown",
      "source": [
        " The model started with a Conv2D layer with 32 filters and a 2x2 kernel, followed by a ReLU activation function, with an input shape of 3x3x1. A MaxPooling2D layer with a 2x2 pool size was added next. After adding more layers as needed, the model was flattened, and a Dense layer with 10 output units and a softmax activation function was added to serve as the output layer."
      ],
      "metadata": {
        "id": "eTJ78g2pP3rc"
      },
      "id": "eTJ78g2pP3rc"
    },
    {
      "cell_type": "code",
      "source": [
        "import numpy as np\n",
        "import tensorflow as tf\n",
        "from tensorflow.keras.models import Sequential\n",
        "from tensorflow.keras.layers import Dense, Conv2D, Flatten, Dropout, MaxPooling2D\n",
        "from tensorflow.keras.utils import to_categorical # Import to_categorical\n",
        "\n",
        "# One-hot encode your labels\n",
        "y_train_encoded = to_categorical(y_train, num_classes=10)"
      ],
      "metadata": {
        "id": "L28AXHdUcxzE"
      },
      "id": "L28AXHdUcxzE",
      "execution_count": 54,
      "outputs": []
    },
    {
      "cell_type": "markdown",
      "source": [
        "An error was raised here while model building that the input function could not be categorical on y-train. one hot encoding was used to evaluate the categorical data to numeric since the inout to cnn should be 3X3 image"
      ],
      "metadata": {
        "id": "Tn8VnZsxQM4K"
      },
      "id": "Tn8VnZsxQM4K"
    },
    {
      "cell_type": "code",
      "execution_count": 55,
      "id": "8129457a-cc94-4047-8d7a-ac7281fd3ce5",
      "metadata": {
        "tags": [],
        "id": "8129457a-cc94-4047-8d7a-ac7281fd3ce5"
      },
      "outputs": [],
      "source": [
        "# Compile the model\n",
        "model.compile(optimizer='adam',\n",
        "              loss='categorical_crossentropy',  # Use categorical crossentropy for multi-class\n",
        "              metrics=['accuracy'])"
      ]
    },
    {
      "cell_type": "code",
      "execution_count": 56,
      "id": "8f6d3854-06f0-40d0-b2ef-05b82ab1f915",
      "metadata": {
        "tags": [],
        "colab": {
          "base_uri": "https://localhost:8080/"
        },
        "id": "8f6d3854-06f0-40d0-b2ef-05b82ab1f915",
        "outputId": "aea24605-cb45-4c29-b0c0-aa66ae0ad150"
      },
      "outputs": [
        {
          "output_type": "stream",
          "name": "stdout",
          "text": [
            "Epoch 1/10\n",
            "190/190 [==============================] - 3s 8ms/step - loss: 1.1962 - accuracy: 0.4844 - val_loss: 0.7931 - val_accuracy: 0.4832\n",
            "Epoch 2/10\n",
            "190/190 [==============================] - 1s 5ms/step - loss: 0.7424 - accuracy: 0.4964 - val_loss: 0.7235 - val_accuracy: 0.4707\n",
            "Epoch 3/10\n",
            "190/190 [==============================] - 2s 9ms/step - loss: 0.7106 - accuracy: 0.5005 - val_loss: 0.7102 - val_accuracy: 0.4766\n",
            "Epoch 4/10\n",
            "190/190 [==============================] - 2s 13ms/step - loss: 0.7028 - accuracy: 0.5018 - val_loss: 0.7054 - val_accuracy: 0.4852\n",
            "Epoch 5/10\n",
            "190/190 [==============================] - 2s 12ms/step - loss: 0.6990 - accuracy: 0.5160 - val_loss: 0.7022 - val_accuracy: 0.4766\n",
            "Epoch 6/10\n",
            "190/190 [==============================] - 2s 9ms/step - loss: 0.6970 - accuracy: 0.5156 - val_loss: 0.7029 - val_accuracy: 0.4964\n",
            "Epoch 7/10\n",
            "190/190 [==============================] - 2s 8ms/step - loss: 0.6960 - accuracy: 0.5119 - val_loss: 0.7004 - val_accuracy: 0.4812\n",
            "Epoch 8/10\n",
            "190/190 [==============================] - 2s 9ms/step - loss: 0.6947 - accuracy: 0.5191 - val_loss: 0.6997 - val_accuracy: 0.4819\n",
            "Epoch 9/10\n",
            "190/190 [==============================] - 1s 7ms/step - loss: 0.6947 - accuracy: 0.5143 - val_loss: 0.6993 - val_accuracy: 0.4826\n",
            "Epoch 10/10\n",
            "190/190 [==============================] - 2s 9ms/step - loss: 0.6938 - accuracy: 0.5178 - val_loss: 0.6999 - val_accuracy: 0.4905\n"
          ]
        },
        {
          "output_type": "execute_result",
          "data": {
            "text/plain": [
              "<keras.src.callbacks.History at 0x7d8f6ab89840>"
            ]
          },
          "metadata": {},
          "execution_count": 56
        }
      ],
      "source": [
        "# Train the model using the reshaped data and one-hot encoded labels\n",
        "model.fit(X_train_reshaped, y_train_encoded, epochs=10, batch_size=32, validation_split=0.2)"
      ]
    },
    {
      "cell_type": "code",
      "source": [
        "# Pad features to reach 9\n",
        "X_test_padded = np.pad(X_test_scaled, ((0,0),(0,2)))  # Pad with 2 zeros along the second axis\n",
        "\n",
        "# Reshape to 3x3 images\n",
        "X_test_reshaped = X_test_padded.reshape(X_test_padded.shape[0], 3, 3, 1)"
      ],
      "metadata": {
        "id": "S4HsfHtdePDV"
      },
      "id": "S4HsfHtdePDV",
      "execution_count": 57,
      "outputs": []
    },
    {
      "cell_type": "markdown",
      "source": [
        "Model evaluation could not be completed with the test data not in the same format as training data . Hence the scaled test data (X_test_scaled) was padded with zeros along the second axis to extend the feature length to 9, resulting in X_test_padded. This padded data was then reshaped into 3x3 images with a single channel, creating X_test_reshaped, to match the format used for training the model."
      ],
      "metadata": {
        "id": "YuMjhcdbRCeF"
      },
      "id": "YuMjhcdbRCeF"
    },
    {
      "cell_type": "code",
      "execution_count": 58,
      "id": "96736930-2e3c-4915-88e6-cbd42537bc44",
      "metadata": {
        "tags": [],
        "colab": {
          "base_uri": "https://localhost:8080/"
        },
        "id": "96736930-2e3c-4915-88e6-cbd42537bc44",
        "outputId": "5933ea00-dea9-4847-a674-706693f9ec2e"
      },
      "outputs": [
        {
          "output_type": "stream",
          "name": "stdout",
          "text": [
            "60/60 [==============================] - 0s 4ms/step\n",
            "Accuracy: 0.4860452869931543\n",
            "              precision    recall  f1-score   support\n",
            "\n",
            "         0.0       0.49      0.76      0.60       939\n",
            "         1.0       0.48      0.21      0.30       960\n",
            "\n",
            "    accuracy                           0.49      1899\n",
            "   macro avg       0.48      0.49      0.45      1899\n",
            "weighted avg       0.48      0.49      0.44      1899\n",
            "\n",
            "[[717 222]\n",
            " [754 206]]\n"
          ]
        }
      ],
      "source": [
        "# Evaluate the model\n",
        "y_pred_proba = model.predict(X_test_reshaped)\n",
        "y_pred = np.argmax(y_pred_proba, axis=1)  # Get the class with highest probability\n",
        "\n",
        "accuracy = accuracy_score(y_test, y_pred)\n",
        "print(f'Accuracy: {accuracy}')\n",
        "\n",
        "print(classification_report(y_test, y_pred))\n",
        "\n",
        "conf_matrix = confusion_matrix(y_test, y_pred)\n",
        "print(conf_matrix)"
      ]
    },
    {
      "cell_type": "code",
      "execution_count": 59,
      "id": "0f38f715-9b0c-4cf1-b7c3-300d3fe946db",
      "metadata": {
        "id": "0f38f715-9b0c-4cf1-b7c3-300d3fe946db"
      },
      "outputs": [],
      "source": [
        "optimizer = tf.keras.optimizers.Adam(learning_rate=0.001)  # Try different values\n",
        "model.compile(optimizer= optimizer,\n",
        "              loss='categorical_crossentropy',  # Use categorical crossentropy for multi-class\n",
        "              metrics=['accuracy'])"
      ]
    },
    {
      "cell_type": "code",
      "source": [
        "model.fit(X_train_reshaped, y_train_encoded, epochs=20, batch_size=64, validation_split=0.2)"
      ],
      "metadata": {
        "colab": {
          "base_uri": "https://localhost:8080/"
        },
        "id": "NJ3xZYAwhNtc",
        "outputId": "9933aa76-06f7-459b-b1cb-a203a48512ba"
      },
      "id": "NJ3xZYAwhNtc",
      "execution_count": 60,
      "outputs": [
        {
          "output_type": "stream",
          "name": "stdout",
          "text": [
            "Epoch 1/20\n",
            "95/95 [==============================] - 4s 22ms/step - loss: 0.6931 - accuracy: 0.5163 - val_loss: 0.6992 - val_accuracy: 0.4951\n",
            "Epoch 2/20\n",
            "95/95 [==============================] - 1s 11ms/step - loss: 0.6926 - accuracy: 0.5232 - val_loss: 0.6982 - val_accuracy: 0.4872\n",
            "Epoch 3/20\n",
            "95/95 [==============================] - 1s 12ms/step - loss: 0.6913 - accuracy: 0.5249 - val_loss: 0.6978 - val_accuracy: 0.4918\n",
            "Epoch 4/20\n",
            "95/95 [==============================] - 1s 7ms/step - loss: 0.6920 - accuracy: 0.5188 - val_loss: 0.6979 - val_accuracy: 0.4918\n",
            "Epoch 5/20\n",
            "95/95 [==============================] - 1s 7ms/step - loss: 0.6921 - accuracy: 0.5189 - val_loss: 0.6979 - val_accuracy: 0.4878\n",
            "Epoch 6/20\n",
            "95/95 [==============================] - 1s 7ms/step - loss: 0.6915 - accuracy: 0.5198 - val_loss: 0.6977 - val_accuracy: 0.4931\n",
            "Epoch 7/20\n",
            "95/95 [==============================] - 1s 6ms/step - loss: 0.6906 - accuracy: 0.5260 - val_loss: 0.6977 - val_accuracy: 0.4806\n",
            "Epoch 8/20\n",
            "95/95 [==============================] - 1s 8ms/step - loss: 0.6912 - accuracy: 0.5237 - val_loss: 0.6974 - val_accuracy: 0.4911\n",
            "Epoch 9/20\n",
            "95/95 [==============================] - 1s 5ms/step - loss: 0.6904 - accuracy: 0.5242 - val_loss: 0.6975 - val_accuracy: 0.4799\n",
            "Epoch 10/20\n",
            "95/95 [==============================] - 1s 7ms/step - loss: 0.6901 - accuracy: 0.5408 - val_loss: 0.6986 - val_accuracy: 0.4773\n",
            "Epoch 11/20\n",
            "95/95 [==============================] - 1s 5ms/step - loss: 0.6909 - accuracy: 0.5262 - val_loss: 0.7007 - val_accuracy: 0.4977\n",
            "Epoch 12/20\n",
            "95/95 [==============================] - 1s 11ms/step - loss: 0.6914 - accuracy: 0.5170 - val_loss: 0.6976 - val_accuracy: 0.4898\n",
            "Epoch 13/20\n",
            "95/95 [==============================] - 1s 8ms/step - loss: 0.6901 - accuracy: 0.5313 - val_loss: 0.6975 - val_accuracy: 0.4918\n",
            "Epoch 14/20\n",
            "95/95 [==============================] - 1s 9ms/step - loss: 0.6900 - accuracy: 0.5306 - val_loss: 0.6979 - val_accuracy: 0.4891\n",
            "Epoch 15/20\n",
            "95/95 [==============================] - 1s 8ms/step - loss: 0.6898 - accuracy: 0.5298 - val_loss: 0.6977 - val_accuracy: 0.4891\n",
            "Epoch 16/20\n",
            "95/95 [==============================] - 1s 7ms/step - loss: 0.6898 - accuracy: 0.5318 - val_loss: 0.6977 - val_accuracy: 0.4819\n",
            "Epoch 17/20\n",
            "95/95 [==============================] - 1s 9ms/step - loss: 0.6904 - accuracy: 0.5331 - val_loss: 0.6983 - val_accuracy: 0.4852\n",
            "Epoch 18/20\n",
            "95/95 [==============================] - 1s 11ms/step - loss: 0.6893 - accuracy: 0.5369 - val_loss: 0.7014 - val_accuracy: 0.4924\n",
            "Epoch 19/20\n",
            "95/95 [==============================] - 1s 12ms/step - loss: 0.6894 - accuracy: 0.5362 - val_loss: 0.6995 - val_accuracy: 0.4957\n",
            "Epoch 20/20\n",
            "95/95 [==============================] - 1s 12ms/step - loss: 0.6896 - accuracy: 0.5362 - val_loss: 0.6993 - val_accuracy: 0.4872\n"
          ]
        },
        {
          "output_type": "execute_result",
          "data": {
            "text/plain": [
              "<keras.src.callbacks.History at 0x7d8f6a074e20>"
            ]
          },
          "metadata": {},
          "execution_count": 60
        }
      ]
    },
    {
      "cell_type": "code",
      "source": [
        "#Pad features to reach 9\n",
        "X_test_padded = np.pad(X_test_scaled, ((0,0),(0,2)))  # Pad with 2 zeros along the second axis\n",
        "\n",
        "# Reshape to 3x3 images\n",
        "X_test_reshaped = X_test_padded.reshape(X_test_padded.shape[0], 3, 3, 1)"
      ],
      "metadata": {
        "id": "fUF5yRjciZaH"
      },
      "id": "fUF5yRjciZaH",
      "execution_count": 61,
      "outputs": []
    },
    {
      "cell_type": "code",
      "source": [
        "# Evaluate the model\n",
        "y_pred_proba = model.predict(X_test_reshaped)\n",
        "y_pred = np.argmax(y_pred_proba, axis=1)  # Get the class with highest probability\n",
        "\n",
        "accuracy = accuracy_score(y_test, y_pred)\n",
        "print(f'Accuracy: {accuracy}')\n",
        "\n",
        "print(classification_report(y_test, y_pred))\n",
        "\n",
        "conf_matrix = confusion_matrix(y_test, y_pred)\n",
        "print(conf_matrix)"
      ],
      "metadata": {
        "colab": {
          "base_uri": "https://localhost:8080/"
        },
        "id": "VT_pxxPcigz3",
        "outputId": "a7c31688-de74-481c-c0b7-dce592dc47f9"
      },
      "id": "VT_pxxPcigz3",
      "execution_count": 62,
      "outputs": [
        {
          "output_type": "stream",
          "name": "stdout",
          "text": [
            "60/60 [==============================] - 1s 5ms/step\n",
            "Accuracy: 0.5197472353870458\n",
            "              precision    recall  f1-score   support\n",
            "\n",
            "         0.0       0.53      0.24      0.33       939\n",
            "         1.0       0.52      0.80      0.63       960\n",
            "\n",
            "    accuracy                           0.52      1899\n",
            "   macro avg       0.52      0.52      0.48      1899\n",
            "weighted avg       0.52      0.52      0.48      1899\n",
            "\n",
            "[[221 718]\n",
            " [194 766]]\n"
          ]
        }
      ]
    },
    {
      "cell_type": "code",
      "source": [
        "optimizer = tf.keras.optimizers.Adam(learning_rate=0.05)  # Try different values\n",
        "model.compile(optimizer= optimizer,\n",
        "              loss='categorical_crossentropy',  # Use categorical crossentropy for multi-class\n",
        "              metrics=['accuracy'])"
      ],
      "metadata": {
        "id": "UUJNjguSXiLu"
      },
      "id": "UUJNjguSXiLu",
      "execution_count": 63,
      "outputs": []
    },
    {
      "cell_type": "code",
      "source": [
        "# Train the model using the reshaped data and one-hot encoded labels\n",
        "model.fit(X_train_reshaped, y_train_encoded, epochs=10, batch_size=124, validation_split=0.2)"
      ],
      "metadata": {
        "colab": {
          "base_uri": "https://localhost:8080/"
        },
        "id": "M8JkORx4XOTc",
        "outputId": "9f722ca2-27e0-4de7-b4f5-c97e4b7b5a1e"
      },
      "id": "M8JkORx4XOTc",
      "execution_count": 64,
      "outputs": [
        {
          "output_type": "stream",
          "name": "stdout",
          "text": [
            "Epoch 1/10\n",
            "49/49 [==============================] - 2s 17ms/step - loss: 0.7338 - accuracy: 0.5021 - val_loss: 0.6943 - val_accuracy: 0.4905\n",
            "Epoch 2/10\n",
            "49/49 [==============================] - 0s 10ms/step - loss: 0.6934 - accuracy: 0.5104 - val_loss: 0.6950 - val_accuracy: 0.4747\n",
            "Epoch 3/10\n",
            "49/49 [==============================] - 0s 9ms/step - loss: 0.6944 - accuracy: 0.5018 - val_loss: 0.6955 - val_accuracy: 0.4793\n",
            "Epoch 4/10\n",
            "49/49 [==============================] - 0s 5ms/step - loss: 0.6945 - accuracy: 0.5071 - val_loss: 0.6969 - val_accuracy: 0.4905\n",
            "Epoch 5/10\n",
            "49/49 [==============================] - 0s 7ms/step - loss: 0.6946 - accuracy: 0.4997 - val_loss: 0.6945 - val_accuracy: 0.5030\n",
            "Epoch 6/10\n",
            "49/49 [==============================] - 0s 8ms/step - loss: 0.6965 - accuracy: 0.4974 - val_loss: 0.6941 - val_accuracy: 0.4905\n",
            "Epoch 7/10\n",
            "49/49 [==============================] - 0s 7ms/step - loss: 0.6952 - accuracy: 0.4959 - val_loss: 0.7012 - val_accuracy: 0.4964\n",
            "Epoch 8/10\n",
            "49/49 [==============================] - 0s 7ms/step - loss: 0.6941 - accuracy: 0.5026 - val_loss: 0.6969 - val_accuracy: 0.4964\n",
            "Epoch 9/10\n",
            "49/49 [==============================] - 0s 7ms/step - loss: 0.6973 - accuracy: 0.4993 - val_loss: 0.6971 - val_accuracy: 0.4911\n",
            "Epoch 10/10\n",
            "49/49 [==============================] - 0s 6ms/step - loss: 0.6944 - accuracy: 0.5016 - val_loss: 0.6941 - val_accuracy: 0.5030\n"
          ]
        },
        {
          "output_type": "execute_result",
          "data": {
            "text/plain": [
              "<keras.src.callbacks.History at 0x7d8f67df8250>"
            ]
          },
          "metadata": {},
          "execution_count": 64
        }
      ]
    },
    {
      "cell_type": "code",
      "source": [
        "# Evaluate the model\n",
        "y_pred_proba = model.predict(X_test_reshaped)\n",
        "y_pred = np.argmax(y_pred_proba, axis=1)  # Get the class with highest probability\n",
        "\n",
        "accuracy = accuracy_score(y_test, y_pred)\n",
        "print(f'Accuracy: {accuracy}')\n",
        "\n",
        "print(classification_report(y_test, y_pred))\n",
        "\n",
        "conf_matrix = confusion_matrix(y_test, y_pred)\n",
        "print(conf_matrix)"
      ],
      "metadata": {
        "colab": {
          "base_uri": "https://localhost:8080/"
        },
        "id": "XT1tUWSeXqUV",
        "outputId": "977ac4ae-d823-4702-cd95-c5c428b3a945"
      },
      "id": "XT1tUWSeXqUV",
      "execution_count": 65,
      "outputs": [
        {
          "output_type": "stream",
          "name": "stdout",
          "text": [
            "60/60 [==============================] - 0s 3ms/step\n",
            "Accuracy: 0.49499736703528174\n",
            "              precision    recall  f1-score   support\n",
            "\n",
            "         0.0       0.49      1.00      0.66       939\n",
            "         1.0       0.67      0.00      0.00       960\n",
            "\n",
            "    accuracy                           0.49      1899\n",
            "   macro avg       0.58      0.50      0.33      1899\n",
            "weighted avg       0.58      0.49      0.33      1899\n",
            "\n",
            "[[938   1]\n",
            " [958   2]]\n"
          ]
        }
      ]
    },
    {
      "cell_type": "code",
      "source": [
        "optimizer = tf.keras.optimizers.Adam(learning_rate=0.005)  # Try different values\n",
        "model.compile(optimizer= optimizer,\n",
        "              loss='categorical_crossentropy',  # Use categorical crossentropy for multi-class\n",
        "              metrics=['accuracy'])"
      ],
      "metadata": {
        "id": "GpoEPksZXsfl"
      },
      "id": "GpoEPksZXsfl",
      "execution_count": 66,
      "outputs": []
    },
    {
      "cell_type": "code",
      "source": [
        "# Train the model using the reshaped data and one-hot encoded labels\n",
        "model.fit(X_train_reshaped, y_train_encoded, epochs=30, batch_size=16, validation_split=0.2)"
      ],
      "metadata": {
        "colab": {
          "base_uri": "https://localhost:8080/"
        },
        "id": "aq7MZM2HXsWG",
        "outputId": "99db66df-67df-4c89-f27e-b4ee37147206"
      },
      "id": "aq7MZM2HXsWG",
      "execution_count": 67,
      "outputs": [
        {
          "output_type": "stream",
          "name": "stdout",
          "text": [
            "Epoch 1/30\n",
            "380/380 [==============================] - 6s 12ms/step - loss: 0.6937 - accuracy: 0.5036 - val_loss: 0.6932 - val_accuracy: 0.5063\n",
            "Epoch 2/30\n",
            "380/380 [==============================] - 3s 8ms/step - loss: 0.6935 - accuracy: 0.5063 - val_loss: 0.6944 - val_accuracy: 0.4964\n",
            "Epoch 3/30\n",
            "380/380 [==============================] - 3s 7ms/step - loss: 0.6935 - accuracy: 0.5089 - val_loss: 0.6937 - val_accuracy: 0.5043\n",
            "Epoch 4/30\n",
            "380/380 [==============================] - 3s 7ms/step - loss: 0.6934 - accuracy: 0.5066 - val_loss: 0.6953 - val_accuracy: 0.4964\n",
            "Epoch 5/30\n",
            "380/380 [==============================] - 1s 4ms/step - loss: 0.6937 - accuracy: 0.4979 - val_loss: 0.6934 - val_accuracy: 0.4964\n",
            "Epoch 6/30\n",
            "380/380 [==============================] - 1s 3ms/step - loss: 0.6936 - accuracy: 0.4995 - val_loss: 0.6936 - val_accuracy: 0.4931\n",
            "Epoch 7/30\n",
            "380/380 [==============================] - 1s 3ms/step - loss: 0.6936 - accuracy: 0.4909 - val_loss: 0.6941 - val_accuracy: 0.5063\n",
            "Epoch 8/30\n",
            "380/380 [==============================] - 2s 4ms/step - loss: 0.6937 - accuracy: 0.5035 - val_loss: 0.6936 - val_accuracy: 0.5056\n",
            "Epoch 9/30\n",
            "380/380 [==============================] - 2s 4ms/step - loss: 0.6933 - accuracy: 0.4987 - val_loss: 0.6934 - val_accuracy: 0.4878\n",
            "Epoch 10/30\n",
            "380/380 [==============================] - 1s 4ms/step - loss: 0.6932 - accuracy: 0.5081 - val_loss: 0.6935 - val_accuracy: 0.5076\n",
            "Epoch 11/30\n",
            "380/380 [==============================] - 1s 2ms/step - loss: 0.6935 - accuracy: 0.5059 - val_loss: 0.6936 - val_accuracy: 0.4918\n",
            "Epoch 12/30\n",
            "380/380 [==============================] - 1s 3ms/step - loss: 0.6934 - accuracy: 0.5095 - val_loss: 0.6932 - val_accuracy: 0.5049\n",
            "Epoch 13/30\n",
            "380/380 [==============================] - 1s 3ms/step - loss: 0.6934 - accuracy: 0.5003 - val_loss: 0.6936 - val_accuracy: 0.5069\n",
            "Epoch 14/30\n",
            "380/380 [==============================] - 1s 3ms/step - loss: 0.6930 - accuracy: 0.5025 - val_loss: 0.6938 - val_accuracy: 0.5089\n",
            "Epoch 15/30\n",
            "380/380 [==============================] - 2s 5ms/step - loss: 0.6934 - accuracy: 0.5068 - val_loss: 0.6936 - val_accuracy: 0.4898\n",
            "Epoch 16/30\n",
            "380/380 [==============================] - 3s 8ms/step - loss: 0.6928 - accuracy: 0.5150 - val_loss: 0.6946 - val_accuracy: 0.4964\n",
            "Epoch 17/30\n",
            "380/380 [==============================] - 4s 9ms/step - loss: 0.6936 - accuracy: 0.5015 - val_loss: 0.6932 - val_accuracy: 0.5109\n",
            "Epoch 18/30\n",
            "380/380 [==============================] - 3s 8ms/step - loss: 0.6931 - accuracy: 0.5119 - val_loss: 0.6937 - val_accuracy: 0.5030\n",
            "Epoch 19/30\n",
            "380/380 [==============================] - 2s 6ms/step - loss: 0.6933 - accuracy: 0.5072 - val_loss: 0.6931 - val_accuracy: 0.5128\n",
            "Epoch 20/30\n",
            "380/380 [==============================] - 2s 6ms/step - loss: 0.6928 - accuracy: 0.5155 - val_loss: 0.6932 - val_accuracy: 0.5102\n",
            "Epoch 21/30\n",
            "380/380 [==============================] - 3s 8ms/step - loss: 0.6928 - accuracy: 0.5114 - val_loss: 0.6943 - val_accuracy: 0.5063\n",
            "Epoch 22/30\n",
            "380/380 [==============================] - 1s 3ms/step - loss: 0.6928 - accuracy: 0.5087 - val_loss: 0.6931 - val_accuracy: 0.5115\n",
            "Epoch 23/30\n",
            "380/380 [==============================] - 1s 3ms/step - loss: 0.6926 - accuracy: 0.5115 - val_loss: 0.6938 - val_accuracy: 0.5082\n",
            "Epoch 24/30\n",
            "380/380 [==============================] - 1s 4ms/step - loss: 0.6926 - accuracy: 0.5168 - val_loss: 0.6933 - val_accuracy: 0.5043\n",
            "Epoch 25/30\n",
            "380/380 [==============================] - 2s 4ms/step - loss: 0.6925 - accuracy: 0.5115 - val_loss: 0.6947 - val_accuracy: 0.5148\n",
            "Epoch 26/30\n",
            "380/380 [==============================] - 1s 3ms/step - loss: 0.6929 - accuracy: 0.5081 - val_loss: 0.6934 - val_accuracy: 0.5043\n",
            "Epoch 27/30\n",
            "380/380 [==============================] - 1s 3ms/step - loss: 0.6926 - accuracy: 0.5095 - val_loss: 0.6931 - val_accuracy: 0.5069\n",
            "Epoch 28/30\n",
            "380/380 [==============================] - 1s 2ms/step - loss: 0.6932 - accuracy: 0.5066 - val_loss: 0.6933 - val_accuracy: 0.5069\n",
            "Epoch 29/30\n",
            "380/380 [==============================] - 1s 3ms/step - loss: 0.6923 - accuracy: 0.5150 - val_loss: 0.6946 - val_accuracy: 0.5082\n",
            "Epoch 30/30\n",
            "380/380 [==============================] - 1s 2ms/step - loss: 0.6926 - accuracy: 0.5140 - val_loss: 0.6935 - val_accuracy: 0.5142\n"
          ]
        },
        {
          "output_type": "execute_result",
          "data": {
            "text/plain": [
              "<keras.src.callbacks.History at 0x7d8f67d37dc0>"
            ]
          },
          "metadata": {},
          "execution_count": 67
        }
      ]
    },
    {
      "cell_type": "code",
      "source": [
        "# Evaluate the model\n",
        "y_pred_proba = model.predict(X_test_reshaped)\n",
        "y_pred = np.argmax(y_pred_proba, axis=1)  # Get the class with highest probability\n",
        "\n",
        "accuracy = accuracy_score(y_test, y_pred)\n",
        "print(f'Accuracy: {accuracy}')\n",
        "\n",
        "print(classification_report(y_test, y_pred))\n",
        "\n",
        "conf_matrix = confusion_matrix(y_test, y_pred)\n",
        "print(conf_matrix)"
      ],
      "metadata": {
        "colab": {
          "base_uri": "https://localhost:8080/"
        },
        "id": "Kdbk5bMmXsIO",
        "outputId": "579bdf22-ff77-4422-d723-1ff215531f01"
      },
      "id": "Kdbk5bMmXsIO",
      "execution_count": 68,
      "outputs": [
        {
          "output_type": "stream",
          "name": "stdout",
          "text": [
            "60/60 [==============================] - 0s 2ms/step\n",
            "Accuracy: 0.49447077409162715\n",
            "              precision    recall  f1-score   support\n",
            "\n",
            "         0.0       0.49      0.83      0.62       939\n",
            "         1.0       0.50      0.16      0.24       960\n",
            "\n",
            "    accuracy                           0.49      1899\n",
            "   macro avg       0.50      0.50      0.43      1899\n",
            "weighted avg       0.50      0.49      0.43      1899\n",
            "\n",
            "[[784 155]\n",
            " [805 155]]\n"
          ]
        }
      ]
    },
    {
      "cell_type": "code",
      "source": [
        "optimizer = tf.keras.optimizers.Adam(learning_rate=0.1)  # Try different values\n",
        "model.compile(optimizer= optimizer,\n",
        "              loss='categorical_crossentropy',  # Use categorical crossentropy for multi-class\n",
        "              metrics=['accuracy'])"
      ],
      "metadata": {
        "id": "9H_RJOmTYXje"
      },
      "id": "9H_RJOmTYXje",
      "execution_count": 69,
      "outputs": []
    },
    {
      "cell_type": "code",
      "source": [
        "# Train the model using the reshaped data and one-hot encoded labels\n",
        "model.fit(X_train_reshaped, y_train_encoded, epochs=20, batch_size=32, validation_split=0.2)"
      ],
      "metadata": {
        "colab": {
          "base_uri": "https://localhost:8080/"
        },
        "id": "bk4QN_2YYXYT",
        "outputId": "1e6ab14c-fb13-4af3-d2c5-db955e5d7caa"
      },
      "id": "bk4QN_2YYXYT",
      "execution_count": 70,
      "outputs": [
        {
          "output_type": "stream",
          "name": "stdout",
          "text": [
            "Epoch 1/20\n",
            "190/190 [==============================] - 3s 9ms/step - loss: 0.6997 - accuracy: 0.4970 - val_loss: 0.7057 - val_accuracy: 0.4964\n",
            "Epoch 2/20\n",
            "190/190 [==============================] - 1s 6ms/step - loss: 0.6998 - accuracy: 0.4807 - val_loss: 0.6931 - val_accuracy: 0.5036\n",
            "Epoch 3/20\n",
            "190/190 [==============================] - 1s 7ms/step - loss: 0.6957 - accuracy: 0.5087 - val_loss: 0.7232 - val_accuracy: 0.4964\n",
            "Epoch 4/20\n",
            "190/190 [==============================] - 2s 9ms/step - loss: 0.6966 - accuracy: 0.5015 - val_loss: 0.6931 - val_accuracy: 0.5036\n",
            "Epoch 5/20\n",
            "190/190 [==============================] - 2s 9ms/step - loss: 0.6972 - accuracy: 0.5015 - val_loss: 0.6969 - val_accuracy: 0.4964\n",
            "Epoch 6/20\n",
            "190/190 [==============================] - 2s 9ms/step - loss: 0.6970 - accuracy: 0.5120 - val_loss: 0.6937 - val_accuracy: 0.5036\n",
            "Epoch 7/20\n",
            "190/190 [==============================] - 1s 5ms/step - loss: 0.6985 - accuracy: 0.4952 - val_loss: 0.6949 - val_accuracy: 0.5036\n",
            "Epoch 8/20\n",
            "190/190 [==============================] - 1s 6ms/step - loss: 0.6975 - accuracy: 0.4946 - val_loss: 0.6979 - val_accuracy: 0.5036\n",
            "Epoch 9/20\n",
            "190/190 [==============================] - 1s 6ms/step - loss: 0.6965 - accuracy: 0.5048 - val_loss: 0.7256 - val_accuracy: 0.5036\n",
            "Epoch 10/20\n",
            "190/190 [==============================] - 1s 5ms/step - loss: 0.6970 - accuracy: 0.5008 - val_loss: 0.6933 - val_accuracy: 0.5036\n",
            "Epoch 11/20\n",
            "190/190 [==============================] - 1s 5ms/step - loss: 0.6960 - accuracy: 0.4959 - val_loss: 0.6939 - val_accuracy: 0.5036\n",
            "Epoch 12/20\n",
            "190/190 [==============================] - 1s 5ms/step - loss: 0.6956 - accuracy: 0.4995 - val_loss: 0.6932 - val_accuracy: 0.4964\n",
            "Epoch 13/20\n",
            "190/190 [==============================] - 1s 5ms/step - loss: 0.6968 - accuracy: 0.4923 - val_loss: 0.6932 - val_accuracy: 0.4964\n",
            "Epoch 14/20\n",
            "190/190 [==============================] - 1s 6ms/step - loss: 0.6959 - accuracy: 0.4913 - val_loss: 0.6956 - val_accuracy: 0.4964\n",
            "Epoch 15/20\n",
            "190/190 [==============================] - 1s 7ms/step - loss: 0.6972 - accuracy: 0.4962 - val_loss: 0.6967 - val_accuracy: 0.5036\n",
            "Epoch 16/20\n",
            "190/190 [==============================] - 1s 5ms/step - loss: 0.6979 - accuracy: 0.4979 - val_loss: 0.6966 - val_accuracy: 0.4964\n",
            "Epoch 17/20\n",
            "190/190 [==============================] - 1s 5ms/step - loss: 0.6960 - accuracy: 0.5100 - val_loss: 0.6966 - val_accuracy: 0.5036\n",
            "Epoch 18/20\n",
            "190/190 [==============================] - 1s 5ms/step - loss: 0.6959 - accuracy: 0.4939 - val_loss: 0.6936 - val_accuracy: 0.4964\n",
            "Epoch 19/20\n",
            "190/190 [==============================] - 1s 4ms/step - loss: 0.6986 - accuracy: 0.4916 - val_loss: 0.6997 - val_accuracy: 0.4964\n",
            "Epoch 20/20\n",
            "190/190 [==============================] - 1s 3ms/step - loss: 0.6996 - accuracy: 0.4962 - val_loss: 0.6933 - val_accuracy: 0.5036\n"
          ]
        },
        {
          "output_type": "execute_result",
          "data": {
            "text/plain": [
              "<keras.src.callbacks.History at 0x7d8f67dd8280>"
            ]
          },
          "metadata": {},
          "execution_count": 70
        }
      ]
    },
    {
      "cell_type": "code",
      "source": [
        "# Evaluate the model\n",
        "y_pred_proba = model.predict(X_test_reshaped)\n",
        "y_pred = np.argmax(y_pred_proba, axis=1)  # Get the class with highest probability\n",
        "\n",
        "accuracy = accuracy_score(y_test, y_pred)\n",
        "print(f'Accuracy: {accuracy}')\n",
        "\n",
        "print(classification_report(y_test, y_pred))\n",
        "\n",
        "conf_matrix = confusion_matrix(y_test, y_pred)\n",
        "print(conf_matrix)"
      ],
      "metadata": {
        "colab": {
          "base_uri": "https://localhost:8080/"
        },
        "id": "iTdvocQRYXMA",
        "outputId": "fdc3242c-a84d-411d-ea9a-f46e7b6c544f"
      },
      "id": "iTdvocQRYXMA",
      "execution_count": 71,
      "outputs": [
        {
          "output_type": "stream",
          "name": "stdout",
          "text": [
            "60/60 [==============================] - 0s 2ms/step\n",
            "Accuracy: 0.49447077409162715\n",
            "              precision    recall  f1-score   support\n",
            "\n",
            "         0.0       0.49      1.00      0.66       939\n",
            "         1.0       0.00      0.00      0.00       960\n",
            "\n",
            "    accuracy                           0.49      1899\n",
            "   macro avg       0.25      0.50      0.33      1899\n",
            "weighted avg       0.24      0.49      0.33      1899\n",
            "\n",
            "[[939   0]\n",
            " [960   0]]\n"
          ]
        },
        {
          "output_type": "stream",
          "name": "stderr",
          "text": [
            "/usr/local/lib/python3.10/dist-packages/sklearn/metrics/_classification.py:1531: UndefinedMetricWarning: Precision is ill-defined and being set to 0.0 in labels with no predicted samples. Use `zero_division` parameter to control this behavior.\n",
            "  _warn_prf(average, modifier, f\"{metric.capitalize()} is\", len(result))\n",
            "/usr/local/lib/python3.10/dist-packages/sklearn/metrics/_classification.py:1531: UndefinedMetricWarning: Precision is ill-defined and being set to 0.0 in labels with no predicted samples. Use `zero_division` parameter to control this behavior.\n",
            "  _warn_prf(average, modifier, f\"{metric.capitalize()} is\", len(result))\n",
            "/usr/local/lib/python3.10/dist-packages/sklearn/metrics/_classification.py:1531: UndefinedMetricWarning: Precision is ill-defined and being set to 0.0 in labels with no predicted samples. Use `zero_division` parameter to control this behavior.\n",
            "  _warn_prf(average, modifier, f\"{metric.capitalize()} is\", len(result))\n"
          ]
        }
      ]
    },
    {
      "cell_type": "markdown",
      "source": [
        "![model flowchart.png](data:image/png;base64,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)"
      ],
      "metadata": {
        "id": "8SRlWLNDi7bd"
      },
      "id": "8SRlWLNDi7bd"
    },
    {
      "cell_type": "code",
      "source": [
        "import numpy as np\n",
        "from sklearn.model_selection import StratifiedKFold\n",
        "from sklearn.metrics import accuracy_score\n",
        "\n",
        "\n",
        "\n",
        "# Number of folds for cross-validation\n",
        "num_folds = 5\n",
        "\n",
        "# Initialize StratifiedKFold for balanced splits\n",
        "skf = StratifiedKFold(n_splits=num_folds, shuffle=True, random_state=42)\n",
        "\n",
        "# Lists to store accuracy scores for each fold\n",
        "fold_accuracies = []\n",
        "\n",
        "# Perform cross-validation\n",
        "for fold, (train_index, val_index) in enumerate(skf.split(X_train_reshaped, y_train_encoded.argmax(axis=1))):  # Use argmax for one-hot encoded labels\n",
        "    print(f\"Fold {fold + 1}\")\n",
        "    X_train_fold, X_val_fold = X_train_reshaped[train_index], X_train_reshaped[val_index]\n",
        "    y_train_fold, y_val_fold = y_train_encoded[train_index], y_train_encoded[val_index]\n",
        "\n",
        "    # Recompile the model for each fold (optional, but good practice)\n",
        "    model.compile(optimizer='adam', loss='categorical_crossentropy', metrics=['accuracy'])\n",
        "\n",
        "    # Train the model on the training fold\n",
        "    model.fit(X_train_fold, y_train_fold, epochs=10, batch_size=32, verbose=0)  # Adjust epochs and batch size as needed\n",
        "\n",
        "    # Evaluate the model on the validation fold\n",
        "    _, accuracy = model.evaluate(X_val_fold, y_val_fold, verbose=0)\n",
        "    fold_accuracies.append(accuracy)\n",
        "    print(f\"Accuracy for fold {fold + 1}: {accuracy}\")\n",
        "\n",
        "# Calculate and print average accuracy across folds\n",
        "average_accuracy = np.mean(fold_accuracies)\n",
        "print(f\"\\nAverage Accuracy across {num_folds} folds: {average_accuracy}\")"
      ],
      "metadata": {
        "colab": {
          "base_uri": "https://localhost:8080/"
        },
        "id": "WwOXo_GNS1oG",
        "outputId": "d38ce772-cea7-49ba-a3f1-3e58b8f09d5e"
      },
      "id": "WwOXo_GNS1oG",
      "execution_count": 72,
      "outputs": [
        {
          "output_type": "stream",
          "name": "stdout",
          "text": [
            "Fold 1\n",
            "Accuracy for fold 1: 0.5009874701499939\n",
            "Fold 2\n",
            "Accuracy for fold 2: 0.5016458034515381\n",
            "Fold 3\n",
            "Accuracy for fold 3: 0.5016458034515381\n",
            "Fold 4\n",
            "Accuracy for fold 4: 0.5013175010681152\n",
            "Fold 5\n",
            "Accuracy for fold 5: 0.5013175010681152\n",
            "\n",
            "Average Accuracy across 5 folds: 0.5013828158378602\n"
          ]
        }
      ]
    },
    {
      "cell_type": "markdown",
      "source": [
        "The number of folds for cross-validation was set to 5, and StratifiedKFold was initialized to ensure balanced splits with shuffling and a fixed random state for reproducibility. An empty list was created to store accuracy scores for each fold.\n",
        "\n",
        "The code then iterated over each fold, splitting the data into training and validation sets while converting one-hot encoded labels to class indices using argmax. For each fold, the model was compiled and trained on the training data, and then evaluated on the validation data. The accuracy for each fold was stored and printed. Finally, the average accuracy across all folds was calculated and displayed."
      ],
      "metadata": {
        "id": "uVIruZg7ZiXQ"
      },
      "id": "uVIruZg7ZiXQ"
    },
    {
      "cell_type": "code",
      "source": [
        "from tensorflow.keras import optimizers\n",
        "\n",
        "# Define the learning rate\n",
        "learning_rate = [0.001, 0.01, 0.05, 0.1]\n",
        "\n",
        "for lr in learning_rate:\n",
        "    # Create the SGD optimizer with the current learning rate\n",
        "    sgd_optimizer = optimizers.SGD(learning_rate=lr)\n",
        "\n",
        "\n",
        "# Compile the model using the SGD optimizer\n",
        "model.compile(optimizer=sgd_optimizer,\n",
        "              loss='categorical_crossentropy',\n",
        "              metrics=['accuracy'])"
      ],
      "metadata": {
        "id": "9oox5R6gkZXH"
      },
      "id": "9oox5R6gkZXH",
      "execution_count": 73,
      "outputs": []
    },
    {
      "cell_type": "code",
      "source": [
        "model.fit(X_train_reshaped, y_train_encoded, epochs=10, batch_size=32, validation_split=0.2)"
      ],
      "metadata": {
        "colab": {
          "base_uri": "https://localhost:8080/"
        },
        "id": "XLbXJonpkibJ",
        "outputId": "4654d0b8-e760-4240-b1df-bcbebe1e0264"
      },
      "id": "XLbXJonpkibJ",
      "execution_count": 74,
      "outputs": [
        {
          "output_type": "stream",
          "name": "stdout",
          "text": [
            "Epoch 1/10\n",
            "190/190 [==============================] - 1s 4ms/step - loss: 0.6937 - accuracy: 0.4962 - val_loss: 0.6935 - val_accuracy: 0.4964\n",
            "Epoch 2/10\n",
            "190/190 [==============================] - 1s 3ms/step - loss: 0.6934 - accuracy: 0.4949 - val_loss: 0.6942 - val_accuracy: 0.5036\n",
            "Epoch 3/10\n",
            "190/190 [==============================] - 1s 3ms/step - loss: 0.6939 - accuracy: 0.4900 - val_loss: 0.6931 - val_accuracy: 0.5036\n",
            "Epoch 4/10\n",
            "190/190 [==============================] - 1s 3ms/step - loss: 0.6937 - accuracy: 0.4952 - val_loss: 0.6932 - val_accuracy: 0.4964\n",
            "Epoch 5/10\n",
            "190/190 [==============================] - 1s 3ms/step - loss: 0.6937 - accuracy: 0.4975 - val_loss: 0.6932 - val_accuracy: 0.5036\n",
            "Epoch 6/10\n",
            "190/190 [==============================] - 1s 3ms/step - loss: 0.6937 - accuracy: 0.4909 - val_loss: 0.6935 - val_accuracy: 0.5036\n",
            "Epoch 7/10\n",
            "190/190 [==============================] - 1s 3ms/step - loss: 0.6936 - accuracy: 0.4998 - val_loss: 0.6932 - val_accuracy: 0.5036\n",
            "Epoch 8/10\n",
            "190/190 [==============================] - 1s 3ms/step - loss: 0.6933 - accuracy: 0.5054 - val_loss: 0.6939 - val_accuracy: 0.5036\n",
            "Epoch 9/10\n",
            "190/190 [==============================] - 1s 3ms/step - loss: 0.6937 - accuracy: 0.4942 - val_loss: 0.6931 - val_accuracy: 0.5036\n",
            "Epoch 10/10\n",
            "190/190 [==============================] - 0s 3ms/step - loss: 0.6938 - accuracy: 0.4929 - val_loss: 0.6934 - val_accuracy: 0.5036\n"
          ]
        },
        {
          "output_type": "execute_result",
          "data": {
            "text/plain": [
              "<keras.src.callbacks.History at 0x7d8f6414ac20>"
            ]
          },
          "metadata": {},
          "execution_count": 74
        }
      ]
    },
    {
      "cell_type": "code",
      "source": [],
      "metadata": {
        "id": "kDJQbXjXnBRE"
      },
      "id": "kDJQbXjXnBRE",
      "execution_count": 74,
      "outputs": []
    },
    {
      "cell_type": "code",
      "source": [
        "\n",
        "# Evaluate the model\n",
        "y_pred_proba = model.predict(X_test_reshaped)\n",
        "y_pred = np.argmax(y_pred_proba, axis=1)  # Get the class with highest probability\n",
        "\n",
        "accuracy = accuracy_score(y_test, y_pred)\n",
        "print(f'Accuracy: {accuracy}')\n",
        "\n",
        "print(classification_report(y_test, y_pred))\n",
        "\n",
        "conf_matrix = confusion_matrix(y_test, y_pred)\n",
        "print(conf_matrix)"
      ],
      "metadata": {
        "colab": {
          "base_uri": "https://localhost:8080/"
        },
        "id": "_1aRvaC1q7o5",
        "outputId": "8aea6346-b9d9-4a80-8f80-14c30086c498"
      },
      "id": "_1aRvaC1q7o5",
      "execution_count": 75,
      "outputs": [
        {
          "output_type": "stream",
          "name": "stdout",
          "text": [
            "60/60 [==============================] - 0s 3ms/step\n",
            "Accuracy: 0.49447077409162715\n",
            "              precision    recall  f1-score   support\n",
            "\n",
            "         0.0       0.49      1.00      0.66       939\n",
            "         1.0       0.00      0.00      0.00       960\n",
            "\n",
            "    accuracy                           0.49      1899\n",
            "   macro avg       0.25      0.50      0.33      1899\n",
            "weighted avg       0.24      0.49      0.33      1899\n",
            "\n",
            "[[939   0]\n",
            " [960   0]]\n"
          ]
        },
        {
          "output_type": "stream",
          "name": "stderr",
          "text": [
            "/usr/local/lib/python3.10/dist-packages/sklearn/metrics/_classification.py:1531: UndefinedMetricWarning: Precision is ill-defined and being set to 0.0 in labels with no predicted samples. Use `zero_division` parameter to control this behavior.\n",
            "  _warn_prf(average, modifier, f\"{metric.capitalize()} is\", len(result))\n",
            "/usr/local/lib/python3.10/dist-packages/sklearn/metrics/_classification.py:1531: UndefinedMetricWarning: Precision is ill-defined and being set to 0.0 in labels with no predicted samples. Use `zero_division` parameter to control this behavior.\n",
            "  _warn_prf(average, modifier, f\"{metric.capitalize()} is\", len(result))\n",
            "/usr/local/lib/python3.10/dist-packages/sklearn/metrics/_classification.py:1531: UndefinedMetricWarning: Precision is ill-defined and being set to 0.0 in labels with no predicted samples. Use `zero_division` parameter to control this behavior.\n",
            "  _warn_prf(average, modifier, f\"{metric.capitalize()} is\", len(result))\n"
          ]
        }
      ]
    },
    {
      "cell_type": "code",
      "source": [
        "import matplotlib.pyplot as plt\n",
        "import seaborn as sns\n",
        "from sklearn.metrics import confusion_matrix\n",
        "\n",
        "# ... (Your existing code to calculate y_pred) ...\n",
        "\n",
        "# Plot the confusion matrix\n",
        "plt.figure(figsize=(8, 6))\n",
        "sns.heatmap(conf_matrix, annot=True, fmt='d', cmap='Blues',\n",
        "            xticklabels=np.unique(y_test), yticklabels=np.unique(y_test))\n",
        "plt.xlabel('Predicted Label')\n",
        "plt.ylabel('True Label')\n",
        "plt.title('Confusion Matrix')\n",
        "plt.show()"
      ],
      "metadata": {
        "colab": {
          "base_uri": "https://localhost:8080/",
          "height": 564
        },
        "id": "PdeOu5-zsgYe",
        "outputId": "ed1c9c40-691c-4c61-badb-45a725ac293a"
      },
      "id": "PdeOu5-zsgYe",
      "execution_count": 76,
      "outputs": [
        {
          "output_type": "display_data",
          "data": {
            "text/plain": [
              "<Figure size 800x600 with 2 Axes>"
            ],
            "image/png": "[encoded data removed]"
          },
          "metadata": {}
        }
      ]
    },
    {
      "cell_type": "code",
      "source": [
        "from sklearn.metrics import roc_curve, auc\n",
        "import matplotlib.pyplot as plt\n",
        "\n",
        "# Assuming you have y_test (true labels) and y_pred_proba (predicted probabilities) for the positive class\n",
        "fpr, tpr, thresholds = roc_curve(y_test, y_pred_proba[:, 1])  # Assuming binary classification\n",
        "roc_auc = auc(fpr, tpr)\n",
        "\n",
        "plt.figure()\n",
        "plt.plot(fpr, tpr, color='darkorange', lw=2, label='ROC curve (area = %0.2f)' % roc_auc)\n",
        "plt.plot([0, 1], [0, 1], color='navy', lw=2, linestyle='--')\n",
        "plt.xlim([0.0, 1.0])\n",
        "plt.ylim([0.0, 1.05])\n",
        "plt.xlabel('False Positive Rate')\n",
        "plt.ylabel('True Positive Rate')\n",
        "plt.title('Receiver Operating Characteristic')\n",
        "plt.legend(loc=\"lower right\")\n",
        "plt.show()"
      ],
      "metadata": {
        "colab": {
          "base_uri": "https://localhost:8080/",
          "height": 472
        },
        "id": "ng0TDABesovk",
        "outputId": "ad07fdb3-2e13-4ddd-bcca-6c277ad0ddc0"
      },
      "id": "ng0TDABesovk",
      "execution_count": 77,
      "outputs": [
        {
          "output_type": "display_data",
          "data": {
            "text/plain": [
              "<Figure size 640x480 with 1 Axes>"
            ],
            "image/png": "[encoded data removed]"
          },
          "metadata": {}
        }
      ]
    },
    {
      "cell_type": "code",
      "source": [
        "from sklearn.metrics import precision_recall_curve, average_precision_score\n",
        "import matplotlib.pyplot as plt\n",
        "\n",
        "# Assuming you have y_test (true labels) and y_pred_proba (predicted probabilities) for the positive class\n",
        "precision, recall, _ = precision_recall_curve(y_test, y_pred_proba[:, 1])\n",
        "average_precision = average_precision_score(y_test, y_pred_proba[:, 1])\n",
        "\n",
        "plt.figure()\n",
        "plt.plot(recall, precision, color='blue', lw=2, label='Precision-Recall curve (AP = %0.2f)' % average_precision)\n",
        "plt.xlabel('Recall')\n",
        "plt.ylabel('Precision')\n",
        "plt.title('Precision-Recall Curve')\n",
        "plt.legend(loc=\"lower left\")\n",
        "plt.show()"
      ],
      "metadata": {
        "colab": {
          "base_uri": "https://localhost:8080/",
          "height": 472
        },
        "id": "Zf8k6ku0srif",
        "outputId": "e9fcda53-1c7d-4af5-ff5b-07d2a1ced825"
      },
      "id": "Zf8k6ku0srif",
      "execution_count": 78,
      "outputs": [
        {
          "output_type": "display_data",
          "data": {
            "text/plain": [
              "<Figure size 640x480 with 1 Axes>"
            ],
            "image/png": "[encoded data removed]"
          },
          "metadata": {}
        }
      ]
    },
    {
      "cell_type": "code",
      "source": [
        "!pip install pydot\n",
        "!pip install graphviz\n",
        "from tensorflow.keras.utils import plot_model # Import plot_model from the correct location\n",
        "from tensorflow.keras.models import Sequential\n",
        "from tensorflow.keras.layers import Conv2D, MaxPooling2D, Flatten, Dense\n",
        "\n",
        "# Build the CNN model\n",
        "model = Sequential([\n",
        "    Conv2D(32, (2, 2), activation='relu', input_shape=(3, 3, 1)),\n",
        "    MaxPooling2D((2, 2)),\n",
        "    Flatten(),\n",
        "    Dense(10, activation='softmax')\n",
        "])\n",
        "\n",
        "# Visualize the model architecture\n",
        "plot_model(model, to_file='cnn_model.png', show_shapes=True, show_layer_names=True)\n"
      ],
      "metadata": {
        "colab": {
          "base_uri": "https://localhost:8080/",
          "height": 605
        },
        "id": "jxoBt-4Zivu0",
        "outputId": "cdc91292-0eaf-4393-d0d1-3416e89efc16"
      },
      "id": "jxoBt-4Zivu0",
      "execution_count": 79,
      "outputs": [
        {
          "output_type": "stream",
          "name": "stdout",
          "text": [
            "Requirement already satisfied: pydot in /usr/local/lib/python3.10/dist-packages (1.4.2)\n",
            "Requirement already satisfied: pyparsing>=2.1.4 in /usr/local/lib/python3.10/dist-packages (from pydot) (3.1.2)\n",
            "Requirement already satisfied: graphviz in /usr/local/lib/python3.10/dist-packages (0.20.3)\n"
          ]
        },
        {
          "output_type": "execute_result",
          "data": {
            "image/png": "[encoded data removed]",
            "text/plain": [
              "<IPython.core.display.Image object>"
            ]
          },
          "metadata": {},
          "execution_count": 79
        }
      ]
    },
    {
      "cell_type": "code",
      "source": [
        "#model visualizations\n",
        "import pandas as pd\n",
        "import matplotlib.pyplot as plt\n",
        "\n",
        "data = {'Model': ['Model 1', 'Model 2', 'Model 3', 'Model 4', 'Model 5'],\n",
        "        'Epochs': [10, 20, 10, 30, 20],\n",
        "        'Batch Size': [32, 64, 124, 16, 32],\n",
        "        'Accuracy': [0.4949, 0.5069, 0.5018, 0.4953, 0.5018],\n",
        "        'Precision': [0.50, 0.50, 0.50, 0.50, 0.50],\n",
        "        'Recall': [0.90, 0.75, 1.00, 0.90, 1.00]}\n",
        "\n",
        "df = pd.DataFrame(data)"
      ],
      "metadata": {
        "id": "Nv_Rxw5jzJN9"
      },
      "id": "Nv_Rxw5jzJN9",
      "execution_count": 80,
      "outputs": []
    },
    {
      "cell_type": "code",
      "source": [
        "import matplotlib.pyplot as plt\n",
        "import pandas as pd\n",
        "\n",
        "data = {'Model': ['Model 1', 'Model 2', 'Model 3', 'Model 4', 'Model 5'],\n",
        "        'Epochs': [10, 20, 10, 30, 20],\n",
        "        'Batch Size': [32, 64, 124, 16, 32],\n",
        "        'Accuracy': [0.4949, 0.5069, 0.5018, 0.4953, 0.5018],\n",
        "        'Precision': [0.50, 0.50, 0.50, 0.50, 0.50],\n",
        "        'Recall': [0.90, 0.75, 1.00, 0.90, 1.00]}\n",
        "\n",
        "df = pd.DataFrame(data)\n",
        "\n",
        "# Set the width of the bars\n",
        "bar_width = 0.2\n",
        "\n",
        "# Set the positions of the bars on the x-axis\n",
        "r1 = range(len(df))\n",
        "r2 = [x + bar_width for x in r1]\n",
        "r3 = [x + bar_width for x in r2]\n",
        "\n",
        "# Create the grouped bar chart with high-quality colors\n",
        "plt.figure(figsize=(12, 6))\n",
        "plt.bar(r1, df['Accuracy'], color='#007acc', width=bar_width, edgecolor='grey', label='Accuracy')\n",
        "plt.bar(r2, df['Precision'], color='#5cb85c', width=bar_width, edgecolor='grey', label='Precision')\n",
        "plt.bar(r3, df['Recall'], color='#d9534f', width=bar_width, edgecolor='grey', label='Recall')\n",
        "\n",
        "# Add labels, title, and legend\n",
        "plt.xlabel('Model')\n",
        "plt.ylabel('Score')\n",
        "plt.title('Model Performance Comparison')\n",
        "plt.xticks([r + bar_width for r in range(len(df))], df['Model'])\n",
        "plt.legend()\n",
        "\n",
        "# Show the plot\n",
        "plt.show()"
      ],
      "metadata": {
        "colab": {
          "base_uri": "https://localhost:8080/",
          "height": 474
        },
        "id": "vao-tdFyzim8",
        "outputId": "da155316-49d2-48fd-ec8f-9bcd455d32ad"
      },
      "id": "vao-tdFyzim8",
      "execution_count": 81,
      "outputs": [
        {
          "output_type": "display_data",
          "data": {
            "text/plain": [
              "<Figure size 1200x600 with 1 Axes>"
            ],
            "image/png": "[encoded data removed]"
          },
          "metadata": {}
        }
      ]
    },
    {
      "cell_type": "code",
      "source": [
        "import numpy as np\n",
        "import matplotlib.pyplot as plt\n",
        "\n",
        "# Data for the radar chart\n",
        "categories = ['Accuracy', 'Precision', 'Recall']\n",
        "categories = [*categories, categories[0]]\n",
        "\n",
        "model1 = [0.4949, 0.50, 0.90]\n",
        "model2 = [0.5069, 0.50, 0.75]\n",
        "model3 = [0.5018, 0.50, 1.00]\n",
        "model4 = [0.4953, 0.50, 0.90]\n",
        "model5 = [0.5018, 0.50, 1.00]\n",
        "\n",
        "model1 = [*model1, model1[0]]\n",
        "model2 = [*model2, model2[0]]\n",
        "model3 = [*model3, model3[0]]\n",
        "model4 = [*model4, model4[0]]\n",
        "model5 = [*model5, model5[0]]\n",
        "\n",
        "label_loc = np.linspace(start=0, stop=2 * np.pi, num=len(categories))\n",
        "\n",
        "# Create the radar chart\n",
        "plt.figure(figsize=(8, 8))\n",
        "plt.subplot(polar=True)\n",
        "plt.plot(label_loc, model1, label='Model 1')\n",
        "plt.plot(label_loc, model2, label='Model 2')\n",
        "plt.plot(label_loc, model3, label='Model 3')\n",
        "plt.plot(label_loc, model4, label='Model 4')\n",
        "plt.plot(label_loc, model5, label='Model 5')\n",
        "\n",
        "# Customize the plot\n",
        "plt.title('Model Performance Comparison', size=20)\n",
        "lines, labels = plt.thetagrids(np.degrees(label_loc), labels=categories)\n",
        "plt.legend()\n",
        "plt.show()"
      ],
      "metadata": {
        "colab": {
          "base_uri": "https://localhost:8080/",
          "height": 683
        },
        "id": "tduwivQEzzcF",
        "outputId": "0c3b0212-e674-467c-9f45-fe9bff13e1d5"
      },
      "id": "tduwivQEzzcF",
      "execution_count": 82,
      "outputs": [
        {
          "output_type": "display_data",
          "data": {
            "text/plain": [
              "<Figure size 800x800 with 1 Axes>"
            ],
            "image/png": "[encoded data removed]"
          },
          "metadata": {}
        }
      ]
    },
    {
      "cell_type": "code",
      "source": [
        "import matplotlib.pyplot as plt\n",
        "import pandas as pd\n",
        "\n",
        "# ... (your data loading code)\n",
        "\n",
        "plt.figure(figsize=(10, 6))\n",
        "plt.plot(df['Model'], df['Accuracy'], marker='o', label='Accuracy')\n",
        "plt.plot(df['Model'], df['Precision'], marker='s', label='Precision')\n",
        "plt.plot(df['Model'], df['Recall'], marker='^', label='Recall')\n",
        "plt.xlabel('Model')\n",
        "plt.ylabel('Score')\n",
        "plt.title('Model Performance Comparison')\n",
        "plt.legend()\n",
        "plt.grid(True)\n",
        "plt.show()"
      ],
      "metadata": {
        "colab": {
          "base_uri": "https://localhost:8080/",
          "height": 558
        },
        "id": "cqAoG3MR0H_e",
        "outputId": "fd8f30ec-580e-48a9-e38a-3576cc27f2d8"
      },
      "id": "cqAoG3MR0H_e",
      "execution_count": 83,
      "outputs": [
        {
          "output_type": "display_data",
          "data": {
            "text/plain": [
              "<Figure size 1000x600 with 1 Axes>"
            ],
            "image/png": "[encoded data removed]"
          },
          "metadata": {}
        }
      ]
    },
    {
      "cell_type": "code",
      "source": [
        "import matplotlib.pyplot as plt\n",
        "import pandas as pd\n",
        "\n",
        "data = {'Learning Rate': [0.001, 0.01, 0.05, 0.1],\n",
        "        'Accuracy': [51.18, 52.12, 51.68, 51.05],\n",
        "        'Precision': [50, 50, 50, 50],\n",
        "        'Recall': [100, 100, 100, 100]}\n",
        "\n",
        "df = pd.DataFrame(data)\n",
        "\n",
        "# Set the width of the bars\n",
        "bar_width = 0.2\n",
        "\n",
        "# Set the positions of the bars on the x-axis\n",
        "r1 = range(len(df))\n",
        "r2 = [x + bar_width for x in r1]\n",
        "r3 = [x + bar_width for x in r2]\n",
        "\n",
        "# Create the grouped bar chart with learning rate as color\n",
        "plt.figure(figsize=(10, 6))\n",
        "\n",
        "# Define a color map for learning rates\n",
        "colors = plt.cm.viridis(df['Learning Rate'] / max(df['Learning Rate']))\n",
        "\n",
        "plt.bar(r1, df['Accuracy'], color=colors, width=bar_width, edgecolor='grey', label='Accuracy')\n",
        "plt.bar(r2, df['Precision'], color=colors, width=bar_width, edgecolor='grey', label='Precision')\n",
        "plt.bar(r3, df['Recall'], color=colors, width=bar_width, edgecolor='grey', label='Recall')\n",
        "\n",
        "# Add labels, title, and legend\n",
        "plt.xlabel('Learning rate')\n",
        "plt.ylabel('Percentage')\n",
        "plt.title('Performance Metrics for Different Learning Rates')\n",
        "#The code was changed here to provide tick labels for each learning rate.\n",
        "plt.xticks([r + bar_width for r in range(len(df))], df['Learning Rate'])\n",
        "plt.legend()\n",
        "\n",
        "# Add colorbar for learning rate\n",
        "sm = plt.cm.ScalarMappable(cmap=plt.cm.viridis, norm=plt.Normalize(vmin=min(df['Learning Rate']), vmax=max(df['Learning Rate'])))\n",
        "sm.set_array([])\n",
        "cbar = plt.colorbar(sm)\n",
        "cbar.set_label('Learning Rate')\n",
        "\n",
        "# Show the plot\n",
        "plt.show()"
      ],
      "metadata": {
        "colab": {
          "base_uri": "https://localhost:8080/",
          "height": 619
        },
        "id": "VsEJAl_a0kTi",
        "outputId": "2e8cec68-8ff0-4698-d604-e2653f462e04"
      },
      "id": "VsEJAl_a0kTi",
      "execution_count": 84,
      "outputs": [
        {
          "output_type": "stream",
          "name": "stderr",
          "text": [
            "<ipython-input-84-9e1639569627>:40: MatplotlibDeprecationWarning: Unable to determine Axes to steal space for Colorbar. Using gca(), but will raise in the future. Either provide the *cax* argument to use as the Axes for the Colorbar, provide the *ax* argument to steal space from it, or add *mappable* to an Axes.\n",
            "  cbar = plt.colorbar(sm)\n"
          ]
        },
        {
          "output_type": "display_data",
          "data": {
            "text/plain": [
              "<Figure size 1000x600 with 2 Axes>"
            ],
            "image/png": "[encoded data removed]"
          },
          "metadata": {}
        }
      ]
    },
    {
      "cell_type": "code",
      "source": [
        "import matplotlib.pyplot as plt\n",
        "\n",
        "# Data for the plot\n",
        "folds = ['Fold 1', 'Fold 2', 'Fold 3', 'Fold 4', 'Fold 5']\n",
        "accuracy = [50.86, 50.05, 52.95, 51.36, 52.45]\n",
        "\n",
        "# Create a bar chart\n",
        "plt.figure(figsize=(8, 6))\n",
        "plt.bar(folds, accuracy, color='#007acc')\n",
        "\n",
        "# Customize the plot\n",
        "plt.xlabel('Fold')\n",
        "plt.ylabel('Accuracy (%)')\n",
        "plt.title('Cross-Validation Accuracy')\n",
        "plt.ylim(48, 55)  # Set y-axis limits for better visualization\n",
        "\n",
        "# Show the plot\n",
        "plt.show()"
      ],
      "metadata": {
        "colab": {
          "base_uri": "https://localhost:8080/",
          "height": 564
        },
        "id": "IWad7ShU3Jg6",
        "outputId": "a4f4ec4b-fecd-4a5e-d31e-87b12d8f998b"
      },
      "id": "IWad7ShU3Jg6",
      "execution_count": 85,
      "outputs": [
        {
          "output_type": "display_data",
          "data": {
            "text/plain": [
              "<Figure size 800x600 with 1 Axes>"
            ],
            "image/png": "[encoded data removed]"
          },
          "metadata": {}
        }
      ]
    },
    {
      "cell_type": "code",
      "source": [
        "import matplotlib.pyplot as plt\n",
        "\n",
        "# Data for the line chart\n",
        "folds = ['Fold 1', 'Fold 2', 'Fold 3', 'Fold 4', 'Fold 5']\n",
        "accuracy = [50.86, 50.05, 52.95, 51.36, 52.45]\n",
        "\n",
        "# Create the line chart\n",
        "plt.figure(figsize=(8, 6))\n",
        "plt.plot(folds, accuracy, marker='o', linestyle='-')\n",
        "\n",
        "# Customize the plot\n",
        "plt.xlabel('Fold')\n",
        "plt.ylabel('Accuracy (%)')\n",
        "plt.title('Cross-Validation Accuracy')\n",
        "plt.grid(True)\n",
        "plt.show()"
      ],
      "metadata": {
        "colab": {
          "base_uri": "https://localhost:8080/",
          "height": 564
        },
        "id": "1GpVVy3I3bkE",
        "outputId": "e5069767-e85d-4cda-a667-c09668ac3ac2"
      },
      "id": "1GpVVy3I3bkE",
      "execution_count": 86,
      "outputs": [
        {
          "output_type": "display_data",
          "data": {
            "text/plain": [
              "<Figure size 800x600 with 1 Axes>"
            ],
            "image/png": "[encoded data removed]"
          },
          "metadata": {}
        }
      ]
    }
  ],
  "metadata": {
    "kernelspec": {
      "display_name": "Python 3 (ipykernel)",
      "language": "python",
      "name": "python3"
    },
    "language_info": {
      "codemirror_mode": {
        "name": "ipython",
        "version": 3
      },
      "file_extension": ".py",
      "mimetype": "text/x-python",
      "name": "python",
      "nbconvert_exporter": "python",
      "pygments_lexer": "ipython3",
      "version": "3.11.5"
    },
    "colab": {
      "provenance": []
    }
  },
  "nbformat": 4,
  "nbformat_minor": 5
}